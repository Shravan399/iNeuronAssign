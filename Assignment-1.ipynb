{
 "cells": [
  {
   "cell_type": "markdown",
   "metadata": {},
   "source": [
    "### <font color = blue>**Task 1**</font>"
   ]
  },
  {
   "cell_type": "markdown",
   "metadata": {},
   "source": [
    "**1.** Install Jupyter notebook and run the first program and share the screenshot of the output"
   ]
  },
  {
   "cell_type": "code",
   "execution_count": 3,
   "metadata": {},
   "outputs": [
    {
     "name": "stdout",
     "output_type": "stream",
     "text": [
      "Hello World\n"
     ]
    }
   ],
   "source": [
    "print(\"Hello World\")"
   ]
  },
  {
   "cell_type": "markdown",
   "metadata": {},
   "source": [
    "**2.** Write a program which will find all such numbers which are divisible by 7 but are not a multiple of 5, between 2000 and 3200 (both included). The numbers obtained should be printed in a comma-separated sequence on a single line."
   ]
  },
  {
   "cell_type": "markdown",
   "metadata": {},
   "source": [
    "**Solution:**"
   ]
  },
  {
   "cell_type": "code",
   "execution_count": 4,
   "metadata": {},
   "outputs": [
    {
     "name": "stdout",
     "output_type": "stream",
     "text": [
      "Enter two numbers\n",
      "2000 3200\n",
      "\n",
      "The numbers which are divisible by 7 but are not a multiple of 5 between 2000 and 3200: \n",
      "\n",
      "2002,2009,2016,2023,2037,2044,2051,2058,2072,2079,2086,2093,2107,2114,2121,2128,2142,2149,2156,2163,2177,2184,2191,2198,2212,2219,2226,2233,2247,2254,2261,2268,2282,2289,2296,2303,2317,2324,2331,2338,2352,2359,2366,2373,2387,2394,2401,2408,2422,2429,2436,2443,2457,2464,2471,2478,2492,2499,2506,2513,2527,2534,2541,2548,2562,2569,2576,2583,2597,2604,2611,2618,2632,2639,2646,2653,2667,2674,2681,2688,2702,2709,2716,2723,2737,2744,2751,2758,2772,2779,2786,2793,2807,2814,2821,2828,2842,2849,2856,2863,2877,2884,2891,2898,2912,2919,2926,2933,2947,2954,2961,2968,2982,2989,2996,3003,3017,3024,3031,3038,3052,3059,3066,3073,3087,3094,3101,3108,3122,3129,3136,3143,3157,3164,3171,3178,3192,3199\n"
     ]
    }
   ],
   "source": [
    "print(\"Enter two numbers\")\n",
    "numbers = list(map(int, input().split()))\n",
    "\n",
    "lower_limit = numbers[0]\n",
    "upper_limit = numbers[1]\n",
    "seq = []\n",
    "for num in range(lower_limit, upper_limit+1): # Adding +1 in upper_limit to include the upper_limt\n",
    "    if num%7 == 0 and num%5 != 0:\n",
    "        seq.append(str(num))\n",
    "\n",
    "print(f\"\\nThe numbers which are divisible by 7 but are not a multiple of 5 between {lower_limit} and {upper_limit}: \\n\")\n",
    "print(','.join(seq))        "
   ]
  },
  {
   "cell_type": "markdown",
   "metadata": {},
   "source": [
    "**3.** Write a Python program to accept the user's first and last name and then getting them printed in the the reverse order with a space between first name and last name."
   ]
  },
  {
   "cell_type": "markdown",
   "metadata": {},
   "source": [
    "**Solution:**"
   ]
  },
  {
   "cell_type": "code",
   "execution_count": 5,
   "metadata": {},
   "outputs": [
    {
     "name": "stdout",
     "output_type": "stream",
     "text": [
      "Please enter your full name\n",
      "Shahrukh Khan\n",
      "The reverse is Khan Shahrukh\n"
     ]
    }
   ],
   "source": [
    "print(\"Please enter your full name\")\n",
    "full_name =  input().split()\n",
    "\n",
    "print(f\"The reverse is {full_name[1]} {full_name[0]}\")"
   ]
  },
  {
   "cell_type": "markdown",
   "metadata": {},
   "source": [
    "**4.** Write a Python program to find the volume of a sphere with diameter 12 cm. <br>\n",
    "**Formula:** V=4/3 * π * r 3"
   ]
  },
  {
   "cell_type": "markdown",
   "metadata": {},
   "source": [
    "**Solution:**"
   ]
  },
  {
   "cell_type": "code",
   "execution_count": 6,
   "metadata": {},
   "outputs": [
    {
     "name": "stdout",
     "output_type": "stream",
     "text": [
      "Enter the diameter: 12\n",
      "The volume of the sphere with diameter 12cm is 904.32 cm3\n"
     ]
    }
   ],
   "source": [
    "import math\n",
    "\n",
    "diameter = int(input(\"Enter the diameter: \"))\n",
    "pi = 3.14 # Constant\n",
    "\n",
    "volume = (4*pi*math.pow((diameter/2),3))/3\n",
    "\n",
    "print(f\"The volume of the sphere with diameter {diameter}cm is {volume} cm3\")"
   ]
  },
  {
   "cell_type": "markdown",
   "metadata": {},
   "source": [
    "### <font color = blue>**Task 2**</font>"
   ]
  },
  {
   "cell_type": "markdown",
   "metadata": {},
   "source": [
    "**1.** Write a program which accepts a sequence of comma-separated numbers from console and\n",
    "generate a list."
   ]
  },
  {
   "cell_type": "markdown",
   "metadata": {},
   "source": [
    "**Solution:**"
   ]
  },
  {
   "cell_type": "code",
   "execution_count": 7,
   "metadata": {},
   "outputs": [
    {
     "name": "stdout",
     "output_type": "stream",
     "text": [
      "Enter comma-seperated numbers\n",
      "1,2,3,4,6,10\n",
      "The output Sequence:\n",
      "[1, 2, 3, 4, 6, 10]\n"
     ]
    }
   ],
   "source": [
    "print(\"Enter comma-seperated numbers\")\n",
    "num_sequence = list(map(int, input().split(\",\"))) # split it on the basis of comma\n",
    "print(f\"The output Sequence:\\n{num_sequence}\")"
   ]
  },
  {
   "cell_type": "markdown",
   "metadata": {},
   "source": [
    "**2.** Create the below pattern using nested for loop in Python.\n",
    "\n",
    "$*$ <br>\n",
    "$* *$ <br>\n",
    "$* * *$ <br>\n",
    "$* * * *$ <br>\n",
    "$* * * * *$ <br>\n",
    "$* * * *$ <br>\n",
    "$* * *$<br>\n",
    "$* *$<br>\n",
    "$*$<br>"
   ]
  },
  {
   "cell_type": "markdown",
   "metadata": {},
   "source": [
    "**Solution**"
   ]
  },
  {
   "cell_type": "code",
   "execution_count": 9,
   "metadata": {},
   "outputs": [
    {
     "name": "stdout",
     "output_type": "stream",
     "text": [
      "Enter the value of n: 7\n",
      "\n",
      "\n",
      "*\n",
      "\n",
      "**\n",
      "\n",
      "***\n",
      "\n",
      "****\n",
      "\n",
      "*****\n",
      "\n",
      "******\n",
      "\n",
      "*******\n",
      "\n",
      "******\n",
      "\n",
      "*****\n",
      "\n",
      "****\n",
      "\n",
      "***\n",
      "\n",
      "**\n",
      "\n",
      "*\n",
      "\n"
     ]
    }
   ],
   "source": [
    "# Program using nested for loop\n",
    "n = int(input(\"Enter the value of n: \"))\n",
    "\n",
    "# Program logic \n",
    "for i in range(n):\n",
    "    for j in range(i):\n",
    "        print('*', end =\"\")\n",
    "    print('\\n')\n",
    "    \n",
    "for i in range(n,0,-1):\n",
    "    for j in range(i):\n",
    "        print('*', end =\"\")\n",
    "    print('\\n')\n",
    "    "
   ]
  },
  {
   "cell_type": "markdown",
   "metadata": {},
   "source": [
    "**Alternate Solution:**"
   ]
  },
  {
   "cell_type": "code",
   "execution_count": 10,
   "metadata": {},
   "outputs": [
    {
     "name": "stdout",
     "output_type": "stream",
     "text": [
      "Enter the value of n: 7\n",
      "\n",
      "*\n",
      "**\n",
      "***\n",
      "****\n",
      "*****\n",
      "******\n",
      "*******\n",
      "******\n",
      "*****\n",
      "****\n",
      "***\n",
      "**\n",
      "*\n"
     ]
    }
   ],
   "source": [
    "n = int(input(\"Enter the value of n: \"))\n",
    "\n",
    "# Program Logic\n",
    "for i in range(n):\n",
    "    print(i*'*')\n",
    "for i in range(n,0,-1):\n",
    "    print(i*'*')  "
   ]
  },
  {
   "cell_type": "markdown",
   "metadata": {},
   "source": [
    "**3.** Write a Python program to reverse a word after accepting the input from the user.\\\n",
    "**Sample Output:** \\\n",
    "Input word:&nbsp; &nbsp;AcadGild \\\n",
    "Output:&nbsp;&nbsp;dilGdacA "
   ]
  },
  {
   "cell_type": "markdown",
   "metadata": {},
   "source": [
    "**Solution:**"
   ]
  },
  {
   "cell_type": "code",
   "execution_count": 11,
   "metadata": {},
   "outputs": [
    {
     "name": "stdout",
     "output_type": "stream",
     "text": [
      "glAcid\n",
      "The reverse of glAcid is dicAlg\n"
     ]
    }
   ],
   "source": [
    "word = input()\n",
    "\n",
    "# Program Logic\n",
    "reverse_word = word[::-1]\n",
    "print(f\"The reverse of {word} is {reverse_word}\")\n"
   ]
  },
  {
   "cell_type": "markdown",
   "metadata": {},
   "source": [
    "**Alternate Solution :**"
   ]
  },
  {
   "cell_type": "code",
   "execution_count": 12,
   "metadata": {
    "scrolled": true
   },
   "outputs": [
    {
     "name": "stdout",
     "output_type": "stream",
     "text": [
      "glAcid\n",
      "The reverse of glAcid is dicAlg\n"
     ]
    }
   ],
   "source": [
    "word = input()\n",
    "\n",
    "reverse_word = \"\"\n",
    "\n",
    "for i in range(len(word)-1, -1, -1):\n",
    "    reverse_word+=word[i]\n",
    "    \n",
    "print(f\"The reverse of {word} is {reverse_word}\")"
   ]
  },
  {
   "cell_type": "markdown",
   "metadata": {},
   "source": [
    "**4.** Write a Python Program to print the given string in the format specified in the ​sample output.<br>\n",
    "WE, THE PEOPLE OF INDIA, having solemnly resolved to constitute India into a\n",
    "SOVEREIGN, SOCIALIST, SECULAR, DEMOCRATIC REPUBLIC and to secure to all\n",
    "its citizens.<br>\n",
    "**Sample Output:**<br>\n",
    "WE, THE PEOPLE OF INDIA,<br>\n",
    "&nbsp;&nbsp;&nbsp;&nbsp;having solemnly resolved to constitute India into a SOVEREIGN, !<br>\n",
    "&nbsp;&nbsp;&nbsp;&nbsp;&nbsp;&nbsp;&nbsp;&nbsp;SOCIALIST, SECULAR, DEMOCRATIC REPUBLIC <br>\n",
    "&nbsp;&nbsp;&nbsp;&nbsp;&nbsp;&nbsp;&nbsp;&nbsp;and to secure to all its citizens<br>"
   ]
  },
  {
   "cell_type": "markdown",
   "metadata": {},
   "source": [
    "**Solution:**"
   ]
  },
  {
   "cell_type": "code",
   "execution_count": 1,
   "metadata": {},
   "outputs": [
    {
     "name": "stdout",
     "output_type": "stream",
     "text": [
      "WE, THE PEOPLE OF INDIA,\n",
      "\t having solemnly resolved to constitute India into a SOVEREIGN,in\n",
      "\t\t SOCIALIST, SECULAR, DEMOCRATIC REPUBLIC\n",
      "\t\t and to secure to all its citizens.\n"
     ]
    }
   ],
   "source": [
    "print(\"WE, THE PEOPLE OF INDIA,\\n\\t having solemnly resolved to constitute India into a SOVEREIGN,in\\n\\t\\t SOCIALIST, SECULAR, DEMOCRATIC REPUBLIC\\n\\t\\t and to secure to all its citizens.\")"
   ]
  },
  {
   "cell_type": "code",
   "execution_count": null,
   "metadata": {},
   "outputs": [],
   "source": []
  }
 ],
 "metadata": {
  "kernelspec": {
   "display_name": "Python 3",
   "language": "python",
   "name": "python3"
  },
  "language_info": {
   "codemirror_mode": {
    "name": "ipython",
    "version": 3
   },
   "file_extension": ".py",
   "mimetype": "text/x-python",
   "name": "python",
   "nbconvert_exporter": "python",
   "pygments_lexer": "ipython3",
   "version": "3.7.3"
  }
 },
 "nbformat": 4,
 "nbformat_minor": 4
}
