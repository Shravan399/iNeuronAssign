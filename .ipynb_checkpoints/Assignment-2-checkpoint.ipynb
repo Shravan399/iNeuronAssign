{
 "cells": [
  {
   "cell_type": "markdown",
   "metadata": {},
   "source": [
    "## Machine Learning Assignment -2"
   ]
  },
  {
   "cell_type": "markdown",
   "metadata": {},
   "source": [
    "##### **1.** Write a Python Program to implement your own myreduce() function which works exactly like Python's built-in function reduce()."
   ]
  },
  {
   "cell_type": "markdown",
   "metadata": {},
   "source": [
    "**Solution:** <br>"
   ]
  },
  {
   "cell_type": "code",
   "execution_count": 4,
   "metadata": {},
   "outputs": [],
   "source": [
    "def myreduce(*args):\n",
    "    \"\"\"\n",
    "    Reduce() performs some computaion on a list and returns the result.\n",
    "    \n",
    "    Syntex: myreduce(function, iterable, [initializer])\n",
    "    Here, initializer is optional\n",
    "    \"\"\"\n",
    "    \n",
    "    function_name = args[0]\n",
    "    argument = args[1]\n",
    "    \n",
    "    l = len(args)\n",
    "    \n",
    "    # initialize            \n",
    "    if l == 3:\n",
    "        initial_value = args[2]\n",
    "    else:\n",
    "        initial_value = argument[0]\n",
    "    \n",
    "       \n",
    "    for i in range(1,len(argument)):           \n",
    "        initial_value = function_name(initial_value, argument[i])    \n",
    "    return initial_value\n",
    "    "
   ]
  },
  {
   "cell_type": "markdown",
   "metadata": {},
   "source": [
    "###### 1. Usage of MyReduce() to find the product of a given list "
   ]
  },
  {
   "cell_type": "code",
   "execution_count": 11,
   "metadata": {},
   "outputs": [
    {
     "name": "stdout",
     "output_type": "stream",
     "text": [
      "24\n"
     ]
    }
   ],
   "source": [
    "def do_product(x1, x2):\n",
    "    return x1*x2\n",
    "\n",
    "\n",
    "lst = [1,2,3,4]\n",
    "print(myreduce(do_product, lst))"
   ]
  },
  {
   "cell_type": "markdown",
   "metadata": {},
   "source": [
    "###### 2. Usage of MyReduce() with lambda function"
   ]
  },
  {
   "cell_type": "code",
   "execution_count": 8,
   "metadata": {},
   "outputs": [
    {
     "name": "stdout",
     "output_type": "stream",
     "text": [
      "24\n"
     ]
    }
   ],
   "source": [
    "product = myreduce(lambda x,y:x*y, [1,2,3,4],1)\n",
    "print(product)"
   ]
  },
  {
   "cell_type": "markdown",
   "metadata": {},
   "source": [
    "###### 3. Usage of MyReduce() without giving the initializer"
   ]
  },
  {
   "cell_type": "code",
   "execution_count": 12,
   "metadata": {},
   "outputs": [
    {
     "name": "stdout",
     "output_type": "stream",
     "text": [
      "10\n"
     ]
    }
   ],
   "source": [
    "def do_product(x1, x2):\n",
    "    return x1*x2\n",
    "\n",
    "\n",
    "total = myreduce(do_sum, [1,2,3,4])\n",
    "print(total)"
   ]
  },
  {
   "cell_type": "markdown",
   "metadata": {},
   "source": [
    "##### 1.2. Write a Python program to implement your own myfilter() function which works exactly like Python's built-in function filter()"
   ]
  },
  {
   "cell_type": "markdown",
   "metadata": {},
   "source": [
    "**Solution:**    "
   ]
  },
  {
   "cell_type": "code",
   "execution_count": 13,
   "metadata": {},
   "outputs": [],
   "source": [
    "def myfilter(function_name, arguments):\n",
    "    \"\"\"\n",
    "    Syntex: myfilter(function, iterable)\n",
    "    \n",
    "    *function: tests if elements of an iterable returns true or false\n",
    "    *iterable - input list which is to be filterd\n",
    "    \n",
    "    \"\"\"\n",
    "    \n",
    "    result = []\n",
    "    if function_name == None:\n",
    "        for item in arguments:\n",
    "            if bool(item) == True:\n",
    "                result.append(item)\n",
    "    else:\n",
    "        for item in arguments:\n",
    "            ans = function_name(item)\n",
    "            if ans is True:\n",
    "                result.append(item)\n",
    "    return result\n",
    "       "
   ]
  },
  {
   "cell_type": "markdown",
   "metadata": {},
   "source": [
    "###### Usage of myfilter () to filter vowels from a list of alphabets"
   ]
  },
  {
   "cell_type": "code",
   "execution_count": 46,
   "metadata": {},
   "outputs": [],
   "source": [
    "def filterVowels(alphabet):\n",
    "    vowels = ['a','e','i','o','u']\n",
    "    \n",
    "    if alphabet in vowels:\n",
    "        return True\n",
    "    else:\n",
    "        return False"
   ]
  },
  {
   "cell_type": "code",
   "execution_count": 51,
   "metadata": {},
   "outputs": [
    {
     "name": "stdout",
     "output_type": "stream",
     "text": [
      "['a', 'e', 'i', 'o']\n"
     ]
    }
   ],
   "source": [
    "alphabets = ['a','b','d','e','i','j','o']\n",
    "filteredVowels = myfilter(filterVowels, alphabets)\n",
    "print(filteredVowels)"
   ]
  },
  {
   "cell_type": "markdown",
   "metadata": {},
   "source": [
    "###### Usage of myfilter() without passing the function name as argument"
   ]
  },
  {
   "cell_type": "code",
   "execution_count": 59,
   "metadata": {},
   "outputs": [
    {
     "name": "stdout",
     "output_type": "stream",
     "text": [
      "[1, 'a', True, '0']\n"
     ]
    }
   ],
   "source": [
    "randomList = [1,'a',0, False, True, '0']\n",
    "\n",
    "filteredList = myfilter(None, randomList)\n",
    "print(filteredList)"
   ]
  },
  {
   "cell_type": "markdown",
   "metadata": {},
   "source": [
    "##### **2.** Write List comprehensions to produce the following List <br>\n",
    "['A', 'C', 'A', 'D', 'G', 'I', ’L’, ‘ D’] <br>\n",
    "['x', 'xx', 'xxx', 'xxxx', 'y', 'yy', 'yyy', 'yyyy', 'z', 'zz', 'zzz', 'zzzz'] <br>\n",
    "['x', 'y', 'z', 'xx', 'yy', 'zz', 'xx', 'yy', 'zz', 'xxxx', 'yyyy', 'zzzz'] <br>\n",
    "[[2], [3], [4], [3], [4], [5], [4], [5], [6]] <br>\n",
    "[[2, 3, 4, 5], [3, 4, 5, 6], [4, 5, 6, 7], [5, 6, 7, 8]] <br>\n",
    "[(1, 1), (2, 1), (3, 1), (1, 2), (2, 2), (3, 2), (1, 3), (2, 3), (3, 3)] <br>\n"
   ]
  },
  {
   "cell_type": "markdown",
   "metadata": {},
   "source": [
    "**Solution:**"
   ]
  },
  {
   "cell_type": "code",
   "execution_count": 1,
   "metadata": {},
   "outputs": [
    {
     "name": "stdout",
     "output_type": "stream",
     "text": [
      "['A', 'C', 'A', 'D', 'G', 'I', 'L', 'D']\n"
     ]
    }
   ],
   "source": [
    "# Pattern to be printed\n",
    "#['A', 'C', 'A', 'D', 'G', 'I', ’L’, ‘ D’] \n",
    "\n",
    "input_str = \"ACADGILD\"\n",
    "\n",
    "output = [item for item in str]\n",
    "\n",
    "print(output)"
   ]
  },
  {
   "cell_type": "code",
   "execution_count": 5,
   "metadata": {},
   "outputs": [
    {
     "name": "stdout",
     "output_type": "stream",
     "text": [
      "['x', 'xx', 'xxx', 'xxxx', 'y', 'yy', 'yyy', 'yyyy', 'z', 'zz', 'zzz', 'zzzz']\n"
     ]
    }
   ],
   "source": [
    "# Pattern to be printed\n",
    "#['x', 'xx', 'xxx', 'xxxx', 'y', 'yy', 'yyy', 'yyyy', 'z', 'zz', 'zzz', 'zzzz']\n",
    "\n",
    "input_str = ['x', 'y' ,'z']\n",
    "\n",
    "out = [item*i for item in input_str for i in range(1,5)]\n",
    "    \n",
    "print(out)\n"
   ]
  },
  {
   "cell_type": "code",
   "execution_count": 6,
   "metadata": {},
   "outputs": [
    {
     "name": "stdout",
     "output_type": "stream",
     "text": [
      "['x', 'y', 'z', 'xx', 'yy', 'zz', 'xxx', 'yyy', 'zzz', 'xxxx', 'yyyy', 'zzzz']\n"
     ]
    }
   ],
   "source": [
    "# Pattern to be printed\n",
    "#['x', 'y', 'z', 'xx', 'yy', 'zz', 'xxx', 'yyy', 'zzz', 'xxxx', 'yyyy', 'zzzz'] \n",
    "\n",
    "input_str = ['x', 'y' ,'z']\n",
    "\n",
    "out = [item*i  for i in range(1,5) for item in input_str]\n",
    "    \n",
    "print(out)"
   ]
  },
  {
   "cell_type": "code",
   "execution_count": 30,
   "metadata": {},
   "outputs": [
    {
     "name": "stdout",
     "output_type": "stream",
     "text": [
      "[[2], [3], [4], [3], [4], [5], [4], [5], [6]]\n"
     ]
    }
   ],
   "source": [
    "#Pattern to be printed\n",
    "#[[2], [3], [4], [3], [4], [5], [4], [5], [6]] \n",
    "\n",
    "inp1 = [2,3,4]\n",
    "  \n",
    "out1 = [[item+i] for item in inp1 for i in range(3)]\n",
    "print(out1)\n",
    "\n",
    "    "
   ]
  },
  {
   "cell_type": "code",
   "execution_count": 31,
   "metadata": {},
   "outputs": [
    {
     "name": "stdout",
     "output_type": "stream",
     "text": [
      "[[2, 3, 4, 5], [3, 4, 5, 6], [4, 5, 6, 7], [5, 6, 7, 8]]\n"
     ]
    }
   ],
   "source": [
    "# Pattern to be printed\n",
    "#[[2, 3, 4, 5], [3, 4, 5, 6], [4, 5, 6, 7], [5, 6, 7, 8]]\n",
    "\n",
    "inp2 = [2,3,4,5]\n",
    "out2 = [[item + i for item in inp2] for i in range(4)]\n",
    "print(out2)"
   ]
  },
  {
   "cell_type": "code",
   "execution_count": 37,
   "metadata": {},
   "outputs": [
    {
     "name": "stdout",
     "output_type": "stream",
     "text": [
      "[(1, 1), (2, 1), (3, 1), (1, 2), (2, 2), (3, 2), (1, 3), (2, 3), (3, 3)]\n"
     ]
    }
   ],
   "source": [
    "# Pattern to be printed\n",
    "# [(1, 1), (2, 1), (3, 1), (1, 2), (2, 2), (3, 2), (1, 3), (2, 3), (3, 3)]\n",
    "\n",
    "output_list = [(i,j) for j in range(1,4) for i in range(1,4)]\n",
    "print(output_list)\n",
    "    "
   ]
  },
  {
   "cell_type": "markdown",
   "metadata": {},
   "source": [
    "##### **3.** Implement a function longestWord() that takes a list of words and returns the longest one."
   ]
  },
  {
   "cell_type": "markdown",
   "metadata": {},
   "source": [
    "**Solution:**"
   ]
  },
  {
   "cell_type": "code",
   "execution_count": 46,
   "metadata": {},
   "outputs": [
    {
     "name": "stdout",
     "output_type": "stream",
     "text": [
      "Enter Words: reena kasana sheeshpalsingh\n",
      "The longest word entered is: sheeshpalsingh\n"
     ]
    }
   ],
   "source": [
    "def longestWord(words):\n",
    "    \"\"\"\n",
    "    This function takes a list of words and returns the longest one.\n",
    "    \"\"\"\n",
    "\n",
    "    longestWord = ''   # taking a empty string\n",
    "    longest_length = 0\n",
    "\n",
    "    for word in words:\n",
    "        # Check if the length of the given word is larger than the longest word\n",
    "        if len(word)>longest_length:\n",
    "            longestWord = word       # replace the longest word with the word \n",
    "            longest_length = len(word)\n",
    "\n",
    "    return longestWord\n",
    "\n",
    "# Main Function: Calling the function\n",
    "if __name__ == \"__main__\":\n",
    "    words = input(\"Enter Words: \").split()\n",
    "    print(f\"The longest word entered is: {longestWord(words)}\")\n",
    "    "
   ]
  },
  {
   "cell_type": "markdown",
   "metadata": {},
   "source": [
    "##### **4.** Write a Python Program(with class concepts) to find the area of the triangle using the below formula.<br> &nbsp; &nbsp;area = (s*(s-a)*(s-b)*(s-c)) ** 0.5 .<br>**Note:** Function to take the length of the sides of triangle from user should be defined in the parent class and function to calculate the area should be defined in subclass."
   ]
  },
  {
   "cell_type": "markdown",
   "metadata": {},
   "source": [
    "**Solution:**"
   ]
  },
  {
   "cell_type": "code",
   "execution_count": 11,
   "metadata": {},
   "outputs": [
    {
     "name": "stdout",
     "output_type": "stream",
     "text": [
      "This is a rectangle with sides 23, 34, and 45\n",
      "381.649053450942\n"
     ]
    }
   ],
   "source": [
    "import math\n",
    "\n",
    "class Area():\n",
    "    def __init__(self,a,b,c):\n",
    "        self.a = a\n",
    "        self.b = b\n",
    "        self.c = c\n",
    "        \n",
    "    def __str__(self):\n",
    "        \"\"\" Return a descriptive instance, invoked by print() and str() \n",
    "        \"\"\"\n",
    "        return \"This is a rectangle with sides {}, {}, and {}\".format(self.a,self.b,self.c)            \n",
    "    \n",
    "    def calculate_area(self):\n",
    "        \n",
    "        s = (self.a+self.b+self.c)/2\n",
    "        area = math.sqrt(s*(s-self.a)*(s-self.b)*(s-self.c))\n",
    "        return area\n",
    "        \n",
    "\n",
    "if __name__ == '__main__':\n",
    "    t = Area(23, 34, 45)\n",
    "    print(t)\n",
    "\n",
    "    print(t.calculate_area())\n",
    "        "
   ]
  },
  {
   "cell_type": "code",
   "execution_count": 29,
   "metadata": {},
   "outputs": [
    {
     "name": "stdout",
     "output_type": "stream",
     "text": [
      "First Side:25\n",
      "Second Side:25\n",
      "Third Side:25\n",
      "This is a rectangle with sides 25, 25, and 25\n",
      "270.6329386826371\n"
     ]
    }
   ],
   "source": [
    "import math\n",
    "\n",
    "class Area():\n",
    "    def __init__(self, a, b, c):\n",
    "        self.a = a\n",
    "        self.b = b\n",
    "        self.c = c\n",
    "        \n",
    "    @classmethod   # decorator method to get the user from the input\n",
    "    def from_input(cls):\n",
    "        return cls(int(input(\"First Side:\")),\n",
    "                   int(input(\"Second Side:\")),\n",
    "                   int(input(\"Third Side:\"))\n",
    "                  )\n",
    "    \n",
    "    def __str__(self):\n",
    "        \"\"\" Return a descriptive instance, invoked by print() and str() \"\"\"\n",
    "        return \"This is a rectangle with sides {}, {}, and {}\".format(self.a,self.b,self.c)            \n",
    "    \n",
    "        \n",
    "class AreaTraingle(Area):\n",
    "    def __init__(self,a,b,c):\n",
    "        \"\"\" Initializer\"\"\"\n",
    "        super().__init__(a,b,c)\n",
    "#         self.a = a\n",
    "#         self.b = b\n",
    "#         self.c = c\n",
    "            \n",
    "    def calculate_area(self):\n",
    "        \n",
    "        s = (self.a+self.b+self.c)/2\n",
    "        area = math.sqrt(s*(s-self.a)*(s-self.b)*(s-self.c))\n",
    "        return area\n",
    "        \n",
    "\n",
    "if __name__ == '__main__':\n",
    "    t = AreaTraingle.from_input()\n",
    "    \n",
    "    print(t)\n",
    "\n",
    "    print(t.calculate_area())\n",
    "    \n",
    "    \n",
    "        "
   ]
  },
  {
   "cell_type": "code",
   "execution_count": 30,
   "metadata": {},
   "outputs": [
    {
     "name": "stdout",
     "output_type": "stream",
     "text": [
      "['__class__', '__delattr__', '__dict__', '__dir__', '__doc__', '__eq__', '__format__', '__ge__', '__getattribute__', '__gt__', '__hash__', '__init__', '__init_subclass__', '__le__', '__lt__', '__module__', '__ne__', '__new__', '__reduce__', '__reduce_ex__', '__repr__', '__setattr__', '__sizeof__', '__str__', '__subclasshook__', '__weakref__', 'a', 'b', 'c', 'calculate_area', 'from_input']\n"
     ]
    }
   ],
   "source": [
    "print(dir(t))"
   ]
  },
  {
   "cell_type": "code",
   "execution_count": 2,
   "metadata": {},
   "outputs": [],
   "source": [
    "import math"
   ]
  },
  {
   "cell_type": "code",
   "execution_count": 3,
   "metadata": {},
   "outputs": [
    {
     "name": "stdout",
     "output_type": "stream",
     "text": [
      "First Side:12\n",
      "Second Side:14\n",
      "Third Side:16\n",
      "This is a rectangle with sides 12, 14, and 16\n",
      "81.33265027035576\n"
     ]
    }
   ],
   "source": [
    "class Area():\n",
    "    def __init__(self, a, b, c):\n",
    "        self.a = a\n",
    "        self.b = b\n",
    "        self.c = c\n",
    "        \n",
    "    @classmethod   # decorator method to get the user from the input\n",
    "    def from_input(cls):\n",
    "        return cls(int(input(\"First Side:\")),\n",
    "                   int(input(\"Second Side:\")),\n",
    "                   int(input(\"Third Side:\"))\n",
    "                  )\n",
    "    \n",
    "    def __str__(self):\n",
    "        \"\"\" Return a descriptive instance, invoked by print() and str() \"\"\"\n",
    "        return \"This is a rectangle with sides {}, {}, and {}\".format(self.a,self.b,self.c)            \n",
    "    \n",
    "        \n",
    "class AreaTraingle(Area):\n",
    "    def __init__(self,*args):\n",
    "        \"\"\" Initializer\"\"\"\n",
    "        super().__init__(*args)\n",
    "#         self.a = a\n",
    "#         self.b = b\n",
    "#         self.c = c\n",
    "            \n",
    "    def calculate_area(self):\n",
    "        \n",
    "        s = (self.a+self.b+self.c)/2\n",
    "        area = math.sqrt(s*(s-self.a)*(s-self.b)*(s-self.c))\n",
    "        return area\n",
    "        \n",
    "\n",
    "if __name__ == '__main__':\n",
    "    t = AreaTraingle.from_input()\n",
    "    \n",
    "    print(t)\n",
    "\n",
    "    print(t.calculate_area())\n",
    "    \n",
    "    \n",
    "        "
   ]
  },
  {
   "cell_type": "markdown",
   "metadata": {},
   "source": [
    "##### **5:** Write a function filter_long_words() that takes a list of words and an integer n and returns the list of words that are longer than n."
   ]
  },
  {
   "cell_type": "markdown",
   "metadata": {},
   "source": [
    "**Solution:**"
   ]
  },
  {
   "cell_type": "code",
   "execution_count": 2,
   "metadata": {},
   "outputs": [
    {
     "name": "stdout",
     "output_type": "stream",
     "text": [
      "Enter mutiple wordsreena kasana sheeshpal\n",
      "Enter the value of n: 6\n",
      "The list of words that are longer than 6: ['sheeshpal']\n"
     ]
    }
   ],
   "source": [
    "def filter_long_words(words_list, n):\n",
    "    \"\"\"\n",
    "    This function takes a list of words and an iterger and returns the \n",
    "    list of words that are longer than n\n",
    "    \"\"\"\n",
    "    \n",
    "    return [word for word in words_list if len(word)> n]\n",
    "   \n",
    "        \n",
    "# main function\n",
    "if __name__ ==\"__main__\":\n",
    "    \n",
    "    words_list = input(\"Enter mutiple words: \").split()\n",
    "    n = int(input(\"Enter the value of n: \"))\n",
    "    \n",
    "    out = filter_long_words(words_list, n)\n",
    "    \n",
    "    print(f\"The list of words that are longer than {n}: {out}\")\n",
    "    "
   ]
  },
  {
   "cell_type": "markdown",
   "metadata": {},
   "source": [
    "##### **6.** Write a Python program using function concept that maps list of words into a list of integers representing the lengths of the corresponding words.  <br>**Hint:** If a list [ ab,cde,erty] is passed on to the python function output should come as [2,3,4] .Here 2,3 and 4 are the lengths of the words in the list."
   ]
  },
  {
   "cell_type": "markdown",
   "metadata": {},
   "source": [
    "**Solution:**"
   ]
  },
  {
   "cell_type": "code",
   "execution_count": 5,
   "metadata": {},
   "outputs": [
    {
     "name": "stdout",
     "output_type": "stream",
     "text": [
      "The length of the words : [2, 3, 4]\n"
     ]
    }
   ],
   "source": [
    "def length_words(input_list):\n",
    "    \"\"\"\n",
    "    This function maps list of words into a list of integers \n",
    "    \n",
    "    \"\"\"\n",
    "    return [len(word) for word in input_list]  # list comprehensions\n",
    "   \n",
    "#main function\n",
    "if __name__ ==\"__main__\":\n",
    "    \n",
    "    input_list = ['ab','cdf','efty']\n",
    "    output = length_words(input_list)    \n",
    "    print(f\"The length of the words : {output}\")"
   ]
  },
  {
   "cell_type": "markdown",
   "metadata": {},
   "source": [
    "##### **7.** Write a Python function which takes a character (i.e. a string of length 1) and returns True if it is a vowel, False otherwise."
   ]
  },
  {
   "cell_type": "markdown",
   "metadata": {},
   "source": [
    "**Solution:**"
   ]
  },
  {
   "cell_type": "code",
   "execution_count": 2,
   "metadata": {},
   "outputs": [
    {
     "name": "stdout",
     "output_type": "stream",
     "text": [
      "Enter a alphabet: A\n",
      " The alphabet entered is a vowel\n"
     ]
    }
   ],
   "source": [
    "def vowels(alphabet):\n",
    "    \"\"\"\n",
    "    This function takes a chracter as an input and return True if it is Vowel, False otherwise.\n",
    "    \"\"\"\n",
    "    vowel = ['a','e','i','o','u']\n",
    "    \n",
    "    if alphabet.lower() in vowel:\n",
    "        return True\n",
    "    else:\n",
    "        return False\n",
    "    \n",
    "\n",
    "# Main function\n",
    "\n",
    "if __name__ == '__main__':\n",
    "    \n",
    "    num_of_attempts = 1\n",
    "    \n",
    "    while num_of_attempts<=5:\n",
    "        alphabet = input(\"Enter a alphabet: \")\n",
    "    \n",
    "        if len(alphabet) == 1:\n",
    "            output = vowels(alphabet)\n",
    "            if output is True:\n",
    "                print(\" The alphabet entered is a vowel\")\n",
    "            else:\n",
    "                print(\"The alphabet entered is not a vowel\")\n",
    "            break\n",
    "        \n",
    "        else:\n",
    "            print(f\"The {alphabet} is a word, not an alphabet \", sep = '\\n')\n",
    "            \n",
    "            if (5-num_of_attempts) == 0:\n",
    "                print(\"Sorry, you dont have any attempts left\", sep = \"\\n\")\n",
    "            else:\n",
    "                print(f\"Please enter a alphabet and you are left with {5-num_of_attempts} attempts\", sep='\\n')\n",
    "        \n",
    "        num_of_attempts+=1"
   ]
  },
  {
   "cell_type": "code",
   "execution_count": 5,
   "metadata": {},
   "outputs": [],
   "source": [
    "class MyClass:\n",
    "    x = 5"
   ]
  },
  {
   "cell_type": "code",
   "execution_count": 6,
   "metadata": {},
   "outputs": [
    {
     "name": "stdout",
     "output_type": "stream",
     "text": [
      "5\n"
     ]
    }
   ],
   "source": [
    "p1 = MyClass()\n",
    "\n",
    "print(p1.x)"
   ]
  },
  {
   "cell_type": "code",
   "execution_count": 7,
   "metadata": {},
   "outputs": [
    {
     "name": "stdout",
     "output_type": "stream",
     "text": [
      "John\n",
      "36\n"
     ]
    }
   ],
   "source": [
    "class Person:\n",
    "    def __init__(self, aname, aage):\n",
    "        self.name = aname\n",
    "        self.age = aage\n",
    "\n",
    "p1 = Person(\"John\", 36)\n",
    "\n",
    "print(p1.name)\n",
    "print(p1.age)"
   ]
  },
  {
   "cell_type": "code",
   "execution_count": null,
   "metadata": {},
   "outputs": [],
   "source": []
  }
 ],
 "metadata": {
  "kernelspec": {
   "display_name": "Python 3",
   "language": "python",
   "name": "python3"
  },
  "language_info": {
   "codemirror_mode": {
    "name": "ipython",
    "version": 3
   },
   "file_extension": ".py",
   "mimetype": "text/x-python",
   "name": "python",
   "nbconvert_exporter": "python",
   "pygments_lexer": "ipython3",
   "version": "3.7.3"
  }
 },
 "nbformat": 4,
 "nbformat_minor": 4
}
