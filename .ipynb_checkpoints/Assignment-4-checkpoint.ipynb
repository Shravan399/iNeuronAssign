{
 "cells": [
  {
   "cell_type": "markdown",
   "metadata": {},
   "source": [
    "## PYTHON- Objective Practice"
   ]
  },
  {
   "cell_type": "markdown",
   "metadata": {},
   "source": [
    "**Q1.** How can we create an iterator object from a list? <br>\n",
    "a) Bypassing the given list to the iter() function <br>\n",
    "b) By using a for a loop. <br>\n",
    "c) By using a while loop. <br>\n",
    "d) You cannot create an iterable object"
   ]
  },
  {
   "cell_type": "markdown",
   "metadata": {},
   "source": [
    "Answer: `(a)` By passing the given list to the iter() function"
   ]
  },
  {
   "cell_type": "markdown",
   "metadata": {},
   "source": [
    "**Q2.** If the function contains at least of one “yield” statement, then it\n",
    "becomes ______. Choose one <br>\n",
    "a) An iterable <br>\n",
    "b) a generator function <br>\n",
    "c) an anonymous function <br>\n",
    "d) None of the above"
   ]
  },
  {
   "cell_type": "markdown",
   "metadata": {},
   "source": [
    "Answer : `(b)` A generator function"
   ]
  },
  {
   "cell_type": "markdown",
   "metadata": {},
   "source": [
    "***\n",
    "**Justification:** <br>\n",
    "1. If a function contains at least one yield statement (it may contain other yield or return statements), it becomes a generator function. Both yield and return will return some value from a function.\n",
    "2. The difference is that, while a return statement terminates a function entirely, `yield` statement pauses the function saving all its states and later continues from there on successive calls.\n",
    "***"
   ]
  },
  {
   "cell_type": "markdown",
   "metadata": {},
   "source": [
    "**Q3.** What is the output of the code? <br>\n",
    "1. mylist = [1, 3, 6, 10] <br>\n",
    "2. a = (x**2 for x in mylist) <br>\n",
    "3. print(next(a), next(a)) <br>\n",
    "a) 1 3 <br>\n",
    "b) 1 9 <br>\n",
    "c) 1 9 36 100 <br>\n",
    "d) 1"
   ]
  },
  {
   "cell_type": "markdown",
   "metadata": {},
   "source": [
    "Answer: (b) 1 9"
   ]
  },
  {
   "cell_type": "markdown",
   "metadata": {},
   "source": [
    "**Q4.** What are the criteria that must be met to create closure in Python? <br>\n",
    "a) The program must have the function inside the function. <br>\n",
    "b) The nested function must refer to the value defined in the enclosing function. <br>\n",
    "c) The enclosing function must return the nested <br>\n",
    "d) All of the above."
   ]
  },
  {
   "cell_type": "markdown",
   "metadata": {},
   "source": [
    "Answer: "
   ]
  },
  {
   "cell_type": "markdown",
   "metadata": {},
   "source": [
    "**Q5.** What is the output of the code?\n",
    "<pre>\n",
    "1. def Foo(n):\n",
    "2.     def multiplier(x):\n",
    "3.        return x * n\n",
    "4.     return multiplier\n",
    "5.\n",
    "6. a = Foo(5)\n",
    "7. b = Foo(5)\n",
    "8.\n",
    "9. print(a(b(2)))\n",
    "</pre>\n",
    "a) 25. <br>\n",
    "b) 100 <br>\n",
    "c) 10 <br>\n",
    "d) 50"
   ]
  },
  {
   "cell_type": "code",
   "execution_count": 2,
   "metadata": {},
   "outputs": [
    {
     "name": "stdout",
     "output_type": "stream",
     "text": [
      "50\n"
     ]
    }
   ],
   "source": [
    "def Foo(n):\n",
    "     def multiplier(x):\n",
    "        return x * n\n",
    "     return multiplier\n",
    "\n",
    "a = Foo(5)\n",
    "b = Foo(5)\n",
    "\n",
    "print(a(b(2)))"
   ]
  },
  {
   "cell_type": "markdown",
   "metadata": {},
   "source": [
    "**Q6.** What is the output of the code?\n",
    "<pre>\n",
    "1. def make_pretty(func):\n",
    "2.    def inner():\n",
    "3.       print(\"I got decorated\")\n",
    "4.       func()\n",
    "5.    return inner\n",
    "6.\n",
    "7. def ordinary():\n",
    "8.    print(\"I am ordinary\")\n",
    "9.\n",
    "10. pretty = make_pretty(ordinary)\n",
    "11. pretty() \n",
    "</pre>\n",
    "a) I got decorated <br>\n",
    "b) I am pretty <br>\n",
    "c) I got decorated <br>\n",
    "&nbsp;&nbsp;&nbsp;I am ordinary <br>\n",
    "d) I am ordinary <br>\n",
    "&nbsp;&nbsp;&nbsp;I got decorated <br>"
   ]
  },
  {
   "cell_type": "code",
   "execution_count": null,
   "metadata": {},
   "outputs": [],
   "source": []
  },
  {
   "cell_type": "markdown",
   "metadata": {},
   "source": [
    "**Q7:** What is the more pythonic way to use getters and setters? <br>\n",
    "a) Decorators <br>\n",
    "b) Generators. <br>\n",
    "c) Iterators <br>\n",
    "d) @property"
   ]
  },
  {
   "cell_type": "code",
   "execution_count": null,
   "metadata": {},
   "outputs": [],
   "source": []
  },
  {
   "cell_type": "markdown",
   "metadata": {},
   "source": [
    "**Q8.** In Python, there is a built-in function property() that returns a property object. The property object has which of the methods? <br>\n",
    "a) getter() and setter() <br>\n",
    "b) getter(), setter() and delete() <br>\n",
    "c) getter() and delete() <br>\n",
    "d) setter() and delete()"
   ]
  },
  {
   "cell_type": "code",
   "execution_count": null,
   "metadata": {},
   "outputs": [],
   "source": []
  },
  {
   "cell_type": "markdown",
   "metadata": {},
   "source": [
    "**Q9.** Which of the following statement is true? <br>\n",
    "a) You cannot chain multiple decorators in Python. <br>\n",
    "b) Decorators don’t work with functions that take parameters. <br>\n",
    "c) The @ symbol doesn’t have any use while using decorators. <br>\n",
    "d) None of the above"
   ]
  },
  {
   "cell_type": "code",
   "execution_count": null,
   "metadata": {},
   "outputs": [],
   "source": []
  },
  {
   "cell_type": "markdown",
   "metadata": {},
   "source": [
    "**Q10.** For the following codes, which of the following statements is true?\n",
    "<pre>\n",
    "1. def printHello():\n",
    "2.     print(\"Hello\")\n",
    "3. a = printHello()\n",
    "</pre>\n",
    "a) Print Hello() is a function, and a is a variable. None of them are objects. <br>\n",
    "b) Both printHello() and the reference to the same object. <br>\n",
    "c) Print Hello() and the reference to different objects. <br>\n",
    "d) Syntax error! You cannot assign function"
   ]
  },
  {
   "cell_type": "code",
   "execution_count": null,
   "metadata": {},
   "outputs": [],
   "source": []
  },
  {
   "cell_type": "markdown",
   "metadata": {},
   "source": [
    "**Q11.*** What is the output of the program?\n",
    "<pre>\n",
    "1. def outerFunction():\n",
    "2.      global a\n",
    "3.      a = 20\n",
    "4.      def innerFunction():\n",
    "5.           global a\n",
    "6.           a = 30\n",
    "7.           print('a =', a)\n",
    "8. a = 10\n",
    "9. outerFunction()\n",
    "10.print('a =', a)</pre>\n",
    "a) a = 10 a=30 <br>\n",
    "b) a = 10 <br>\n",
    "c) a = 2 <br>\n",
    "d) a = 30"
   ]
  },
  {
   "cell_type": "code",
   "execution_count": null,
   "metadata": {},
   "outputs": [],
   "source": []
  },
  {
   "cell_type": "markdown",
   "metadata": {},
   "source": [
    "10. print('a =', a) <br>\n",
    "a) a = 10 a = 30 <br>\n",
    "b) a = 10 <br>\n",
    "c) a = 2 <br>\n",
    "d) a = 30"
   ]
  },
  {
   "cell_type": "code",
   "execution_count": null,
   "metadata": {},
   "outputs": [],
   "source": []
  },
  {
   "cell_type": "markdown",
   "metadata": {},
   "source": [
    "**Q12.** Which of the following statements is true? <br>\n",
    "a) A class is a blueprint for the object. <br>\n",
    "b) You can only make the single object from the given class <br>\n",
    "c) Both statements are true. <br>\n",
    "d) Neither statement is true."
   ]
  },
  {
   "cell_type": "markdown",
   "metadata": {},
   "source": [
    "Answer: `c`"
   ]
  },
  {
   "cell_type": "markdown",
   "metadata": {},
   "source": [
    "Q13. What is the output of the code?\n",
    "<pre>\n",
    "1. class Foo:\n",
    "2.     def printLine(self, line='Python'):\n",
    "3.           print(line) \n",
    "4.\n",
    "5. o1 = Foo()\n",
    "6. o1.printLine('Java') </pre>\n",
    "a) Python <br>\n",
    "b) Line <br>\n",
    "c) Java <br>\n",
    "d) Java\n"
   ]
  },
  {
   "cell_type": "code",
   "execution_count": null,
   "metadata": {},
   "outputs": [],
   "source": []
  },
  {
   "cell_type": "markdown",
   "metadata": {},
   "source": [
    "**Q14.** What is the function of the __init__() function in Python? <br>\n",
    "a) Initialises the class for use. <br>\n",
    "b) This function is called, when the new object is instantiated <br>\n",
    "c) Initialises all the data attributes to zero when called <br>\n",
    "d) None of the above."
   ]
  },
  {
   "cell_type": "markdown",
   "metadata": {},
   "source": [
    "Answer: `(b)` This function is called, when the new object is instantiated"
   ]
  },
  {
   "cell_type": "markdown",
   "metadata": {},
   "source": [
    "**Q15.** What is the output of the code <br>\n",
    "<pre>\n",
    "1. class Point:\n",
    "2.     def __init__(self, x = 0, y = 0):\n",
    "3.         self.x = x+1\n",
    "4.         self.y = y+1\n",
    "5.\n",
    "6. p1 = Point()\n",
    "7. print(p1.x, p1.y) </pre>\n",
    "a) 0 0 <br>\n",
    "b) 1 1 <br>\n",
    "c) None None<br>\n",
    "d) x y"
   ]
  },
  {
   "cell_type": "markdown",
   "metadata": {},
   "source": [
    "Answer: `(b)` 1 1"
   ]
  },
  {
   "cell_type": "code",
   "execution_count": 1,
   "metadata": {},
   "outputs": [
    {
     "name": "stdout",
     "output_type": "stream",
     "text": [
      "1 1\n"
     ]
    }
   ],
   "source": [
    "class Point:\n",
    "    def __init__(self, x = 0, y = 0):\n",
    "        self.x = x+1\n",
    "        self.y = y+1\n",
    "\n",
    "p1 = Point()\n",
    "print(p1.x, p1.y)"
   ]
  },
  {
   "cell_type": "markdown",
   "metadata": {},
   "source": [
    "**Q16.** Which of the following code used the inheritance feature? <br>\n",
    "a)\n",
    "<pre>\n",
    "1. Class Foo:\n",
    "        Pass </pre> \n",
    "b) <pre>\n",
    "1. class Foo(object):\n",
    "2.       pass\n",
    "3. class Hoo(object):\n",
    "         pass </pre>\n",
    "c) <pre>\n",
    "1. class Foo:\n",
    "2.       pass\n",
    "3. class Hoo(Foo):\n",
    "         pass </pre>\n",
    "d) None of the above code."
   ]
  },
  {
   "cell_type": "code",
   "execution_count": null,
   "metadata": {},
   "outputs": [],
   "source": []
  },
  {
   "cell_type": "markdown",
   "metadata": {},
   "source": [
    "**Q17.** If you a class is derived from two different classes, it’s called _____ <br>\n",
    "a) Multilevel inheritance <br>\n",
    "b) Multiple Inheritance <br>\n",
    "c) Hierarchical Inheritance <br>\n",
    "d) Python Inheritance"
   ]
  },
  {
   "cell_type": "markdown",
   "metadata": {},
   "source": [
    "Answer: `(b)` Multiple Inheritance"
   ]
  },
  {
   "cell_type": "markdown",
   "metadata": {},
   "source": [
    "**Q18.** Which of the following statements is true? <br>\n",
    "a) In Python, the same operator may behave differently depends upon the operands. <br>\n",
    "b) You can change the way operators which behave in Python. <br>\n",
    "c) Special method __add()__ is called when + operator <br>\n",
    "d) All of the above."
   ]
  },
  {
   "cell_type": "markdown",
   "metadata": {},
   "source": [
    "Answer: `(d)`"
   ]
  },
  {
   "cell_type": "markdown",
   "metadata": {},
   "source": [
    "**Q19.** What is the output of the code?\n",
    "<pre>\n",
    "1. class Point:\n",
    "2.\n",
    "3.    def __init__(self, x = 0, y = 0):\n",
    "4.          self.x = x\n",
    "5.          self.y = y\n",
    "6.\n",
    "7. def __sub__(self, other):\n",
    "8.          x = self.x + other.x\n",
    "9.          y = self.y + other.y\n",
    "10.         return Point(x,y)\n",
    "11.\n",
    "12. p1 = Point(3, 4)\n",
    "13. p2 = Point(1, 2)\n",
    "14. result = p1-p2\n",
    "15. print(result.x, result.y)</pre>\n",
    "<br>\n",
    "a) 2 2 <br>\n",
    "b) 4 6 <br>\n",
    "c) 0 0 <br>\n",
    "d) 1 1"
   ]
  },
  {
   "cell_type": "markdown",
   "metadata": {},
   "source": [
    "Answer: `(b)` 4 6"
   ]
  },
  {
   "cell_type": "code",
   "execution_count": 5,
   "metadata": {},
   "outputs": [
    {
     "name": "stdout",
     "output_type": "stream",
     "text": [
      "4 6\n"
     ]
    }
   ],
   "source": [
    "class Point:\n",
    "\n",
    "    def __init__(self, x = 0, y = 0):\n",
    "        self.x = x\n",
    "        self.y = y\n",
    "\n",
    "    def __sub__(self, other):\n",
    "        x = self.x + other.x\n",
    "        y = self.y + other.y\n",
    "        return Point(x,y)\n",
    "\n",
    "p1 = Point(3, 4)\n",
    "p2 = Point(1, 2)\n",
    "result = p1-p2\n",
    "print(result.x, result.y)"
   ]
  },
  {
   "cell_type": "markdown",
   "metadata": {},
   "source": [
    "**Q20.** Opening a file in ‘a’ mode <br>\n",
    "a) opens a file for reading <br>\n",
    "b) opens a file for writing <br>\n",
    "c) opens the file for appending, at the end of file <br>\n",
    "d) opens a file for exclusive creation"
   ]
  },
  {
   "cell_type": "markdown",
   "metadata": {},
   "source": [
    "Answer: `(c)` opens the file for appending, at the end of file"
   ]
  },
  {
   "cell_type": "markdown",
   "metadata": {},
   "source": [
    "**Q21.** What does the following code do? <br>\n",
    "f = open(\"test.txt\") <br>\n",
    "a) Opens test.txt file for both reading and writing <br>\n",
    "b) Opens test.txt file for reading only <br>\n",
    "c) Opens test.txt file for writing only<br>\n",
    "d) Opens test.txt file in god mode"
   ]
  },
  {
   "cell_type": "markdown",
   "metadata": {},
   "source": [
    "Answer: `(b)` Opens test.txt file for reading only"
   ]
  },
  {
   "cell_type": "markdown",
   "metadata": {},
   "source": [
    "**Q22.** Which of the codes closes files automatically if an exception occurs? Choose one <br>\n",
    "a) \n",
    "<pre>\n",
    "1. with open(\"test.txt\", encoding = 'utf-8') as f: \n",
    "2.      #perform file operation </pre>\n",
    "<br>\n",
    "b) <pre>\n",
    "1. try: \n",
    "2.      f = open(\"test.txt\",encoding = 'utf-8') \n",
    "3.      #perform file operations \n",
    "4. finally: \n",
    "5.      f.close() </pre>\n",
    "c) None of the above <br>\n",
    "d) Both of the above "
   ]
  },
  {
   "cell_type": "markdown",
   "metadata": {},
   "source": [
    "Answer: `(b)`"
   ]
  },
  {
   "cell_type": "markdown",
   "metadata": {},
   "source": [
    "**Q23.** For the following code, \n",
    "<pre>\n",
    "1. f = open('test.txt', 'r', encoding = 'utf-8') \n",
    "2. f.read() </pre>\n",
    "<br>\n",
    "Which of the following statement is true <br>\n",
    "a) This program reads the content of the test.txt file. <br>\n",
    "b) If test.txt contains a newline, read() will return the newline as ‘\\n’.<br>\n",
    "c) You can pass an integer to the read() method <br>\n",
    "d) All of the above."
   ]
  },
  {
   "cell_type": "code",
   "execution_count": null,
   "metadata": {},
   "outputs": [],
   "source": []
  },
  {
   "cell_type": "markdown",
   "metadata": {},
   "source": [
    "**Q24.** What does the following code do? <br>\n",
    "os.listdir() <br>\n",
    "a) Prints the current working directory. <br>\n",
    "b) Prints the current working directory.<br>\n",
    "c) Prints all the directories and files inside the given directory<br>\n",
    "d) Make a new directory"
   ]
  },
  {
   "cell_type": "code",
   "execution_count": 4,
   "metadata": {},
   "outputs": [
    {
     "data": {
      "text/plain": [
       "['.git',\n",
       " '.gitignore',\n",
       " '.ipynb_checkpoints',\n",
       " 'Assignment-1.ipynb',\n",
       " 'Assignment-2-Final.ipynb',\n",
       " 'Assignment-3.ipynb',\n",
       " 'Assignment-4.ipynb',\n",
       " 'README.md',\n",
       " 'SubjectiveAssignment.ipynb',\n",
       " 'test.txt']"
      ]
     },
     "execution_count": 4,
     "metadata": {},
     "output_type": "execute_result"
    }
   ],
   "source": [
    "import os\n",
    "os.listdir()"
   ]
  },
  {
   "cell_type": "markdown",
   "metadata": {},
   "source": [
    "Answer: `(c)` Prints all the directories and files inside the given directory"
   ]
  },
  {
   "cell_type": "markdown",
   "metadata": {},
   "source": [
    "**Q25.** Which of the following is correct? <br>\n",
    "a) An exception is an error that occurs in the runtime. <br>\n",
    "b) A syntax error is also an exception.<br>\n",
    "c) An exception is used to exclude a block of code in python.<br>\n",
    "d) All of the above."
   ]
  },
  {
   "cell_type": "markdown",
   "metadata": {},
   "source": [
    "Answer: `(d)`"
   ]
  },
  {
   "cell_type": "markdown",
   "metadata": {},
   "source": [
    "**Q26.** What will happen if we try to open the file that doesn’t exist? <br>\n",
    "a) A new file is created.<br>\n",
    "b) Nothing will happen.<br>\n",
    "c) An exception is raised.<br>\n",
    "d) None of the above"
   ]
  },
  {
   "cell_type": "markdown",
   "metadata": {},
   "source": [
    "Answer: It depends on the mode in which we try to open\n",
    "    f = open('test1.txt', 'w')"
   ]
  },
  {
   "cell_type": "markdown",
   "metadata": {},
   "source": [
    "Q27. What is the output of the code?\n",
    "<pre>\n",
    "1. number = 5.0\n",
    "2. try:\n",
    "3.    r = 10/number\n",
    "4.    print(r)\n",
    "5. except:\n",
    "6.    print(\"Oops! Error occurred.\") </pre>\n",
    "<br>\n",
    "a) Oops! Error occurred <br>\n",
    "b) 2.0 <br>\n",
    "c) 2.0 Oops! Error occurred. <br>\n",
    "d) None object"
   ]
  },
  {
   "cell_type": "markdown",
   "metadata": {},
   "source": [
    "Answer: `(b)`    "
   ]
  },
  {
   "cell_type": "markdown",
   "metadata": {},
   "source": [
    "**Q28.** What does the following code do?\n",
    "<pre>\n",
    "1. try:\n",
    "2.    #code that can raise an error\n",
    "3.    pass\n",
    "4.\n",
    "5. except (TypeError, ZeroDivisionError):\n",
    "6.    print(\"Two\") </pre>\n",
    "<br>\n",
    "a) Prints Two if an exception occurs (doesn’t matter which exception). <br>\n",
    "b) Prints Two if exception doesn’t occur. <br>\n",
    "c) Prints Two if the TypeError or ZeroDivisionError exception occurs. <br>\n",
    "d) Prints Two only if both TypeError and ZeroDivisionError exception occur."
   ]
  },
  {
   "cell_type": "code",
   "execution_count": null,
   "metadata": {},
   "outputs": [],
   "source": []
  },
  {
   "cell_type": "markdown",
   "metadata": {},
   "source": [
    "Q29. Which of the following statement is true? <br>\n",
    "a) You cannot create custom exceptions in Python.<br>\n",
    "b) You can create the user-defined exception by deriving a class from Exception class.<br>\n",
    "c) You can create a user-defined exception by deriving a class from Error class.<br>\n",
    "d) None of the above."
   ]
  },
  {
   "cell_type": "code",
   "execution_count": null,
   "metadata": {},
   "outputs": [],
   "source": []
  },
  {
   "cell_type": "markdown",
   "metadata": {},
   "source": [
    "Q30. Which of the following statement is true? <br>\n",
    "a) Functions are used to create objects in Python. <br>\n",
    "b) Functions make your program run faster. <br>\n",
    "c) The function is a piece of code that can perform a specific task. <br>\n",
    "d) All of the above"
   ]
  },
  {
   "cell_type": "code",
   "execution_count": null,
   "metadata": {},
   "outputs": [],
   "source": []
  },
  {
   "cell_type": "markdown",
   "metadata": {},
   "source": [
    "Q31. What is the output of the code? \n",
    "<pre>\n",
    "1. def printLine(text):\n",
    "2.     print(text, 'is awesome.')\n",
    "3.\n",
    "4. printLine('Python') </pre>\n",
    "a) Python <br>\n",
    "b) Python is awesome. <br>\n",
    "c) Text is awesome. <br>\n",
    "d) Is awesome."
   ]
  },
  {
   "cell_type": "markdown",
   "metadata": {},
   "source": [
    "Answer: (b) Python is awesome"
   ]
  },
  {
   "cell_type": "code",
   "execution_count": 6,
   "metadata": {},
   "outputs": [
    {
     "name": "stdout",
     "output_type": "stream",
     "text": [
      "Python is awesome.\n"
     ]
    }
   ],
   "source": [
    "def printLine(text):\n",
    "     print(text, 'is awesome.')\n",
    "\n",
    "printLine('Python')"
   ]
  },
  {
   "cell_type": "markdown",
   "metadata": {},
   "source": [
    "Q32. If the return statement is not used inside the function, the function will return: <br>\n",
    "a) 0 <br>\n",
    "b) None object <br>\n",
    "c) an arbitrary integer<br>\n",
    "d) Error! Functions in Python must have a return statement."
   ]
  },
  {
   "cell_type": "markdown",
   "metadata": {},
   "source": [
    "Answer: (b)"
   ]
  },
  {
   "cell_type": "code",
   "execution_count": 7,
   "metadata": {},
   "outputs": [
    {
     "name": "stdout",
     "output_type": "stream",
     "text": [
      "None\n"
     ]
    }
   ],
   "source": [
    "def no_return(x,y):\n",
    "    c = x + y\n",
    "\n",
    "res = no_return(4,5)\n",
    "print(res)"
   ]
  },
  {
   "cell_type": "markdown",
   "metadata": {},
   "source": [
    "Q33. What is the output of the code?\n",
    "<pre>\n",
    "1. def greetPerson(*name):\n",
    "2.      print('Hello', name)\n",
    "3.\n",
    "4. greetPerson('Frodo', 'Sauron')</pre>\n",
    "<pre>\n",
    "a) Hello Frodo\n",
    "   Hello Sauron </pre>\n",
    "b) Hello ('Frodo', 'Sauron')\n",
    "c) Hello Frodo\n",
    "d) Syntax Error! Great person() can take only one argument."
   ]
  },
  {
   "cell_type": "markdown",
   "metadata": {},
   "source": [
    "Answer: `(b)` Hello ('Frodo','Sauron')"
   ]
  },
  {
   "cell_type": "code",
   "execution_count": 8,
   "metadata": {},
   "outputs": [
    {
     "name": "stdout",
     "output_type": "stream",
     "text": [
      "Hello ('Frodo', 'Sauron')\n"
     ]
    }
   ],
   "source": [
    "def greetPerson(*name):\n",
    "      print('Hello', name)\n",
    "\n",
    "greetPerson('Frodo', 'Sauron')"
   ]
  },
  {
   "cell_type": "markdown",
   "metadata": {},
   "source": [
    "Q34. What is a recursive function? Choose one\n",
    "a) A function that calls all the functions in the program.\n",
    "b) A function that calls itself.\n",
    "c) A function that that calls all the functions in the program except itself.\n",
    "d) There is no such thing as a recursive function in Python."
   ]
  },
  {
   "cell_type": "markdown",
   "metadata": {},
   "source": [
    "Answer: `(b)` A function that calls itself"
   ]
  },
  {
   "cell_type": "markdown",
   "metadata": {},
   "source": [
    "Q35. What is the output of the program? <br>\n",
    "1. result = lambda x: x * x <br>\n",
    "2. print(result(5)) <br>\n",
    "<br>\n",
    "a) lambda x: x*x <br>\n",
    "b) 10<br>\n",
    "c) 25<br>\n",
    "d) 5*5"
   ]
  },
  {
   "cell_type": "markdown",
   "metadata": {},
   "source": [
    "Answer: `(c)` 25"
   ]
  },
  {
   "cell_type": "code",
   "execution_count": 9,
   "metadata": {},
   "outputs": [
    {
     "name": "stdout",
     "output_type": "stream",
     "text": [
      "25\n"
     ]
    }
   ],
   "source": [
    "result = lambda x: x * x \n",
    "print(result(5))"
   ]
  },
  {
   "cell_type": "markdown",
   "metadata": {},
   "source": [
    "Q36. What is the output of the program?\n",
    "<pre>\n",
    "1. def Foo(x):\n",
    "2.     if (x==1):\n",
    "3.         return 1\n",
    "4.     else:\n",
    "5.         return x+Foo(x-1) \n",
    "6.\n",
    "7. print(Foo(4)) </pre>\n",
    "a) 10 <br>\n",
    "b) 24 <br>\n",
    "c) 7<br>\n",
    "d) 1"
   ]
  },
  {
   "cell_type": "code",
   "execution_count": null,
   "metadata": {},
   "outputs": [],
   "source": [
    "Answer: (a) 10"
   ]
  },
  {
   "cell_type": "code",
   "execution_count": 11,
   "metadata": {},
   "outputs": [
    {
     "name": "stdout",
     "output_type": "stream",
     "text": [
      "10\n"
     ]
    }
   ],
   "source": [
    "def Foo(x):\n",
    "     if (x==1):\n",
    "        return 1\n",
    "     else:\n",
    "        return x+Foo(x-1) \n",
    "\n",
    "print(Foo(4))"
   ]
  },
  {
   "cell_type": "markdown",
   "metadata": {},
   "source": [
    "**Q37.** Suppose you need to print pi constant defined in the math module. Which of the following code can do this task? <br>\n",
    "a) <pre>print(math.pi) </pre>\n",
    "b) <pre>print(pi) </pre>\n",
    "c) <pre>\n",
    "1. from math import pi \n",
    "2. print(pi) </pre>\n",
    "d) <pre>\n",
    "1. from math import pi \n",
    "2. print(math.pi) </pre>"
   ]
  },
  {
   "cell_type": "code",
   "execution_count": null,
   "metadata": {},
   "outputs": [],
   "source": [
    "Answer: (c) and (d)"
   ]
  },
  {
   "cell_type": "code",
   "execution_count": 13,
   "metadata": {},
   "outputs": [],
   "source": [
    "import math"
   ]
  },
  {
   "cell_type": "code",
   "execution_count": 16,
   "metadata": {},
   "outputs": [
    {
     "name": "stdout",
     "output_type": "stream",
     "text": [
      "3.141592653589793\n"
     ]
    }
   ],
   "source": [
    "from math import pi\n",
    "print(pi)"
   ]
  },
  {
   "cell_type": "markdown",
   "metadata": {},
   "source": [
    "**Q38.** Which operator is used in Python to import modules from the packages? Choose one<br>\n",
    "a). operator <br>\n",
    "b) * operator<br>\n",
    "c) -> symbol <br>\n",
    "d) , operator"
   ]
  },
  {
   "cell_type": "code",
   "execution_count": null,
   "metadata": {},
   "outputs": [],
   "source": [
    "Answer: (a). operator"
   ]
  },
  {
   "cell_type": "markdown",
   "metadata": {},
   "source": [
    "**Explanation:** We can import modules from packages using the dot (.) operator. <br>For example, if want to import the start module in the above example, it is done as follows. <br> \n",
    "import Game.Level.start"
   ]
  },
  {
   "cell_type": "markdown",
   "metadata": {},
   "source": [
    "Q39. What is the output of the code?\n",
    "<pre>\n",
    "1. numbers = [1, 3, 6]\n",
    "2. newNumbers = tuple(map(lambda x: x , numbers))\n",
    "3. print(newNumbers) </pre>\n",
    "a) [1, 3, 6] <br>\n",
    "b) (1, 3, 6) <br>\n",
    "c) [2, 6, 12] <br>\n",
    "d) (2, 6, 12)"
   ]
  },
  {
   "cell_type": "markdown",
   "metadata": {},
   "source": [
    "Answer: `(b)`"
   ]
  },
  {
   "cell_type": "code",
   "execution_count": 17,
   "metadata": {},
   "outputs": [
    {
     "name": "stdout",
     "output_type": "stream",
     "text": [
      "(1, 3, 6)\n"
     ]
    }
   ],
   "source": [
    "numbers = [1, 3, 6]\n",
    "newNumbers = tuple(map(lambda x: x , numbers))\n",
    "print(newNumbers)"
   ]
  },
  {
   "cell_type": "markdown",
   "metadata": {},
   "source": [
    "Q40. What is the output of the code?\n",
    "<pre>\n",
    "1. if None:\n",
    "2.    print(“Hello”)</pre>\n",
    "a) False <br>\n",
    "b) Hello<br>\n",
    "c) Nothing will be printed<br>\n",
    "d) Syntax error"
   ]
  },
  {
   "cell_type": "markdown",
   "metadata": {},
   "source": [
    "Answer: `(c)`"
   ]
  },
  {
   "cell_type": "code",
   "execution_count": null,
   "metadata": {},
   "outputs": [],
   "source": []
  },
  {
   "cell_type": "code",
   "execution_count": 20,
   "metadata": {},
   "outputs": [],
   "source": [
    "if None:\n",
    "    print(\"Hello\")"
   ]
  },
  {
   "cell_type": "markdown",
   "metadata": {},
   "source": [
    "Q41. The if-elif-else executes only one block of code among several blocks. <br>\n",
    "a) True. <br>\n",
    "b) False <br>\n",
    "c) It depends on the expression used. <br>\n",
    "d) There is no elif statement in Python."
   ]
  },
  {
   "cell_type": "code",
   "execution_count": null,
   "metadata": {},
   "outputs": [],
   "source": [
    "Answer: (a) True"
   ]
  },
  {
   "cell_type": "markdown",
   "metadata": {},
   "source": [
    "Q42. What is the output of the code?\n",
    "<pre>\n",
    "1. for i in [1, 0]:\n",
    "2.    print(i+1)\n",
    "</pre>\n",
    "a) 2 <br>\n",
    "&nbsp;&nbsp;1 <br>\n",
    "b) [2, 1] <br>\n",
    "c) 2 <br>\n",
    "&nbsp;&nbsp;0 <br>\n",
    "d) [2, 0]"
   ]
  },
  {
   "cell_type": "code",
   "execution_count": null,
   "metadata": {},
   "outputs": [],
   "source": [
    "Answer: (a)"
   ]
  },
  {
   "cell_type": "code",
   "execution_count": 21,
   "metadata": {},
   "outputs": [
    {
     "name": "stdout",
     "output_type": "stream",
     "text": [
      "2\n",
      "1\n"
     ]
    }
   ],
   "source": [
    "for i in [1, 0]:\n",
    "    print(i+1)"
   ]
  },
  {
   "cell_type": "markdown",
   "metadata": {},
   "source": [
    "**Q43.** In the Python, for and while loop can have the optional else statement? <br>\n",
    "a) Only for loop can have the optional else statement <br>\n",
    "b) Only while loop can have the optional else statement<br>\n",
    "c) Both loops can have optional else statement<br>\n",
    "d) Loops cannot have else statement in Python"
   ]
  },
  {
   "cell_type": "code",
   "execution_count": null,
   "metadata": {},
   "outputs": [],
   "source": [
    "Answer: (c) Both loops can have optional else statement"
   ]
  },
  {
   "cell_type": "markdown",
   "metadata": {},
   "source": [
    "**Q44.** What is the output of the code?\n",
    "<pre>\n",
    "1.i = sum = 0\n",
    "2.\n",
    "3.while i <= 4:\n",
    "4.  sum += i\n",
    "5.  i = i+1\n",
    "6.\n",
    "7.print(sum)</pre>\n",
    "a) 0 <br>\n",
    "b) 10 <br>\n",
    "c) 4 <br>\n",
    "d) None of the above"
   ]
  },
  {
   "cell_type": "code",
   "execution_count": null,
   "metadata": {},
   "outputs": [],
   "source": [
    "Answer: (b) 10"
   ]
  },
  {
   "cell_type": "code",
   "execution_count": 22,
   "metadata": {},
   "outputs": [
    {
     "name": "stdout",
     "output_type": "stream",
     "text": [
      "10\n"
     ]
    }
   ],
   "source": [
    "i = sum = 0\n",
    "\n",
    "while i <= 4:\n",
    "    sum += i\n",
    "    i = i+1\n",
    "\n",
    "print(sum)"
   ]
  },
  {
   "cell_type": "markdown",
   "metadata": {},
   "source": [
    "**Q45.** What is the output of the code? <br>\n",
    "<pre>\n",
    "1. while 4 == 4:\n",
    "2.    print('4') </pre>\n",
    "a) 4 is printed once <br>\n",
    "b) 4 is printed four times <br>\n",
    "c) 4 is printed infinitely until the program closes <br>\n",
    "d) Syntax error"
   ]
  },
  {
   "cell_type": "code",
   "execution_count": null,
   "metadata": {},
   "outputs": [],
   "source": [
    "Answer: (c) 4 is printed infinitly untill the program closes"
   ]
  },
  {
   "cell_type": "markdown",
   "metadata": {},
   "source": [
    "**Q46.** Is it better to use the for loop instead of while if we are iterating through a sequence? <br>\n",
    "a) No, it’s better to use the while loop. <br>\n",
    "b) Yes, for loop is more pythonic choice. <br>\n",
    "c) No, we cannot iterate through a sequence using a while loop. <br>\n",
    "d) No, we cannot iterate through a sequence using loops."
   ]
  },
  {
   "cell_type": "code",
   "execution_count": null,
   "metadata": {},
   "outputs": [],
   "source": [
    "Answer (b) Yes, for loop is more pythonic choice"
   ]
  },
  {
   "cell_type": "markdown",
   "metadata": {},
   "source": [
    "**Q47.** Which of the following statement is true? <br>\n",
    "a) “break”- It terminates the loop containing it. <br>\n",
    "b) “continue” - It is used to skip the rest of the code inside the loops. <br>\n",
    "c) break and continue: These are almost always used with if, if...else and if...elif...else\n",
    "statements. <br>\n",
    "d) All of the above."
   ]
  },
  {
   "cell_type": "code",
   "execution_count": null,
   "metadata": {},
   "outputs": [],
   "source": [
    "Answer: (d)"
   ]
  },
  {
   "cell_type": "markdown",
   "metadata": {},
   "source": [
    "**Q48.** What is the output of the code? <br>\n",
    "<pre>\n",
    "1. for char in 'PYTHON STRING': \n",
    "2.     if char == ' ': \n",
    "3.        break \n",
    "5.      print(char, end='') \n",
    "6.\n",
    "7.      if char == 'O': \n",
    "8.        continue </pre>\n",
    "<br>\n",
    "a) PYTHON <br>\n",
    "b) PYTHONSTRING <br>\n",
    "c) PYTHN <br>\n",
    "d) STRING"
   ]
  },
  {
   "cell_type": "code",
   "execution_count": null,
   "metadata": {},
   "outputs": [],
   "source": [
    "Answer: (a) PYTHON"
   ]
  },
  {
   "cell_type": "code",
   "execution_count": 25,
   "metadata": {},
   "outputs": [
    {
     "name": "stdout",
     "output_type": "stream",
     "text": [
      "PYTHON"
     ]
    }
   ],
   "source": [
    "for char in 'PYTHON STRING': \n",
    "    if char == ' ': \n",
    "        break \n",
    "    print(char, end='') \n",
    "\n",
    "    if char == 'O': \n",
    "           continue "
   ]
  },
  {
   "cell_type": "markdown",
   "metadata": {},
   "source": [
    "Q49. Which of the statement is true about the “pass” statement? <br>\n",
    "a) Python interpreter- It ignores the “pass” statement like comments. <br>\n",
    "b) Pass statement: It terminates the loop containing pass statement. <br>\n",
    "c) It is used as the placeholder for future implementation of functions, loops, etc <br>\n",
    "d) All of the above. <br>"
   ]
  },
  {
   "cell_type": "code",
   "execution_count": null,
   "metadata": {},
   "outputs": [],
   "source": [
    "Answer : (c)"
   ]
  },
  {
   "cell_type": "markdown",
   "metadata": {},
   "source": [
    "**Q50.** In regards to separated value files such as .csv and .tsv, what is the delimiter? <br>\n",
    "a) Anywhere the comma (,) character is used in the file. <br>\n",
    "b) Delimiters are not used in separated value files. <br>\n",
    "c) Any character such as the comma (,) or tab (\\t) that is used to separate the column data. <br>\n",
    "d) Any character such as the comma (,) or tab (\\t) that is used to separate the row data <br>"
   ]
  },
  {
   "cell_type": "code",
   "execution_count": null,
   "metadata": {},
   "outputs": [],
   "source": []
  },
  {
   "cell_type": "markdown",
   "metadata": {},
   "source": [
    "**Q51.** In separated value files such as .csv and .tsv, what does the first row in the file  typically contain? <br>\n",
    "a) The column names of the data. <br>\n",
    "b) The author of the table data. <br>\n",
    "c) The source of the data <br>\n",
    "d) Notes about the table data"
   ]
  },
  {
   "cell_type": "code",
   "execution_count": null,
   "metadata": {},
   "outputs": [],
   "source": []
  },
  {
   "cell_type": "markdown",
   "metadata": {},
   "source": [
    "Q52. Assume you have a file object my_data, which has properly opened a separated value file that uses the tab character (\\t) as the delimiter. What is the proper way to open the file using the Python CSV module and assign it to the variable csv_reader? Assume that csv has already been imported. <br>\n",
    "a) csv.tab_reader(my_data) <br>\n",
    "b) csv.reader(my_data, delimiter='\\t') <br>\n",
    "c) csv.reader(my_data) <br>\n",
    "d) csv.reader(my_data, tab_delimited=True)<br>"
   ]
  },
  {
   "cell_type": "code",
   "execution_count": null,
   "metadata": {},
   "outputs": [],
   "source": []
  },
  {
   "cell_type": "markdown",
   "metadata": {},
   "source": [
    "**Q53.** When iterating over an object returned from csv.reader(), what is returned with each iteration? For example, given the following code block that assumes csv_reader is an object returned from csv.reader(), what would be printed to the console with each iteration? <br>\n",
    "<pre>\n",
    "for item in csv_reader: \n",
    "        print(item) </pre>\n",
    "a) The full line of the file as a string <br>\n",
    "b) The row data as a list <br>\n",
    "c) The individual value data that is separated by the delimiter <br>\n",
    "d) The column data as a list"
   ]
  },
  {
   "cell_type": "code",
   "execution_count": null,
   "metadata": {},
   "outputs": [],
   "source": []
  },
  {
   "cell_type": "markdown",
   "metadata": {},
   "source": [
    "**Q54.** When writing to a CSV file using the .writerow() method of the csv.DictWriter object, what must each key in the input dict represent? <br>\n",
    "Below is an example: <br>\n",
    "with open('test_file.csv', mode='w') as csv_file: <br>\n",
    "writer = csv.DictWriter(<br>\n",
    "csv_file,<br>\n",
    "fieldnames=['first_col', 'second_col'] <br>\n",
    ")<br>\n",
    "writer.writeheader()<br>\n",
    "<br>\n",
    "#This input dictionary is what the question is referring to and is not necessarily correct as shown. <br>\n",
    "writer.writerow({'key1':'value1', 'key2':'value2'}) <br>\n",
    "a) Each key indicates the row index as an integer for where the data should go <br>\n",
    "b) Each key must match up to the field names (index names) used to identify the row data<br>\n",
    "c) Each key must match up to the field names (column names) used to identify the column\n",
    "data<br>\n",
    "d) Each key indicates the column index as an integer for where the value should go<br>"
   ]
  },
  {
   "cell_type": "code",
   "execution_count": null,
   "metadata": {},
   "outputs": [],
   "source": []
  },
  {
   "cell_type": "markdown",
   "metadata": {},
   "source": [
    "**Q55.** Which is the correct way to open the CSV file hrdata.csv for reading using the pandas package? Assume that the pandas package has already been imported. <br>\n",
    "a) pandas.open_csv('hrdata.csv', 'r')<br>\n",
    "b) pandas.read_table('hrdata.csv')<br>\n",
    "c) pandas.read_csv('hrdata.csv')<br>\n",
    "d) pandas.open('hrdata.csv','r')"
   ]
  },
  {
   "cell_type": "code",
   "execution_count": null,
   "metadata": {},
   "outputs": [],
   "source": []
  },
  {
   "cell_type": "markdown",
   "metadata": {},
   "source": [
    "**Q56.** By default, pandas uses 0-based indices for indexing rows. Which is the correct way to import the CSV file hrdata.csv for reading and using the 'Name' column as the index row instead? <br>\n",
    "Below is the contents of hrdata.csv  <br>\n",
    "Name,Hire Date,Salary,Sick Days remaining<br>\n",
    "Fred,10/10/10,10000,10 <br>\n",
    "a) pandas.read_csv('hrdata.csv', index_col='Name')<br>\n",
    "b) pandas.read_csv('hrdata.csv', index=0, index_col_name='Name')<br>\n",
    "c) pandas.read_csv('hrdata.csv', index='Name')<br>\n",
    "d) pandas.read_csv('hrdata.csv', index_col=0)"
   ]
  },
  {
   "cell_type": "code",
   "execution_count": null,
   "metadata": {},
   "outputs": [],
   "source": []
  },
  {
   "cell_type": "markdown",
   "metadata": {},
   "source": [
    "**Q57.** Given the file dog_breeds.txt, which of the following is the correct way to open the file for reading as a text file? Select all that apply. <br>\n",
    "a) open('dog_breeds.txt', 'w')<br>\n",
    "b) open('dog_breeds.txt', 'r')<br>\n",
    "c) open('dog_breeds.txt')<br>\n",
    "d) open('dog_breeds.txt', 'wb')<br>\n",
    "e) open('dog_breeds.txt', 'rb')"
   ]
  },
  {
   "cell_type": "code",
   "execution_count": null,
   "metadata": {},
   "outputs": [],
   "source": []
  },
  {
   "cell_type": "markdown",
   "metadata": {},
   "source": [
    "**Q58.** Given the following directory structure:<br>\n",
    "animals/<br>\n",
    "│<br>\n",
    "├── feline/<br>\n",
    "│ ├── lions.gif<br>\n",
    "│ └── tigers.gif<br>\n",
    "│<br>\n",
    "├── ursine/<br>\n",
    "│ └── bears.gif<br>\n",
    "│<br>\n",
    "└── animals.csv<br>\n",
    "Assuming that the cwd is in the root folder where animals reside, what is the full path to\n",
    "the feline folder?"
   ]
  },
  {
   "cell_type": "code",
   "execution_count": null,
   "metadata": {},
   "outputs": [],
   "source": []
  },
  {
   "cell_type": "markdown",
   "metadata": {},
   "source": [
    "**Q59.** Given the file jack_russell.png, which of the following is the correct way to open the file for reading as a buffered binary file? Select all that apply. <br>\n",
    "open('jack_russell.png', 'rb')<br>\n",
    "open('jack_russell.png', bytes=True)<br>\n",
    "open('jack_russell.png', 'r')<br>\n",
    "open('jack_russell.png')<br>\n",
    "open('jack_russell.png', 'wb')"
   ]
  },
  {
   "cell_type": "code",
   "execution_count": null,
   "metadata": {},
   "outputs": [],
   "source": []
  },
  {
   "cell_type": "markdown",
   "metadata": {},
   "source": [
    "**Q60.** Using the same directory structure as before: <br>\n",
    "animals/ <br>\n",
    "│<br>\n",
    "├── feline/<br>\n",
    "│ ├── lions.gif<br>\n",
    "│ └── tigers.gif<br>\n",
    "│<br>\n",
    "├── ursine/<br>\n",
    "│ └── bears.gif<br>\n",
    "│<br>\n",
    "└── animals.csv<br>\n",
    "Assuming that the cwd is in the root folder where Animals reside, what is the full path to\n",
    "the file bears.gif?"
   ]
  },
  {
   "cell_type": "code",
   "execution_count": null,
   "metadata": {},
   "outputs": [],
   "source": []
  },
  {
   "cell_type": "markdown",
   "metadata": {},
   "source": [
    "**Q61.** Whenever possible, what is the recommended way to ensure that a file object is properly closed after usage? <br>\n",
    "a) Making sure that you use the .close() method before the end of the script <br>\n",
    "b) It doesn’t matter <br>\n",
    "c) By using the try/finally block <br>\n",
    "d) By using the with statement"
   ]
  },
  {
   "cell_type": "code",
   "execution_count": null,
   "metadata": {},
   "outputs": [],
   "source": []
  },
  {
   "cell_type": "markdown",
   "metadata": {},
   "source": [
    "**Q62.** Using the same directory structure as before: <br>\n",
    "animals/ <br>\n",
    "│ <br>\n",
    "├── feline/ ← cwd <br>\n",
    "│ ├── lions.gif <br>\n",
    "│ └── tigers.gif <br>\n",
    "│<br>\n",
    "├── ursine/ <br>\n",
    "│ └── bears.gif <br>\n",
    "│<br>\n",
    "└── animals.csv <br>\n",
    "Assuming that the cwd is in the feline folder, what is the relative path to the file bears.gif?"
   ]
  },
  {
   "cell_type": "code",
   "execution_count": null,
   "metadata": {},
   "outputs": [],
   "source": []
  },
  {
   "cell_type": "markdown",
   "metadata": {},
   "source": [
    "**Q63.** When reading a file using the file object, what method is best for reading the entire file into a single string? <br>\n",
    "a) .read_file_to_str() <br>\n",
    "b) .read() <br>\n",
    "c) .readlines() <br>\n",
    "d) .readline()"
   ]
  },
  {
   "cell_type": "code",
   "execution_count": null,
   "metadata": {},
   "outputs": [],
   "source": []
  },
  {
   "cell_type": "markdown",
   "metadata": {},
   "source": [
    "**Q64.** The value 1.73 rounded to one decimal place using the “rounding up” strategy is… <br>\n",
    "a) 1.8 <br>\n",
    "b) 1.7"
   ]
  },
  {
   "cell_type": "code",
   "execution_count": null,
   "metadata": {},
   "outputs": [],
   "source": []
  },
  {
   "cell_type": "markdown",
   "metadata": {},
   "source": [
    "**Q65.** The value -2.961 rounded to two decimal places using the “rounding down” strategy is… <br>\n",
    "a) -2.96 <br>\n",
    "b) -2.97"
   ]
  },
  {
   "cell_type": "code",
   "execution_count": null,
   "metadata": {},
   "outputs": [],
   "source": []
  },
  {
   "cell_type": "markdown",
   "metadata": {},
   "source": [
    "**Q66.** When a value is truncated to 3 decimal places, which of the following is true? <br>\n",
    "a) Positive numbers are rounded up, and negative numbers are rounded down. <br>\n",
    "b) Positive numbers are rounded down, and negative numbers are rounded up. <br>\n",
    "c) Both positive and negative numbers are rounded up. <br>\n",
    "d) Both positive and negative numbers are rounded down."
   ]
  },
  {
   "cell_type": "code",
   "execution_count": null,
   "metadata": {},
   "outputs": [],
   "source": []
  },
  {
   "cell_type": "markdown",
   "metadata": {},
   "source": [
    "**Q67.** The value -0.045 rounded to 2 decimal places using the “round half away from zero” strategy is… <br>\n",
    "a) -0.05 <br>\n",
    "b) -0.04"
   ]
  },
  {
   "cell_type": "code",
   "execution_count": null,
   "metadata": {},
   "outputs": [],
   "source": []
  },
  {
   "cell_type": "markdown",
   "metadata": {},
   "source": [
    "**Q68.** Which rounding strategy does Python’s built-in round() function use? <br>\n",
    "a) Round half down <br>\n",
    "b) Round half away from zero <br>\n",
    "c) Round half up <br>\n",
    "d) Round half to even"
   ]
  },
  {
   "cell_type": "markdown",
   "metadata": {},
   "source": [
    "Answer: `(d)`\n",
    "**Explanation:** The “rounding half to even strategy” is the strategy used by Python’s built-in round() function and is the default rounding rule in the IEEE-754 standard. This strategy works under the assumption that the probabilities of a tie in a dataset being rounded down or rounded up are equal. "
   ]
  },
  {
   "cell_type": "markdown",
   "metadata": {},
   "source": [
    "**Q69.** The value 4.65 rounded to one decimal place using the “round half to even” strategy is… <br>\n",
    "a) 4.6 <br>\n",
    "b) 4.7"
   ]
  },
  {
   "cell_type": "code",
   "execution_count": null,
   "metadata": {},
   "outputs": [],
   "source": []
  },
  {
   "cell_type": "markdown",
   "metadata": {},
   "source": [
    "**Q70.** Which problem arises due to the multiple inheritances, if hierarchical inheritance is used previously for its base classes? <br>\n",
    "a) Diamond <br>\n",
    "b) Circle <br>\n",
    "c) Triangle <br>\n",
    "d) Loop"
   ]
  },
  {
   "cell_type": "code",
   "execution_count": null,
   "metadata": {},
   "outputs": [],
   "source": []
  },
  {
   "cell_type": "markdown",
   "metadata": {},
   "source": [
    "**Q71.** How many classes should a program contain to implement the multiple inheritances? <br>\n",
    "a) Only 1 <br>\n",
    "b) At least 1 <br>\n",
    "c) At least 3 <br>\n",
    "d) Exactly 3"
   ]
  },
  {
   "cell_type": "code",
   "execution_count": null,
   "metadata": {},
   "outputs": [],
   "source": []
  },
  {
   "cell_type": "markdown",
   "metadata": {},
   "source": [
    "**Q72.** If class a inherits class b and class c as “class a: public class b, public class c {// class body ;}; ”, which class constructor will be called first? <br>\n",
    "a) Class a. <br>\n",
    "b) Class b. <br>\n",
    "c) Class c. <br>\n",
    "d) All together."
   ]
  },
  {
   "cell_type": "code",
   "execution_count": null,
   "metadata": {},
   "outputs": [],
   "source": []
  },
  {
   "cell_type": "markdown",
   "metadata": {},
   "source": [
    "**Q73.** If all the members of all base classes are private then, <br>\n",
    "a) There won’t be any use of multiple inheritance <br>\n",
    "b) It will make all members as public. <br>\n",
    "c) Derived class can still access them in the multiple inheritance <br>\n",
    "d) Compile-time error"
   ]
  },
  {
   "cell_type": "code",
   "execution_count": null,
   "metadata": {},
   "outputs": [],
   "source": []
  },
  {
   "cell_type": "markdown",
   "metadata": {},
   "source": [
    "**Q74.** Can the derived class be made abstract if multiple inheritance is used? <br>\n",
    "a) No, because other classes must be abstract too <br>\n",
    "b) Yes, if all the functions are implemented <br> \n",
    "c) Yes, if all the methods are predefined <br>\n",
    "d) No, since constructors won’t be there"
   ]
  },
  {
   "cell_type": "code",
   "execution_count": null,
   "metadata": {},
   "outputs": [],
   "source": []
  },
  {
   "cell_type": "markdown",
   "metadata": {},
   "source": [
    "**Q75.** Which among the following best defines the multilevel inheritance? <br>\n",
    "a) A class derived from another derived class <br>\n",
    "b) Classes being derived from other derived classes <br>\n",
    "c) Continuing single level inheritance <br>\n",
    "d) Class which have more than one parent"
   ]
  },
  {
   "cell_type": "code",
   "execution_count": null,
   "metadata": {},
   "outputs": [],
   "source": []
  },
  {
   "cell_type": "markdown",
   "metadata": {},
   "source": [
    "**Q76.** If there are 5 classes, E is derived from D, D from C, C from B and B from A. Which class constructor will be called first if the object of E or D is created? <br>\n",
    "a) A<br>\n",
    "b) B<br>\n",
    "c) C<br>\n",
    "d) A and B"
   ]
  },
  {
   "cell_type": "code",
   "execution_count": null,
   "metadata": {},
   "outputs": [],
   "source": []
  },
  {
   "cell_type": "markdown",
   "metadata": {},
   "source": [
    "**Q77.** Which Class is having the highest degree of abstraction in multilevel inheritance of 5 levels? <br>\n",
    "a) Class at 1st level <br>\n",
    "b) Class 2nd last level <br>\n",
    "c) Class at 5th level <br>\n",
    "d) All with same abstraction"
   ]
  },
  {
   "cell_type": "code",
   "execution_count": null,
   "metadata": {},
   "outputs": [],
   "source": []
  },
  {
   "cell_type": "markdown",
   "metadata": {},
   "source": [
    "**Q78.** Multilevel inheritance allows _________________ in the program. <br>\n",
    "a) Only 7 levels of inheritance <br>\n",
    "b) At least 7 levels of inheritance <br>\n",
    "c) At most 16 levels of inheritance<br>\n",
    "d) As many levels of inheritance as required"
   ]
  },
  {
   "cell_type": "code",
   "execution_count": null,
   "metadata": {},
   "outputs": [],
   "source": []
  },
  {
   "cell_type": "markdown",
   "metadata": {},
   "source": [
    "**Q79.** If all the classes used parameterized constructors and no default constructor then, ___________ <br>\n",
    "a) The object of lower-level classes can’t be created <br>\n",
    "b) Object of lower-level classes must call parent class constructors explicitly<br>\n",
    "c) Object of lower-level classes must define all the default constructors<br>\n",
    "d) Only object of first-class can be created, which is first-parent"
   ]
  },
  {
   "cell_type": "code",
   "execution_count": null,
   "metadata": {},
   "outputs": [],
   "source": []
  },
  {
   "cell_type": "markdown",
   "metadata": {},
   "source": [
    "**Q80.** Which is the universal exception handler class?<br>\n",
    "a) Object<br>\n",
    "b) Math<br>\n",
    "c) Errors<br>\n",
    "d) Exceptions"
   ]
  },
  {
   "cell_type": "code",
   "execution_count": null,
   "metadata": {},
   "outputs": [],
   "source": []
  },
  {
   "cell_type": "markdown",
   "metadata": {},
   "source": [
    "**Q81.** What are two exception classes in the hierarchy of java exceptions class?<br>\n",
    "a) Runtime exceptions only<br>\n",
    "b) Compile-time exceptions only<br>\n",
    "c) Runtime exceptions and other exceptions<br>\n",
    "d) Other exceptions"
   ]
  },
  {
   "cell_type": "code",
   "execution_count": null,
   "metadata": {},
   "outputs": [],
   "source": []
  },
  {
   "cell_type": "markdown",
   "metadata": {},
   "source": [
    "**Q82.** Which are the two blocks that are used to check error and handle the error? <br>\n",
    "a) Try and catch <br>\n",
    "b) Trying and catching<br>\n",
    "c) Do and while<br>\n",
    "d) TryDo and Check"
   ]
  },
  {
   "cell_type": "code",
   "execution_count": null,
   "metadata": {},
   "outputs": [],
   "source": []
  },
  {
   "cell_type": "markdown",
   "metadata": {},
   "source": [
    "**Q83.** To catch the exceptions ___________________ <br>\n",
    "a) An object must be created to catch the exception <br>\n",
    "b) A variable should be created to catch the exception<br>\n",
    "c) An array should be created to catch all the exceptions<br>\n",
    "d) A string has to be created to store exception"
   ]
  },
  {
   "cell_type": "code",
   "execution_count": null,
   "metadata": {},
   "outputs": [],
   "source": []
  },
  {
   "cell_type": "markdown",
   "metadata": {},
   "source": [
    "**Q84.** Which class is used to handle the input and output exceptions?<br>\n",
    "a) InputOutput <br>\n",
    "b) InputOutputExceptions<br>\n",
    "c) IOExceptions<br>\n",
    "d) ExceptionsIOP"
   ]
  },
  {
   "cell_type": "code",
   "execution_count": null,
   "metadata": {},
   "outputs": [],
   "source": []
  },
  {
   "cell_type": "markdown",
   "metadata": {},
   "source": [
    "**Q85.** Which among the following is true for the class exceptions?\n",
    "a) Only base class can give rise to the exceptions\n",
    "b) Only derived class can give rise to exceptions\n",
    "c) Either base or derived class may produce exceptions\n",
    "d) Both base class and derived class may produce exceptions"
   ]
  },
  {
   "cell_type": "code",
   "execution_count": null,
   "metadata": {},
   "outputs": [],
   "source": []
  },
  {
   "cell_type": "markdown",
   "metadata": {},
   "source": [
    "**Q86.** If both base and derived class caught the exceptions, _____. <br>\n",
    "a) Then catch block of a derived class must be defined before the base class <br>\n",
    "b) Then catch block of the base class must be defined before the derived class<br>\n",
    "c) Then catch block of base and derived classes don't matter.<br>\n",
    "d) catch block of the base and derived classes are not mandatory to be defined"
   ]
  },
  {
   "cell_type": "code",
   "execution_count": null,
   "metadata": {},
   "outputs": [],
   "source": []
  },
  {
   "cell_type": "markdown",
   "metadata": {},
   "source": [
    "**Q87.** The catching of base class the exception _________ in java. <br>\n",
    "a) After derived class is not allowed by the compiler <br>\n",
    "b) Before derived class is not allowed by the compiler <br>\n",
    "c) Before derived class is allowed<br>\n",
    "d) After derived class can’t be done"
   ]
  },
  {
   "cell_type": "code",
   "execution_count": null,
   "metadata": {},
   "outputs": [],
   "source": []
  },
  {
   "cell_type": "markdown",
   "metadata": {},
   "source": [
    "**Q88.** Which of the following handles the undefined class in the program? <br>\n",
    "a) ClassNotFound <br>\n",
    "b) NoClassException<br>\n",
    "c) ClassFoundException<br>\n",
    "d) ClassNotFoundException"
   ]
  },
  {
   "cell_type": "code",
   "execution_count": null,
   "metadata": {},
   "outputs": [],
   "source": []
  },
  {
   "cell_type": "markdown",
   "metadata": {},
   "source": [
    "**Q89.** Which among the following is true? <br>\n",
    "a) Only the base class catch the blocks are important. <br>\n",
    "b) Only the derived class catch blocks are important. <br>\n",
    "c) Both the base and derived class catch the blocks are important.<br>\n",
    "d) If the base and derived classes both produce exceptions, the program doesn’t run."
   ]
  },
  {
   "cell_type": "code",
   "execution_count": null,
   "metadata": {},
   "outputs": [],
   "source": []
  },
  {
   "cell_type": "markdown",
   "metadata": {},
   "source": [
    "**Q90.** Which condition among the following might result in memory exception? <br>\n",
    "a) False if conditions<br>\n",
    "b) Nested if conditions that are all false <br>\n",
    "c) Infinite loops<br>\n",
    "d) The loop that runs exactly 99 times"
   ]
  },
  {
   "cell_type": "code",
   "execution_count": null,
   "metadata": {},
   "outputs": [],
   "source": []
  },
  {
   "cell_type": "markdown",
   "metadata": {},
   "source": [
    "**Q91.** Which among the following is the correct definition for static member functions? <br>\n",
    "a) Functions created to allocate the constant values to each object <br>\n",
    "b) Functions made to maintain a single copy of member functions for all the objects <br>\n",
    "c) Functions created to define the static members <br>\n",
    "d) Functions made to manipulate the static programs"
   ]
  },
  {
   "cell_type": "code",
   "execution_count": null,
   "metadata": {},
   "outputs": [],
   "source": []
  },
  {
   "cell_type": "markdown",
   "metadata": {},
   "source": [
    "**Q92.** The static member functions __________________ <br>\n",
    "a) Having access to all the members of the class. <br>\n",
    "b) Having access to only constant members of a class. <br>\n",
    "c) Having access to only the static members of a class.<br>\n",
    "d) Having direct access to all other class members also."
   ]
  },
  {
   "cell_type": "code",
   "execution_count": null,
   "metadata": {},
   "outputs": [],
   "source": []
  },
  {
   "cell_type": "markdown",
   "metadata": {},
   "source": [
    "**Q93.** Which is the correct syntax to access the static member functions with a class name? <br>\n",
    "a) className . functionName; <br>\n",
    "b) className -> functionName; <br>\n",
    "c) className : functionName; <br>\n",
    "d) className :: functionName;"
   ]
  },
  {
   "cell_type": "code",
   "execution_count": null,
   "metadata": {},
   "outputs": [],
   "source": []
  },
  {
   "cell_type": "markdown",
   "metadata": {},
   "source": [
    "**Q94.** The static members are ______________________ <br>\n",
    "a) Created with each new object. <br>\n",
    "b) Created twice in the program.<br>\n",
    "c) Created as many times, the class is being used.<br>\n",
    "d) Created and initialised, only once"
   ]
  },
  {
   "cell_type": "code",
   "execution_count": null,
   "metadata": {},
   "outputs": [],
   "source": []
  },
  {
   "cell_type": "markdown",
   "metadata": {},
   "source": [
    "**Q95.** Which among the following is true? <br>\n",
    "a) Static member functions can be overloaded. <br>\n",
    "b) Static member functions can’t be overloaded.<br>\n",
    "c) Static member functions can be overloaded using the derived classes.<br>\n",
    "d) Static member functions are implicitly overloaded."
   ]
  },
  {
   "cell_type": "code",
   "execution_count": null,
   "metadata": {},
   "outputs": [],
   "source": []
  },
  {
   "cell_type": "markdown",
   "metadata": {},
   "source": [
    "**Q96.** The static member functions _______________ <br>\n",
    "a) Can’t be declared const. <br>\n",
    "b) Can’t be declared volatile. <br>\n",
    "c) Can’t be declared const or volatile.<br>\n",
    "d) Can’t be declared const, volatile, or constant volatile."
   ]
  },
  {
   "cell_type": "code",
   "execution_count": null,
   "metadata": {},
   "outputs": [],
   "source": []
  },
  {
   "cell_type": "markdown",
   "metadata": {},
   "source": [
    "Q97. Which among the following can’t be used to access the members in anyway?<br>\n",
    "a) Scope resolution. <br>\n",
    "b) Arrow operator. <br>\n",
    "c) Single colon.<br>\n",
    "d) Dot operator."
   ]
  },
  {
   "cell_type": "code",
   "execution_count": null,
   "metadata": {},
   "outputs": [],
   "source": []
  },
  {
   "cell_type": "markdown",
   "metadata": {},
   "source": [
    "Q98. If static data member are made inline, ______________ <br>\n",
    "a) Those should be initialised outside of the class. <br>\n",
    "b) Those can’t be initialised with the class. <br>\n",
    "c) Those can be initialised within the class. <br>\n",
    "d) Class members can't use those."
   ]
  },
  {
   "cell_type": "code",
   "execution_count": null,
   "metadata": {},
   "outputs": [],
   "source": []
  },
  {
   "cell_type": "markdown",
   "metadata": {},
   "source": [
    "Q99. The static data member _________________ <br>\n",
    "a) It can be mutable. <br>\n",
    "b) Can’t be mutable. <br>\n",
    "c) Can’t be an integer. <br>\n",
    "d) Can’t be characters."
   ]
  },
  {
   "cell_type": "code",
   "execution_count": null,
   "metadata": {},
   "outputs": [],
   "source": []
  },
  {
   "cell_type": "markdown",
   "metadata": {},
   "source": [
    "Q100. We can use the static member functions and static data member\n",
    "__________________. <br>\n",
    "a) Even if a class object is not created <br>\n",
    "b) Even if a class is not defined<br>\n",
    "c) Even if a class doesn’t contain any static member <br>\n",
    "d) Even if a class doesn’t have a complete definition <br>"
   ]
  },
  {
   "cell_type": "code",
   "execution_count": null,
   "metadata": {},
   "outputs": [],
   "source": []
  },
  {
   "cell_type": "markdown",
   "metadata": {},
   "source": [
    "Q101. Point out the wrong statement: <br>\n",
    "a) ipython is an enhanced interactive python shell. <br>\n",
    "b) Matplotlib: It enables us to plot graphics. <br>\n",
    "c) rPy provides lots of scientific routines that work on top of NumPy. <br>\n",
    "d) all of the mentioned."
   ]
  },
  {
   "cell_type": "code",
   "execution_count": null,
   "metadata": {},
   "outputs": [],
   "source": []
  },
  {
   "cell_type": "markdown",
   "metadata": {},
   "source": [
    "Q102. The ________ function returns its argument with the modified shape, whereas the ________ method modifies the array itself. <br>\n",
    "a) reshape, resize. <br>\n",
    "b) resize, reshape. <br>\n",
    "c) reshape2,resize. <br>\n",
    "d) all of the mentioned."
   ]
  },
  {
   "cell_type": "code",
   "execution_count": null,
   "metadata": {},
   "outputs": [],
   "source": []
  },
  {
   "cell_type": "markdown",
   "metadata": {},
   "source": [
    "Q103. To create sequences of the numbers, NumPy provides a function __________ analogous to range that returns arrays instead of lists. <br>\n",
    "a) arrange. <br>\n",
    "b) aspace. <br>\n",
    "c) aline. <br>\n",
    "d) all of the mentioned."
   ]
  },
  {
   "cell_type": "code",
   "execution_count": null,
   "metadata": {},
   "outputs": [],
   "source": []
  },
  {
   "cell_type": "markdown",
   "metadata": {},
   "source": [
    "Q104. Point out the correct statement: <br>\n",
    "a) NumPy main object is the Homogeneous -Multidimensional array. <br>\n",
    "b) In Numpy, dimensions are called axes. <br>\n",
    "c) Numpy array class is called ndarray. <br>\n",
    "d) All of the Mentioned"
   ]
  },
  {
   "cell_type": "code",
   "execution_count": null,
   "metadata": {},
   "outputs": [],
   "source": []
  },
  {
   "cell_type": "markdown",
   "metadata": {},
   "source": [
    "Q105. Which of the following function stack 1D array as the columns into the 2D array? <br>\n",
    "a) row_stack. <br>\n",
    "b) column_stack. <br>\n",
    "c) com_stack. <br>\n",
    "d) all of the mentioned."
   ]
  },
  {
   "cell_type": "code",
   "execution_count": null,
   "metadata": {},
   "outputs": [],
   "source": []
  },
  {
   "cell_type": "markdown",
   "metadata": {},
   "source": [
    "Q106. ndarray is also known as an alias array. <br>\n",
    "a) True <br>\n",
    "b) False"
   ]
  },
  {
   "cell_type": "code",
   "execution_count": null,
   "metadata": {},
   "outputs": [],
   "source": []
  },
  {
   "cell_type": "markdown",
   "metadata": {},
   "source": [
    "Q107. Which of the following method creates the new array object that looks at the same data? <br>\n",
    "a) view. <br>\n",
    "b) copy. <br>\n",
    "c) paste. <br>\n",
    "d) all of the mentioned."
   ]
  },
  {
   "cell_type": "code",
   "execution_count": null,
   "metadata": {},
   "outputs": [],
   "source": []
  },
  {
   "cell_type": "markdown",
   "metadata": {},
   "source": [
    "Q108. Which of the functions can be used to combine the different vectors to obtain the result for each n-uplet? <br>\n",
    "a) iid_. <br>\n",
    "b) ix_. <br>\n",
    "c) ixd_. <br>\n",
    "d) all of the mentioned."
   ]
  },
  {
   "cell_type": "code",
   "execution_count": null,
   "metadata": {},
   "outputs": [],
   "source": []
  },
  {
   "cell_type": "markdown",
   "metadata": {},
   "source": [
    "Q109. ndarray.dataitemSize is the buffer containing actual elements of an array. <br>\n",
    "a) True <br>\n",
    "b) False"
   ]
  },
  {
   "cell_type": "code",
   "execution_count": null,
   "metadata": {},
   "outputs": [],
   "source": []
  },
  {
   "cell_type": "markdown",
   "metadata": {},
   "source": [
    "Q110. Which of the following is in the NumPy library? <br>\n",
    "a) The n-dimensional array object <br>\n",
    "b) The tools for integrating C/C++ and the Fortran code <br>\n",
    "c) Fourier transform <br>\n",
    "d) all of the Mentioned"
   ]
  },
  {
   "cell_type": "markdown",
   "metadata": {},
   "source": [
    "Answer: `(d)`"
   ]
  },
  {
   "cell_type": "markdown",
   "metadata": {},
   "source": [
    "Q111. Which of the following sets the size of the buffer used in ufuncs? <br>\n",
    "a) bufsize(size) <br>\n",
    "b) setsize(size) <br>\n",
    "c) setbufsize(size) <br>\n",
    "d) all of the Mentioned"
   ]
  },
  {
   "cell_type": "markdown",
   "metadata": {},
   "source": [
    "Answer: `(c)`\n",
    "**Explanation:** setbufsize(size): Set the size of the buffer used in ufuncs."
   ]
  },
  {
   "cell_type": "markdown",
   "metadata": {},
   "source": [
    "Q112. Point out the wrong statement: <br>\n",
    "a) A universal function is the function that operates upon the “ndarrays” in an element-by-element fashion <br>\n",
    "b) In Numpy, universal functions are the instances of numpy.ufunction class <br>\n",
    "c) Many of the built-in functions are implemented in compiled C code <br>\n",
    "d) All of the Mentioned"
   ]
  },
  {
   "cell_type": "code",
   "execution_count": null,
   "metadata": {},
   "outputs": [],
   "source": []
  },
  {
   "cell_type": "markdown",
   "metadata": {},
   "source": [
    "Q113. Which of the following attribute should be used while checking the type combination input and output? <br>\n",
    "a) .types <br>\n",
    "b) .type <br>\n",
    "c) .class <br>\n",
    "d) all of the Mentioned"
   ]
  },
  {
   "cell_type": "code",
   "execution_count": null,
   "metadata": {},
   "outputs": [],
   "source": []
  },
  {
   "cell_type": "markdown",
   "metadata": {},
   "source": [
    "Q114. Which of the following returns an array of “ones” with the same shape and type as a given array? <br>\n",
    "a) all_like <br>\n",
    "b) ones_like <br>\n",
    "c) one_alike <br>\n",
    "d) all of the Mentioned"
   ]
  },
  {
   "cell_type": "markdown",
   "metadata": {},
   "source": [
    "Answer: `(b)` <br>\n",
    "**Explanation:** ones_like (a[, dtype, order, subok, shape])--> Return an array of ones with the same shape and type as a given array."
   ]
  },
  {
   "cell_type": "markdown",
   "metadata": {},
   "source": [
    "Q115. Point out the wrong statement: <br>\n",
    "a) Each universal function takes an array input and produces array outputs <br>\n",
    "b) Broadcasting is used throughout NumPy to decide how to handle the disparately shaped arrays <br>\n",
    "c) The output of the ufunc is necessarily a ndarray, if all the input arguments are ndarrays <br>\n",
    "d) All of the Mentioned"
   ]
  },
  {
   "cell_type": "markdown",
   "metadata": {},
   "source": [
    "Answer: `(c)`\n",
    "**Explanation:** The output of the ufunc (and its methods) is not necessarily an ndarray, if all input arguments are not ndarrays. Indeed, if any input defines an __array_ufunc__ method, control will be passed completely to that function, i.e., the ufunc is overridden.\n"
   ]
  },
  {
   "cell_type": "markdown",
   "metadata": {},
   "source": [
    "Q116. Which of the following set of a floating-point error callback function or a log object? <br>\n",
    "a) setter. <br>\n",
    "b) settercall. <br>\n",
    "c) setterstack. <br>\n",
    "d) all of the mentioned."
   ]
  },
  {
   "cell_type": "code",
   "execution_count": null,
   "metadata": {},
   "outputs": [],
   "source": [
    "Answer: `(d)`"
   ]
  },
  {
   "cell_type": "markdown",
   "metadata": {},
   "source": [
    "**Explanation:**:  <br>\n",
    "Floating point error handling: Setting and getting error handling <br>\n",
    "**seterr([all, divide, over, under, invalid]):** Set how floating-point errors are handled. <br>\n",
    "**geterr():** Get the current way of handling floating-point errors. <br>\n",
    "**seterrcall(func):** Set the floating-point error callback function or log object.<br>\n",
    "**geterrcall():** Return the current callback function used on floating-point errors.<br>\n",
    "**errstate(**kwargs):**\tContext manager for floating-point error handling. <br> <br>\n",
    "Internal functions <br>\n",
    "**seterrobj(errobj):** Set the `object` that defines floating-point error handling. <br>\n",
    "**geterrobj():** Return the current `object` that defines floating-point error handling. <br>"
   ]
  },
  {
   "cell_type": "markdown",
   "metadata": {},
   "source": [
    "Q117. Some ufuncs can take output arguments. <br>\n",
    "a) True <br>\n",
    "b) False"
   ]
  },
  {
   "cell_type": "markdown",
   "metadata": {},
   "source": [
    "Answer: `(a)` <br>\n",
    "**Explanation:** All ufuncs can also take output arguments. If necessary, output will be cast to the data-type(s) of the provided output array(s).<br>\n",
    "**What is ufunc?** <br>\n",
    "**Answer:** A universal function (or ufunc for short) is a function that operates on ndarrays in an element-by-element fashion, supporting array broadcasting, type casting, and several other standard features.  <br>\n",
    "A ufunc is a “vectorized” wrapper for a function that takes a fixed number of specific inputs and produces a fixed number of specific outputs."
   ]
  },
  {
   "cell_type": "markdown",
   "metadata": {},
   "source": [
    "Q118. ___________ decompose the elements of x into the mantissa and the two’s exponent. <br>\n",
    "a) trunc <br>\n",
    "b) fmod <br>\n",
    "c) frexp <br>\n",
    "d) ldexp"
   ]
  },
  {
   "cell_type": "markdown",
   "metadata": {},
   "source": [
    "Answer:`(c)` <br>"
   ]
  },
  {
   "cell_type": "markdown",
   "metadata": {},
   "source": [
    "Q119. Which of the following function take only single value as input? <br>\n",
    "a) iscomplex. <br>\n",
    "b) minimum. <br>\n",
    "c) fmin. <br>\n",
    "d) all of the mentioned."
   ]
  },
  {
   "cell_type": "code",
   "execution_count": null,
   "metadata": {},
   "outputs": [],
   "source": []
  },
  {
   "cell_type": "markdown",
   "metadata": {},
   "source": [
    "Q120. The array object returned by the _array_prepare_ is passed to ufunc for computation. <br>\n",
    "a) True <br>\n",
    "b) False"
   ]
  },
  {
   "cell_type": "markdown",
   "metadata": {},
   "source": [
    "Answer: `(a)`\n",
    "**Explanation:** The array object returned by __array_prepare__ is passed to the ufunc for computation.  <br>\n",
    "Source: https://numpy.org/devdocs/reference/ufuncs.html"
   ]
  },
  {
   "cell_type": "markdown",
   "metadata": {},
   "source": [
    "Q121. All pandas data structures are______mutable but not always _______-mutable. <br>\n",
    "a) size,value. <br>\n",
    "b) semantic,size. <br>\n",
    "c) value,size. <br>\n",
    "d) none of the mentioned."
   ]
  },
  {
   "cell_type": "markdown",
   "metadata": {},
   "source": [
    "Answer: `(c)`<br>\n",
    "**Explanation:** All Pandas data structures are value mutable (can be changed) and except Series all are size mutable. Series is size immutable."
   ]
  },
  {
   "cell_type": "markdown",
   "metadata": {},
   "source": [
    "Q122. Point out the correct statement: <br>\n",
    "a) Pandas consist of a set of the labelled array data structures <br>\n",
    "b) Pandas consist of an integrated group by the engine for aggregating and the transforming data sets <br>\n",
    "c) Pandas consist of moving window statistics <br>\n",
    "d) All of the above mentioned."
   ]
  },
  {
   "cell_type": "markdown",
   "metadata": {},
   "source": [
    "Answer: `(d)`"
   ]
  },
  {
   "cell_type": "markdown",
   "metadata": {},
   "source": [
    "Q123. Which of the following statement will import the pandas? <br>\n",
    "a) import pandas as pd <br>\n",
    "b) import panda as py <br>\n",
    "c) import pandaspy as pd <br>\n",
    "d) all of the Mentioned"
   ]
  },
  {
   "cell_type": "markdown",
   "metadata": {},
   "source": [
    "##### not sure about pandaspy"
   ]
  },
  {
   "cell_type": "code",
   "execution_count": 10,
   "metadata": {},
   "outputs": [
    {
     "ename": "ModuleNotFoundError",
     "evalue": "No module named 'pandaspy'",
     "output_type": "error",
     "traceback": [
      "\u001b[1;31m---------------------------------------------------------------------------\u001b[0m",
      "\u001b[1;31mModuleNotFoundError\u001b[0m                       Traceback (most recent call last)",
      "\u001b[1;32m<ipython-input-10-0cd74fe40bb9>\u001b[0m in \u001b[0;36m<module>\u001b[1;34m\u001b[0m\n\u001b[1;32m----> 1\u001b[1;33m \u001b[1;32mimport\u001b[0m \u001b[0mpandaspy\u001b[0m \u001b[1;32mas\u001b[0m \u001b[0mpd\u001b[0m\u001b[1;33m\u001b[0m\u001b[1;33m\u001b[0m\u001b[0m\n\u001b[0m",
      "\u001b[1;31mModuleNotFoundError\u001b[0m: No module named 'pandaspy'"
     ]
    }
   ],
   "source": [
    "import pandaspy as pd"
   ]
  },
  {
   "cell_type": "markdown",
   "metadata": {},
   "source": [
    "Q124. Which of the following object did we get after reading the CSV file? <br>\n",
    "a) DataFrame. <br>\n",
    "b) Character Vector. <br>\n",
    "c) Panel. <br>\n",
    "d) All of the Mentioned"
   ]
  },
  {
   "cell_type": "markdown",
   "metadata": {},
   "source": [
    "Answer: `(a)`<br>\n",
    "**Explanation:** After reading the CSV file, we get DataFrame object"
   ]
  },
  {
   "cell_type": "markdown",
   "metadata": {},
   "source": [
    "Q125. Point out the wrong statement: <br>\n",
    "a) Series is 1D labelled homogeneously-typed array. <br>\n",
    "b) DataFrame is a general 2D labelled, size-mutable tabular structure with the potentially heterogeneously-typed columns. <br>\n",
    "c) The panel is generally 2D labelled, also a size-mutable array. <br>\n",
    "d) None of the Mentioned."
   ]
  },
  {
   "cell_type": "markdown",
   "metadata": {},
   "source": [
    "Answer: `(c)`<br>\n",
    "**Explanation:** Panel is generally 3D labeled."
   ]
  },
  {
   "cell_type": "markdown",
   "metadata": {},
   "source": [
    "Q126. Which of the following library is similar to the pandas? <br>\n",
    "a) numpy. <br>\n",
    "b) RPy. <br>\n",
    "c) OutPy. <br>\n",
    "d) None of the mentioned."
   ]
  },
  {
   "cell_type": "markdown",
   "metadata": {},
   "source": [
    "Answer: `(a)`<br>\n",
    "**Explanation:** NumPy is the fundamental package for scientific computing with Python."
   ]
  },
  {
   "cell_type": "markdown",
   "metadata": {},
   "source": [
    "Q127. Panel is a container for the Series, and DataFrame is a container for DataFrame objects. <br>\n",
    "a) True <br>\n",
    "b) False"
   ]
  },
  {
   "cell_type": "markdown",
   "metadata": {},
   "source": [
    "Answer: `(b)` <br>\n",
    "**Explanation:** The best way to think of these data structures is that the higher dimensional data structure is a container of its lower dimensional data structure. For example, **DataFrame is a container of Series, Panel is a container of DataFrame.**"
   ]
  },
  {
   "cell_type": "markdown",
   "metadata": {},
   "source": [
    "Q128. Which of the following is the prominent python “statistics and econometrics library”? <br>\n",
    "a) Bokeh. <br>\n",
    "b) Seaborn. <br>\n",
    "c) Statsmodels. <br>\n",
    "d) None of the mentioned."
   ]
  },
  {
   "cell_type": "markdown",
   "metadata": {},
   "source": [
    "Answer: `(c)`\n",
    "**Explanation:** Statsmodels is the prominent python “statistics and econometrics library” and it has a long-standing special relationship with pandas. Statsmodels provides powerful statistics, econometrics, analysis and modeling functionality that is out of pandas’ scope. Statsmodels leverages pandas objects as the underlying data container for computation."
   ]
  },
  {
   "cell_type": "markdown",
   "metadata": {},
   "source": [
    "Q129. Which of the following is the foundational exploratory visualisation package for the R language in the pandas ecosystem? <br>\n",
    "a) yhat. <br>\n",
    "b) Seaborn. <br>\n",
    "c) Vincent. <br>\n",
    "d) None of the mentioned."
   ]
  },
  {
   "cell_type": "markdown",
   "metadata": {},
   "source": [
    "Answer: `(a)` <br>\n",
    "**Explanation:** Hadley Wickham’s yhat/ggplot2 is a foundational exploratory visualization package for the R language."
   ]
  },
  {
   "cell_type": "markdown",
   "metadata": {},
   "source": [
    "**Q130.** Pandas consist of static and the moving window linear and panel regression. <br>\n",
    "a) True <br>\n",
    "b) False"
   ]
  },
  {
   "cell_type": "markdown",
   "metadata": {},
   "source": [
    "Answer : `(a)`"
   ]
  },
  {
   "cell_type": "markdown",
   "metadata": {},
   "source": [
    "**Explanation:** pandas consists of the following things:<br>\n",
    "1. A set of labeled array data structures, the primary of which are Series/TimeSeries and DataFrame.\n",
    "2. Index objects enabling both simple axis indexing and multi-level / hierarchical axis indexing\n",
    "3. An integrated group by engine for aggregating and transforming data sets\n",
    "4. Date range generation (date_range) and custom date offsets enabling the implementation of customized frequencies.\n",
    "5. Input/Output tools: loading tabular data from flat files (CSV, delimited, Excel 2003), and saving and loading pandas objects from the fast and efficient PyTables/HDF5 format.\n",
    "6. Memory-efficent “sparse” versions of the standard data structures for storing data that is mostly missing or mostly constant (some fixed value)\n",
    "7. Moving window statistics (rolling mean, rolling standard deviation, etc.)\n",
    "8. Static and moving window linear and panel regression"
   ]
  },
  {
   "cell_type": "markdown",
   "metadata": {},
   "source": [
    "**Q131.** Quandl API for Python wraps the __ REST API to returns the pandas DataFrames with time series indexes. <br>\n",
    "a) Quandl. <br>\n",
    "b) PyDatastream. <br>\n",
    "c) PyData. <br>\n",
    "d) None of the Mentioned."
   ]
  },
  {
   "cell_type": "markdown",
   "metadata": {},
   "source": [
    "Answer: `(a)`<br>\n",
    "Quandl API for Python wraps the Quandl REST API to return Pandas DataFrames with timeseries indexes."
   ]
  },
  {
   "cell_type": "markdown",
   "metadata": {},
   "source": [
    "Q132. Point out the correct statement: <br>\n",
    "a) Statsmodels provides powerful statistics, econometrics, analysis and the modelling  functionality which is out of pandas’ scope <br>\n",
    "b) Vintage leverages pandas objects as an underlying data container for the computation. <br>\n",
    "c) Bokeh is a Python interactive visualisation library for the small datasets <br>\n",
    "d) All of the Mentioned"
   ]
  },
  {
   "cell_type": "code",
   "execution_count": null,
   "metadata": {},
   "outputs": [],
   "source": []
  },
  {
   "cell_type": "markdown",
   "metadata": {},
   "source": [
    "Q133.Which of the following library is used to retrieve and to acquire statistical data and metadata disseminated in SDMX 2.1? <br>\n",
    "a) pandaSDMX <br>\n",
    "b) freedapi <br>\n",
    "c) Geopandas. <br>\n",
    "d) All of the Mentioned."
   ]
  },
  {
   "cell_type": "code",
   "execution_count": null,
   "metadata": {},
   "outputs": [],
   "source": [
    "Answer: `(a)`<br>\n",
    "**Explanation:** pandaSDMX is an Apache 2.0-licensed Python library to retrieve and acquire statistical data and metadata disseminated in SDMX 2.1, an ISO-standard widely used by institutions such as statistics offices, central banks, and international organisations. pandaSDMX exposes datasets and related structural metadata including dataflows, code-lists,\n",
    "and datastructure definitions as pandas Series or multi-indexed DataFrames."
   ]
  },
  {
   "cell_type": "markdown",
   "metadata": {},
   "source": [
    "Q134. Which of the following provides the standard API for doing computations with MongoDB? <br>\n",
    "a) Blaze. <br>\n",
    "b) Geopandas. <br>\n",
    "c) FRED. <br>\n",
    "d) All of the Mentioned."
   ]
  },
  {
   "cell_type": "markdown",
   "metadata": {},
   "source": [
    "Answer: `(a)`<br>\n",
    "**Explanation:** Blaze provides a standard API for doing computations with various in-memory and on-disk backends: NumPy, Pandas, SQLAlchemy, MongoDB, PyTables, PySpark."
   ]
  },
  {
   "cell_type": "markdown",
   "metadata": {},
   "source": [
    "Q135. Point out the wrong statement: <br>\n",
    "a) qgrid is an interactive grid for sorting and the filtering DataFrames <br>\n",
    "b) Pandas DataFrames implement _repr_html_ methods which are utilised by the IPython Notebook<br>\n",
    "c) Spyder is a cross-platform Qt-based open-source R IDE <br>\n",
    "d) None of the Mentioned"
   ]
  },
  {
   "cell_type": "markdown",
   "metadata": {},
   "source": [
    "Answer: `(c)`\n",
    "**Explanation:** Spyder is a cross-platform Qt-based open-source Python IDE."
   ]
  },
  {
   "cell_type": "markdown",
   "metadata": {},
   "source": [
    "Q136. Which of the following makes use of the pandas and returns data in a Series or DataFrame? <br>\n",
    "a) pandaSDMX. <br>\n",
    "b) freedapi. <br>\n",
    "c) OutPy. <br>\n",
    "d) none of the mentioned."
   ]
  },
  {
   "cell_type": "markdown",
   "metadata": {},
   "source": [
    "Answer: `(b)`<br>\n",
    "**Explanation:** freedapi module requires a FRED API key that you can obtain for free on the FRED website."
   ]
  },
  {
   "cell_type": "markdown",
   "metadata": {},
   "source": [
    "Q137. Spyder can introspect and display Pandas DataFrames. <br>\n",
    "a) True <br>\n",
    "b) False"
   ]
  },
  {
   "cell_type": "markdown",
   "metadata": {},
   "source": [
    "Answer: `(b)`<br>\n",
    "**Explanation:** Spyder show both “column wise min/max and global min/max coloring."
   ]
  },
  {
   "cell_type": "markdown",
   "metadata": {},
   "source": [
    "Q138. Which of the following is used for machine learning in the python? <br>\n",
    "a) sci-kit-learn. <br>\n",
    "b) seaborn-learn. <br>\n",
    "c) stats-learn. <br>\n",
    "d) none of the mentioned."
   ]
  },
  {
   "cell_type": "code",
   "execution_count": null,
   "metadata": {},
   "outputs": [],
   "source": [
    "Answer: `(a)`<br>\n",
    "**Explanation:** scikit-learn is built on NumPy, SciPy, and matplotlib."
   ]
  },
  {
   "cell_type": "markdown",
   "metadata": {},
   "source": [
    "Q139. The ________ project builds on top of the pandas and matplotlib to provide easy plotting of data. <br>\n",
    "a) yhat. <br>\n",
    "b) Seaborn. <br>\n",
    "c) Vincent. <br>\n",
    "d) None of the mentioned."
   ]
  },
  {
   "cell_type": "markdown",
   "metadata": {},
   "source": [
    "Answer: (b)<br>\n",
    "**Explanation:** Seaborn has great support for pandas data objects."
   ]
  },
  {
   "cell_type": "markdown",
   "metadata": {},
   "source": [
    "Q140 x-ray brings the labelled data power of pandas to the physical sciences. <br>\n",
    "a) True <br>\n",
    "b) False"
   ]
  },
  {
   "cell_type": "markdown",
   "metadata": {},
   "source": [
    "Answer: `(a)`<br>\n",
    "**Explanation:** It aims to provide a pandas-like and pandas-compatible toolkit for analytics on multi-dimensional arrays."
   ]
  },
  {
   "cell_type": "markdown",
   "metadata": {},
   "source": [
    "Q141. Which of the following is the base layer of all of the sparse has it indexed data structures? <br>\n",
    "a) SArray.<br>\n",
    "b) SparseArray.<br>\n",
    "c) PyArray. <br>\n",
    "d) None of the mentioned."
   ]
  },
  {
   "cell_type": "markdown",
   "metadata": {},
   "source": [
    "Answer: `(b)`<br>\n",
    "**Explanation:** SparseArray is a 1-dimensional ndarray-like object storing only values distinct from the fill_value."
   ]
  },
  {
   "cell_type": "markdown",
   "metadata": {},
   "source": [
    "Q142. Point out the correct statement. <br>\n",
    "a) All of the standard pandas data structures have to_sparse method <br>\n",
    "b) Any sparse object can be converted back to the standard dense form by calling the to_dense. <br>\n",
    "c) The sparse objects exist for memory efficiency reasons. <br>\n",
    "d) All of the mentioned."
   ]
  },
  {
   "cell_type": "markdown",
   "metadata": {},
   "source": [
    "Answer: `(d)` <br>\n",
    "**Explanation:** The to_sparse method takes a kind argument and a fill_value."
   ]
  },
  {
   "cell_type": "markdown",
   "metadata": {},
   "source": [
    "Q143. Which of the following is not an indexed object? <br>\n",
    "a) SparseSeries. <br>\n",
    "b) SparseDataFrame. <br>\n",
    "c) SparsePanel. <br>\n",
    "d) None of the mentioned."
   ]
  },
  {
   "cell_type": "markdown",
   "metadata": {},
   "source": [
    "Answer: `(d)` <br>\n",
    "**Explanation:** SparseArray can be converted back to a regular ndarray by calling to_dense."
   ]
  },
  {
   "cell_type": "markdown",
   "metadata": {},
   "source": [
    "Q144. Which of the following list like data structure is used for managing the dynamic collection of SparseArrays? <br>\n",
    "a) SparseList. <br>\n",
    "b) GeoList. <br>\n",
    "c) SparseSeries. <br>\n",
    "d) All of the mentioned."
   ]
  },
  {
   "cell_type": "markdown",
   "metadata": {},
   "source": [
    "Answer: (a)<br>\n",
    "**Explanation:** To create one, simply call the SparseList constructor with a fill_value."
   ]
  },
  {
   "cell_type": "markdown",
   "metadata": {},
   "source": [
    "Q145. Point out the wrong statement. <br>\n",
    "a) to_array. append can accept scalar values or any 2-D sequence. <br>\n",
    "b) Two kinds of SparseIndex are implemented. <br>\n",
    "c) The integer format keeps an arrays of all locations, where the data are not equal to the fill value. <br>\n",
    "d) None of the mentioned."
   ]
  },
  {
   "cell_type": "markdown",
   "metadata": {},
   "source": [
    "Answer: `(a)`<br>\n",
    "**Explanation:** to_array. append can accept scalar values or any 1-dimensional sequence."
   ]
  },
  {
   "cell_type": "markdown",
   "metadata": {},
   "source": []
  },
  {
   "cell_type": "markdown",
   "metadata": {},
   "source": [
    "Q146. Which of the following method used for transforming the Sparse-series index by the MultiIndex to a scipy.sparse.coo_matrix? <br>\n",
    "a) SparseSeries.to_coo(). <br>\n",
    "b) Series.to_coo(). <br>\n",
    "c) SparseSeries.to_cooser(). <br>\n",
    "d) None of the mentioned."
   ]
  },
  {
   "cell_type": "markdown",
   "metadata": {},
   "source": [
    "Answer: `(a)` <br>\n",
    "**Explanation:** Experimental api to transform between sparse pandas and scipy.sparse structures."
   ]
  },
  {
   "cell_type": "markdown",
   "metadata": {},
   "source": [
    "Q147. The integer format tracks only the locations and the sizes of blocks of data. <br>\n",
    "a) True <br>\n",
    "b) False"
   ]
  },
  {
   "cell_type": "markdown",
   "metadata": {},
   "source": [
    "Answer: `(b)`<br>\n",
    "**Explanation:** The block format tracks only the locations and sizes of blocks of data."
   ]
  },
  {
   "cell_type": "markdown",
   "metadata": {},
   "source": [
    "##### Q148. Which of the following is used for the testing for membership in the list of column names? <br> a) in. <br> b) out. <br> c) else if. <br> d) none of the mentioned."
   ]
  },
  {
   "cell_type": "markdown",
   "metadata": {},
   "source": [
    "Answer: `(a)`\n",
    "**Explanation:** For DataFrames, likewise, in applies to the column axis."
   ]
  },
  {
   "cell_type": "markdown",
   "metadata": {},
   "source": [
    "##### Q149. Which of the following indexing capabilities is used as the concise means of selecting data from a pandas object? <br> a) In. <br> b) ix. <br> c) ipy. <br> d) none of the mentioned."
   ]
  },
  {
   "cell_type": "markdown",
   "metadata": {},
   "source": [
    "Answer: `(b)` <br>\n",
    "**Explanation:** ix and reindex are 100% equivalent."
   ]
  },
  {
   "cell_type": "markdown",
   "metadata": {},
   "source": [
    "##### Q150. Pandas follow the NumPy convention of raising an error when you try to convert something to a bool. <br> a) True <br> b) False"
   ]
  },
  {
   "cell_type": "markdown",
   "metadata": {},
   "source": [
    "Answer: `(a)` <br>\n",
    "**Explanation:** This happens in an if or when using the boolean operations, and, or, or not."
   ]
  },
  {
   "cell_type": "code",
   "execution_count": null,
   "metadata": {},
   "outputs": [],
   "source": []
  }
 ],
 "metadata": {
  "kernelspec": {
   "display_name": "Python 3",
   "language": "python",
   "name": "python3"
  },
  "language_info": {
   "codemirror_mode": {
    "name": "ipython",
    "version": 3
   },
   "file_extension": ".py",
   "mimetype": "text/x-python",
   "name": "python",
   "nbconvert_exporter": "python",
   "pygments_lexer": "ipython3",
   "version": "3.7.3"
  }
 },
 "nbformat": 4,
 "nbformat_minor": 4
}
