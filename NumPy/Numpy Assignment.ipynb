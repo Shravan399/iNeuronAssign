{
 "cells": [
  {
   "cell_type": "markdown",
   "metadata": {},
   "source": [
    "### Numpy Assignment"
   ]
  },
  {
   "cell_type": "code",
   "execution_count": 20,
   "metadata": {},
   "outputs": [],
   "source": [
    "import numpy as np"
   ]
  },
  {
   "attachments": {
    "Screenshot%20from%202020-05-06%2016-21-15.png": {
     "image/png": "[encoded data removed]"
    }
   },
   "cell_type": "markdown",
   "metadata": {},
   "source": [
    "#####  Problem Statement 1: \n",
    "Write a function so that the columns of the output matrix are powers of the input vector. \n",
    "The order of the powers is determined by the increasing boolean argument. Specifically, when increasing is False, the i-th output column is the input vector raised element-wise to the power of N-i-1. <br>\n",
    "`HINT`: Such a matrix with a geometric progression in each row is named for Alexandre-\n",
    "Theophile Vandermonde.\n",
    "![Screenshot%20from%202020-05-06%2016-21-15.png](attachment:Screenshot%20from%202020-05-06%2016-21-15.png)"
   ]
  },
  {
   "cell_type": "code",
   "execution_count": 18,
   "metadata": {},
   "outputs": [],
   "source": [
    "def vandermonde_matrix(x, N, value):\n",
    "    if value == True:\n",
    "        return np.column_stack([x**(N-1-i) for i in range(N)])\n",
    "    else:\n",
    "        return np.column_stack([x**(N-1-i) for i in range(N-1,-1,-1)])\n"
   ]
  },
  {
   "cell_type": "code",
   "execution_count": 19,
   "metadata": {},
   "outputs": [
    {
     "name": "stdout",
     "output_type": "stream",
     "text": [
      "Vander matrix of the input array in decreasing order of powers:\n",
      " [[ 1  1  1]\n",
      " [ 4  2  1]\n",
      " [ 9  3  1]\n",
      " [16  4  1]\n",
      " [25  5  1]]\n",
      "\n",
      "Vander matrix of the input array in increasing order of powers:\n",
      " [[ 1  1  1]\n",
      " [ 1  2  4]\n",
      " [ 1  3  9]\n",
      " [ 1  4 16]\n",
      " [ 1  5 25]]\n"
     ]
    }
   ],
   "source": [
    "x = np.array([1,2,3,4,5]) # number of rows\n",
    "\n",
    "N = 3 # number of columns\n",
    "\n",
    "print(\"Vander matrix of the input array in decreasing order of powers:\\n\", vandermonde_matrix(x,N, True))\n",
    "print(\"\\nVander matrix of the input array in increasing order of powers:\\n\", vandermonde_matrix(x,N, False))"
   ]
  },
  {
   "cell_type": "markdown",
   "metadata": {},
   "source": [
    "##### Problem Statement 2:"
   ]
  },
  {
   "cell_type": "markdown",
   "metadata": {},
   "source": [
    "Given a sequence of n values x1, x2, ..., xn and a window size k>0, the k-th moving average of the given sequence is defined as follows:\n",
    "The moving average sequence has n-k+1 elements as shown below.\n",
    "The moving averages with k=4 of a ten-value sequence (n=10) is shown below:\n",
    "<pre>\n",
    "i 1 2 3 4 5 6 7 8 9 10\n",
    "===== == == == == == == == == == ==\n",
    "Input 10 20 30 40 50 60 70 80 90 100\n",
    "y1 25 = (10+20+30+40)/4\n",
    "y2 35 = (20+30+40+50)/4\n",
    "y3 45 = (30+40+50+60)/4\n",
    "y4 55 = (40+50+60+70)/4\n",
    "y5 65 = (50+60+70+80)/4\n",
    "y6 75 = (60+70+80+90)/4\n",
    "y7 85 = (70+80+90+100)/4\n",
    "Thus, the moving average sequence has n-k+1=10-4+1=7 values. \n",
    "Write a function to find moving average in an array over a window. Test it over [3, 5, 7, 2, 8, 10, 11, 65, 72, 81, 99, 100, 150] and window of 3. </pre>"
   ]
  },
  {
   "cell_type": "code",
   "execution_count": 41,
   "metadata": {},
   "outputs": [
    {
     "name": "stdout",
     "output_type": "stream",
     "text": [
      "Enter a list of numbers separated by comma:3,5,7,2,8,10,11,65,72,81,99,100,150\n",
      "List: [3, 5, 7, 2, 8, 10, 11, 65, 72, 81, 99, 100, 150]\n",
      "Please Enter Window Size:3\n",
      "y1 = 4.25\n",
      "y2 = 5.5\n",
      "y3 = 6.75\n",
      "y4 = 7.75\n",
      "y5 = 23.5\n",
      "y6 = 39.5\n",
      "y7 = 57.25\n",
      "y8 = 79.25\n",
      "y9 = 88.0\n",
      "y10 = 107.5\n"
     ]
    }
   ],
   "source": [
    "inp = list(map(int,input(\"Enter a list of numbers separated by comma:\").strip().split(',')))\n",
    "\n",
    "print(\"List:\", inp)\n",
    "n = len(inp)\n",
    "\n",
    "window_size = input(\"Please Enter Window Size:\")\n",
    "\n",
    "# num_of_values = n-k+1\n",
    "\n",
    "y = list()\n",
    "\n",
    "for i in range(0,len(inp)-3):\n",
    "    print(f\"y{i+1} = {(inp[i]+inp[i+1]+inp[i+2]+inp[i+3])/k}\")\n",
    "    "
   ]
  }
 ],
 "metadata": {
  "kernelspec": {
   "display_name": "Python 3",
   "language": "python",
   "name": "python3"
  },
  "language_info": {
   "codemirror_mode": {
    "name": "ipython",
    "version": 3
   },
   "file_extension": ".py",
   "mimetype": "text/x-python",
   "name": "python",
   "nbconvert_exporter": "python",
   "pygments_lexer": "ipython3",
   "version": "3.7.6"
  }
 },
 "nbformat": 4,
 "nbformat_minor": 4
}
