{
 "cells": [
  {
   "cell_type": "markdown",
   "metadata": {},
   "source": [
    "**PYTHON** - Practice Subjective"
   ]
  },
  {
   "cell_type": "code",
   "execution_count": 1,
   "metadata": {},
   "outputs": [],
   "source": [
    "# Import neccessary modules\n",
    "import pandas as pd\n",
    "import numpy as np\n",
    "import matplotlib.pyplot as plt"
   ]
  },
  {
   "cell_type": "markdown",
   "metadata": {},
   "source": [
    "###### **Q1.** Write a Python program to get the string from the given string where all the occurrence of its first char has been changed to  <span>\"$\"</span> except first char itself? <br> Sample String:'prospect' <br> Expected Result:'pros\\\\$ect'"
   ]
  },
  {
   "cell_type": "code",
   "execution_count": 2,
   "metadata": {},
   "outputs": [
    {
     "name": "stdout",
     "output_type": "stream",
     "text": [
      "pro$pect\n"
     ]
    }
   ],
   "source": [
    "sample = \"prospects\"\n",
    "c = sample[0]\n",
    "output = \"\"\n",
    "for i in range(len(sample)-1):\n",
    "    \n",
    "    if c==sample[i+1]:\n",
    "        chracter = \"$\"\n",
    "    else:\n",
    "        chracter = sample[i]\n",
    "#     print(chracter)\n",
    "    output+=chracter\n",
    "    \n",
    "print(output)\n",
    "    "
   ]
  },
  {
   "cell_type": "code",
   "execution_count": 3,
   "metadata": {},
   "outputs": [
    {
     "data": {
      "text/plain": [
       "'pro$pect'"
      ]
     },
     "execution_count": 3,
     "metadata": {},
     "output_type": "execute_result"
    }
   ],
   "source": [
    "str1 = ''\n",
    "output= [\"$\" if c==sample[i+1] else sample[i] for i in range(len(sample)-1)]\n",
    "str1.join([str(elem) for elem in output])\n",
    "\n"
   ]
  },
  {
   "cell_type": "code",
   "execution_count": 4,
   "metadata": {},
   "outputs": [
    {
     "name": "stdout",
     "output_type": "stream",
     "text": [
      "Counter({'p': 2, 'r': 1, 'o': 1, 's': 1, 'e': 1, 'c': 1, 't': 1})\n"
     ]
    }
   ],
   "source": [
    "from collections import Counter\n",
    "sample = \"prospect\"\n",
    "\n",
    "# using collections.Counter() to get count    \n",
    "count = Counter(sample)\n",
    "print(count)"
   ]
  },
  {
   "cell_type": "markdown",
   "metadata": {},
   "source": [
    "**Q2.** Write a Python program to get the single string from the two given strings, and separated by the space and swap the first two characters of each string? <br>\n",
    "**Sample String :** 'abc', 'xyz'. <br>\n",
    "**Expected Result:** 'xyc abz'"
   ]
  },
  {
   "cell_type": "code",
   "execution_count": 5,
   "metadata": {},
   "outputs": [
    {
     "name": "stdout",
     "output_type": "stream",
     "text": [
      "('abc', 'xyz')\n"
     ]
    }
   ],
   "source": [
    "sample = 'abc','xyz'\n",
    "print(str(sample))"
   ]
  },
  {
   "cell_type": "code",
   "execution_count": 6,
   "metadata": {},
   "outputs": [
    {
     "name": "stdout",
     "output_type": "stream",
     "text": [
      "xyc abz\n"
     ]
    }
   ],
   "source": [
    "output = sample[0].replace(sample[0][0:2], sample[1][0:2])+\" \"+ sample[1].replace(sample[1][0:2], sample[0][0:2])\n",
    "print(output)"
   ]
  },
  {
   "cell_type": "markdown",
   "metadata": {},
   "source": [
    "**Q3.** Write the Python program to add 'ing' at the end of the given string (length of the string should be at least 3). If given string already ends with 'ing,' then add 'ly' instead. If string length of the given string is less than 3, leave it unchanged? <br>\n",
    "**Sample string:** ' abc ' <br>\n",
    "**Expected result:** ' abcing ' <br>\n",
    "**Sample string:** ' string ' <br>\n",
    "**Expected result:** ' stringly '"
   ]
  },
  {
   "cell_type": "code",
   "execution_count": null,
   "metadata": {},
   "outputs": [],
   "source": [
    "sample = input()\n",
    "str1=\"\"\n",
    "if len(sample)>=3:\n",
    "    if \"ing\" in sample:\n",
    "        print(sample+\"ly\")\n",
    "    else:\n",
    "        print(sample+\"ing\")        "
   ]
  },
  {
   "cell_type": "markdown",
   "metadata": {},
   "source": [
    "**Q4.** Write the Python program to find the first appearance of the substring 'not' and 'poor' from the given string, if 'not' follows the 'poor', replace the whole 'not'...' poor' substring with 'good'.Return the resulting string. <br>\n",
    "**Sample string:** 'The lyrics are not that poor!' 'The lyrics are poor!' <br>\n",
    "**Expected Result:** 'The lyrics are good!' 'The lyrics are poor!'"
   ]
  },
  {
   "cell_type": "code",
   "execution_count": null,
   "metadata": {},
   "outputs": [],
   "source": [
    "sample = 'The lyrics are not that poor!''The lyrics are poor!'\n",
    "loc_not = sample.find(\"not\")\n",
    "loc_poor = sample.find(\"poor\")\n",
    "\n",
    "if loc_not < loc_poor:\n",
    "        sample = sample.replace(sample[loc_not:loc_poor + 4],\"good\")\n",
    "else:\n",
    "    print(\"The string does not contain either not or poor\")\n",
    "    \n",
    "print(sample)\n"
   ]
  },
  {
   "cell_type": "markdown",
   "metadata": {},
   "source": [
    "**Q5.** Write the Python program to remove the characters which have odd index values of a given string."
   ]
  },
  {
   "cell_type": "code",
   "execution_count": null,
   "metadata": {},
   "outputs": [],
   "source": [
    "sample = \"remove the chracters at odd index\"\n",
    "\n",
    "new_str = \"\"\n",
    "for c in range(len(sample)):\n",
    "    if c%2 == 0:\n",
    "        new_str = new_str + sample[c]\n",
    "        \n",
    "print(\"New string after removing the chracters at odd index-->\",new_str)"
   ]
  },
  {
   "cell_type": "markdown",
   "metadata": {},
   "source": [
    "**Q6.** Write the Python function to get a string made of 4 copies of the last two characters of the specified string (length must be at least 2). <br>\n",
    "**Sample function and result :** <br>\n",
    "insert-end ('Python') -> abababab <br>\n",
    "insert-end('Exercises') -> jkjkjkjk"
   ]
  },
  {
   "cell_type": "code",
   "execution_count": null,
   "metadata": {},
   "outputs": [],
   "source": [
    "def insert_end(sample):\n",
    "    substr = sample[-2:]\n",
    "    return 4*substr\n",
    "    \n",
    "\n",
    "print(insert_end(\"Python\"))\n",
    "print(insert_end(\"Exercises\"))"
   ]
  },
  {
   "cell_type": "markdown",
   "metadata": {},
   "source": [
    "**Q7.** Write the python function to get a string made of its first three characters of a specified string. If the length of the string is less than 3 then return the original string. <br>\n",
    "**Sample function and result :** <br>\n",
    "first-three('ipy') -> ipy <br>\n",
    "first-three('python') -> pyt"
   ]
  },
  {
   "cell_type": "code",
   "execution_count": null,
   "metadata": {},
   "outputs": [],
   "source": [
    "def first_three(sample):\n",
    "    return sample[0:3]\n",
    "\n",
    "print(first_three('ipy'))\n",
    "print(first_three('python'))"
   ]
  },
  {
   "cell_type": "markdown",
   "metadata": {},
   "source": [
    "**Q8.** Write the python program to print the following floating numbers up to 2 decimal places?"
   ]
  },
  {
   "cell_type": "code",
   "execution_count": null,
   "metadata": {},
   "outputs": [],
   "source": [
    "number = float(input(\"Enter a number-->\"))\n",
    "print(\"The number upto 2 decimal places--->\",format(number,\".2f\")) # formatted to two decials places"
   ]
  },
  {
   "cell_type": "markdown",
   "metadata": {},
   "source": [
    "**Q9.** Write the Python program to format a number with a percentage?"
   ]
  },
  {
   "cell_type": "code",
   "execution_count": null,
   "metadata": {},
   "outputs": [],
   "source": [
    "number = float(input(\"Enter a number-->\"))\n",
    "print(\"The number formatted with a percentage--->\",format(number,\".2%\"))"
   ]
  },
  {
   "cell_type": "markdown",
   "metadata": {},
   "source": [
    "**Q10.** Write the Python program to count occurrences of a substring in a String?"
   ]
  },
  {
   "cell_type": "code",
   "execution_count": null,
   "metadata": {},
   "outputs": [],
   "source": [
    "sample = \"I live in India. India is a great country.\"\n",
    "print(sample.count(\"India\"))"
   ]
  },
  {
   "cell_type": "markdown",
   "metadata": {},
   "source": [
    "**Q11.** Write the Python program to count repeated characters in a string. <br>\n",
    "**Sample string:** ' thequickbrownjumpsoverthelazydog ' <br>\n",
    "**Expected output:** <br>\n",
    "o 3 <br>\n",
    "e 3 <br>\n",
    "u 2 <br>\n",
    "h 2 <br>\n",
    "r 2 <br>\n",
    "t 2"
   ]
  },
  {
   "cell_type": "code",
   "execution_count": null,
   "metadata": {},
   "outputs": [],
   "source": [
    "from collections import Counter\n",
    "sample = \"thequickbrownjumpsoverthelazydog\"\n",
    "\n",
    "# using collections.Counter() to get count    \n",
    "count = Counter(sample)\n",
    "\n",
    "for item in count:\n",
    "    print(item, count[item])"
   ]
  },
  {
   "cell_type": "markdown",
   "metadata": {},
   "source": [
    "**Q12.** Write the Python program to print the square and cube symbol in the area of a rectangle and volume of a cylinder? <br>\n",
    "**Sample output:** <br> The area of the rectangle is 1256.66cm2 <br>\n",
    "The volume of the cylinder is 1254.725cm3"
   ]
  },
  {
   "cell_type": "code",
   "execution_count": null,
   "metadata": {},
   "outputs": [],
   "source": [
    "def rectangle(length, breadth):\n",
    "    return length*breadth\n",
    "\n",
    "def cylinder(radius, height):\n",
    "    return 3.14*radius*radius*height\n",
    "\n",
    "print(\"The area of the rectange is \"+ str(rectangle(4,5))+\"cm2\")\n",
    "print(\"The volume of the cylinder is \"+ str(cylinder(7,14))+\"cm3\")"
   ]
  },
  {
   "cell_type": "markdown",
   "metadata": {},
   "source": [
    "**Q13.** Write the Python program to check if a string contains all letters of the alphabet?"
   ]
  },
  {
   "cell_type": "markdown",
   "metadata": {},
   "source": [
    "Create a set of the lowercased string and check if it is a superset of the letters of the alphabet:"
   ]
  },
  {
   "cell_type": "code",
   "execution_count": null,
   "metadata": {},
   "outputs": [],
   "source": [
    "import string\n",
    "\n",
    "all_alpha = set(string.ascii_lowercase)\n",
    "\n",
    "def contains_all(input_string):\n",
    "    return set(input_string.lower()) >= all_alpha\n",
    "\n",
    "input_string = \"Pack my box with five dozen liquor jugs\"\n",
    "print(contains_all(input_string))\n",
    "\n",
    "input_string1 = \"I love my India\"\n",
    "print(contains_all(input_string1))"
   ]
  },
  {
   "cell_type": "markdown",
   "metadata": {},
   "source": [
    "**Q14.** Write the Python program to find the second most repeated word in a given string?"
   ]
  },
  {
   "cell_type": "code",
   "execution_count": null,
   "metadata": {},
   "outputs": [],
   "source": [
    "from collections import Counter\n",
    "import operator\n",
    "sample = \"thequickbrownjumpsoverthelazydog\"\n",
    "\n",
    "# using collections.Counter() to get count    \n",
    "count = Counter(sample)\n",
    "\n",
    "#print(count)\n",
    "print(max(count.items(), key=operator.itemgetter(1))[1])\n"
   ]
  },
  {
   "cell_type": "markdown",
   "metadata": {},
   "source": [
    "**Q15.** Write the Python program to find the minimum window in the given string, which will contains all the characters of another given strings? <br>\n",
    "**Example 1** <br>\n",
    "Input : string1 = \" PRWSOERIUSFK \" <br>\n",
    "string2 = \" OSU \" <br>\n",
    "Output: Minimum window is \"OERIUS\""
   ]
  },
  {
   "cell_type": "markdown",
   "metadata": {},
   "source": [
    "Method 2 ( Efficient Solution )\n",
    "1. First check if the length of string is less than the length of the given pattern, if yes then “no such window can exist “.\n",
    "2. Store the occurrence of characters of the given pattern in a hash_pat[].\n",
    "3. Start matching the characters of pattern with the characters of string i.e. increment count if a character matches.\n",
    "4. Check if (count == length of pattern ) this means a window is found.\n",
    "5.If such window found, try to minimize it by removing extra characters from the beginning of the current window.\n",
    "    Update min_length.\n",
    "6.Print the minimum length window.\n"
   ]
  },
  {
   "cell_type": "code",
   "execution_count": null,
   "metadata": {},
   "outputs": [],
   "source": [
    "string1 = \"PRWSOERIUSFK\"\n",
    "string2 = \"OSU\"\n"
   ]
  },
  {
   "cell_type": "markdown",
   "metadata": {},
   "source": [
    "**Q16.** Write the Python program to find smallest window that contains all characters of the given string? <br>\n",
    "**Original Strings:**\n",
    "asdaewsqgtwwsa <br>\n",
    "**Smallest window that contains all characters of the said string:**\n",
    "Daewsqgt"
   ]
  },
  {
   "cell_type": "code",
   "execution_count": null,
   "metadata": {},
   "outputs": [],
   "source": []
  },
  {
   "cell_type": "markdown",
   "metadata": {},
   "source": [
    "**Q17.** Write the Python program to count number of substrings from a given string of lowercase alphabets with exactly k distinct (given) characters? <br>\n",
    "**Input a string (lowercase alphabets):** wolf <br>\n",
    "**Input k:** 4 <br>\n",
    "**Number of substrings with exactly 4 distinct characters:** 1"
   ]
  },
  {
   "cell_type": "code",
   "execution_count": null,
   "metadata": {},
   "outputs": [],
   "source": []
  },
  {
   "cell_type": "markdown",
   "metadata": {},
   "source": [
    "**Q18.** Write the Python program to count number of non-empty substrings of the given string? <br>\n",
    "Input a string: w3resource <br>\n",
    "Number of substrings: <br>\n",
    "55"
   ]
  },
  {
   "cell_type": "code",
   "execution_count": null,
   "metadata": {},
   "outputs": [],
   "source": []
  },
  {
   "cell_type": "markdown",
   "metadata": {},
   "source": [
    "**Q19.** Write the Python program to count number of substrings with same first and last characters of the given string? <br>\n",
    "**Input a string:** abcd <br>\n",
    "4"
   ]
  },
  {
   "cell_type": "code",
   "execution_count": null,
   "metadata": {},
   "outputs": [],
   "source": []
  },
  {
   "cell_type": "markdown",
   "metadata": {},
   "source": [
    "**Q20.** Write the Python program to count the number of strings where the string length is 2 or more, and first and last character are same from a given list of strings. <br>\n",
    "**Sample List:** ['abc', 'xyz', 'wxw', '1331'] <br>\n",
    "**Expected Result:** 2"
   ]
  },
  {
   "cell_type": "code",
   "execution_count": null,
   "metadata": {},
   "outputs": [],
   "source": []
  },
  {
   "cell_type": "markdown",
   "metadata": {},
   "source": [
    "**Q21.** Write the Python program to get a list, sorted in increasing order by the last element in each tuple from the given list of non-empty tuples? <br>\n",
    "**Sample List-** [ (2, 5), (1, 2), (4, 4), (2, 3), (2, 1) ] <br>\n",
    "**Expected Result-** [ (2, 1), (1, 2), (2, 3), (4, 4), (2, 5) ]"
   ]
  },
  {
   "cell_type": "code",
   "execution_count": null,
   "metadata": {},
   "outputs": [],
   "source": []
  },
  {
   "cell_type": "markdown",
   "metadata": {},
   "source": [
    "**Q22.** Write the Python program to remove duplicates from a list?"
   ]
  },
  {
   "cell_type": "code",
   "execution_count": null,
   "metadata": {},
   "outputs": [],
   "source": [
    "sample_list = list(input().strip().split())\n",
    "print(\"The input string entered is:\", sample_list)\n",
    "output = set(sample_list)\n",
    "print(\"The output list without duplicates is: \",list(output))"
   ]
  },
  {
   "cell_type": "markdown",
   "metadata": {},
   "source": [
    "**Q23.** Write the Python program to find the list of words that are longer than n from a given list of words?"
   ]
  },
  {
   "cell_type": "code",
   "execution_count": null,
   "metadata": {},
   "outputs": [],
   "source": []
  },
  {
   "cell_type": "markdown",
   "metadata": {},
   "source": [
    "**Q24.** Write the Python program to print a specified list after removing the 0th, 4th, and 5th elements? <br>\n",
    "**Sample List-** ['Red', 'Green', 'White', 'Black', 'Pink', 'Yellow'] <br>\n",
    "**Expected Output-** ['Green', 'White', 'Black']"
   ]
  },
  {
   "cell_type": "code",
   "execution_count": null,
   "metadata": {},
   "outputs": [],
   "source": []
  },
  {
   "cell_type": "markdown",
   "metadata": {},
   "source": [
    "**Q25.** Write the Python program to generate all permutations of a list in Python?"
   ]
  },
  {
   "cell_type": "code",
   "execution_count": null,
   "metadata": {},
   "outputs": [],
   "source": []
  },
  {
   "cell_type": "markdown",
   "metadata": {},
   "source": [
    "**Q26.** Write the Python program to convert a pair of values into a sorted unique array? <br>\n",
    "**Original List-** [ (1, 2), (3, 4), (1, 2), (5, 6), (7, 8), (1, 2), (3, 4), (3, 4), (7, 8), (9, 10) ] <br>\n",
    "**Sorted Unique Data-** [ 1, 2, 3, 4, 5, 6, 7, 8, 9, 10 ]"
   ]
  },
  {
   "cell_type": "code",
   "execution_count": null,
   "metadata": {},
   "outputs": [],
   "source": []
  },
  {
   "cell_type": "markdown",
   "metadata": {},
   "source": [
    "**Q27.** Write the Python class to convert an integer to a roman numeral?"
   ]
  },
  {
   "cell_type": "code",
   "execution_count": null,
   "metadata": {},
   "outputs": [],
   "source": [
    "number = int(input(\"Enter a number :\"))\n"
   ]
  },
  {
   "cell_type": "markdown",
   "metadata": {},
   "source": [
    "**Q28.** Write the Python class to convert a Roman numeral to an integer?"
   ]
  },
  {
   "cell_type": "code",
   "execution_count": null,
   "metadata": {},
   "outputs": [],
   "source": [
    "roman_number = input(\"Enter a number :\")"
   ]
  },
  {
   "cell_type": "markdown",
   "metadata": {},
   "source": [
    "**Q29.** Write the Python class to find the validity of the string of the parentheses, '(', ')', '{', '}', '[' and '] and the brackets must be closed in the correct order, example - \"()\" and \"()[]{}\" are valid but \"[)\", \"({[)]\" and \"{{{\" are invalid."
   ]
  },
  {
   "cell_type": "code",
   "execution_count": null,
   "metadata": {},
   "outputs": [],
   "source": []
  },
  {
   "cell_type": "markdown",
   "metadata": {},
   "source": [
    "**Q30.** Write the Python class to get all possible unique subsets from a set of distinct integers? <br>\n",
    "**Input-** [4, 5, 6] <br>\n",
    "**Output-** [[], [6], [5], [5, 6], [4], [4, 6], [4, 5], [4, 5, 6]]"
   ]
  },
  {
   "cell_type": "code",
   "execution_count": null,
   "metadata": {},
   "outputs": [],
   "source": []
  },
  {
   "cell_type": "markdown",
   "metadata": {},
   "source": [
    "Q31. Write the Python class to find a pair of elements (indices of the two numbers) from a given array whose sum equals the specific target number? <br>\n",
    "**Input:** numbers- [10,20,10,40,50,60,70], target=50 <br>\n",
    "**Output-** 3, 4"
   ]
  },
  {
   "cell_type": "code",
   "execution_count": null,
   "metadata": {},
   "outputs": [],
   "source": []
  },
  {
   "cell_type": "markdown",
   "metadata": {},
   "source": [
    "Q32. Write the Python class to find the three elements that sum to zero from the set of n real numbers? <br>\n",
    "**Input array-** [-25, -10, -7, -3, 2, 4, 8, 10] <br>\n",
    "**Output-** [[-10, 2, 8], [-7, -3, 10]]"
   ]
  },
  {
   "cell_type": "code",
   "execution_count": null,
   "metadata": {},
   "outputs": [],
   "source": []
  },
  {
   "cell_type": "markdown",
   "metadata": {},
   "source": [
    "**Q33.** Write the Python class to implement pow(x, n)?"
   ]
  },
  {
   "cell_type": "code",
   "execution_count": null,
   "metadata": {},
   "outputs": [],
   "source": []
  },
  {
   "cell_type": "markdown",
   "metadata": {},
   "source": [
    "**Q34.** Write the Python class which has two methods get_String and print_String. get_String accept the string from the user and print_String print the string in upper case."
   ]
  },
  {
   "cell_type": "code",
   "execution_count": null,
   "metadata": {},
   "outputs": [],
   "source": []
  },
  {
   "cell_type": "markdown",
   "metadata": {},
   "source": [
    "**Q35.** Write the Python class named Rectangle constructed by a and width and the method which will compute the area of the rectangle?"
   ]
  },
  {
   "cell_type": "code",
   "execution_count": null,
   "metadata": {},
   "outputs": [],
   "source": []
  },
  {
   "cell_type": "markdown",
   "metadata": {},
   "source": [
    "**Q36.** Write the Python class named Circle constructed by the radius and two methods which will compute the area and perimeter of the circle?"
   ]
  },
  {
   "cell_type": "code",
   "execution_count": null,
   "metadata": {},
   "outputs": [],
   "source": []
  },
  {
   "cell_type": "markdown",
   "metadata": {},
   "source": [
    "**Q37.** Write the Python program to get the class name of an instance in Python?"
   ]
  },
  {
   "cell_type": "code",
   "execution_count": null,
   "metadata": {},
   "outputs": [],
   "source": []
  },
  {
   "cell_type": "markdown",
   "metadata": {},
   "source": [
    "**Q38.** Write the Python program to count the number of students of individual class? <br>\n",
    "**Sample data classes** = ( ('V', 1), ('VI', 1), ('V', 2), ('VI', 2), ('VI', 3), ('VII', 1),)<br>\n",
    "**Expected Output:** Counter({'VI': 3, 'V': 2, 'VII': 1})"
   ]
  },
  {
   "cell_type": "code",
   "execution_count": null,
   "metadata": {},
   "outputs": [],
   "source": []
  },
  {
   "cell_type": "markdown",
   "metadata": {},
   "source": [
    "**Q39.** Write the Python program to create an instance of an OrderedDict using the given dictionary and sort dictionary during the creation and print members of the dictionary in reverse order?<br>\n",
    "**Expected Output:** <br>\n",
    "Angola 244. <br>\n",
    "Andorra 376.<br>\n",
    "Algeria 213.<br>\n",
    "Afghanistan 93.<br>\n",
    "Albania 355.<br>\n",
    "**In reverse order:**<br>\n",
    "Albania 355.<br>\n",
    "Afghanistan 93. <br>\n",
    "Algeria 213. <br>\n",
    "Andorra 376.<br>\n",
    "Angola 244."
   ]
  },
  {
   "cell_type": "code",
   "execution_count": null,
   "metadata": {},
   "outputs": [],
   "source": []
  },
  {
   "cell_type": "markdown",
   "metadata": {},
   "source": [
    "**Q40.** Write the Python program to compare two unordered lists (not sets)?<br>\n",
    "**Expected Output:** False"
   ]
  },
  {
   "cell_type": "code",
   "execution_count": null,
   "metadata": {},
   "outputs": [],
   "source": []
  },
  {
   "cell_type": "markdown",
   "metadata": {},
   "source": [
    "**Q41.** Write the Python program to get an array buffer information? <br>\n",
    "**Expected Output:** Array buffer start address in memory and number of elements. <br>\n",
    "(25855056, 2)"
   ]
  },
  {
   "cell_type": "code",
   "execution_count": null,
   "metadata": {},
   "outputs": [],
   "source": []
  },
  {
   "cell_type": "markdown",
   "metadata": {},
   "source": [
    "**Q42.** Write the Python program to convert an array to an array of machine values and return the bytes representation? <br>\n",
    "Expected Output: Original arrayA1: array('i', [1, 2, 3, 4, 5, 6]) <br>\n",
    "Array of bytes: <br>\n",
    "b'010000000200000003000000040000000500000006000000' "
   ]
  },
  {
   "cell_type": "code",
   "execution_count": null,
   "metadata": {},
   "outputs": [],
   "source": []
  },
  {
   "cell_type": "markdown",
   "metadata": {},
   "source": [
    "**Q43.** Write the Python program to read a string and interpreting the string as an array of machine values? <br>\n",
    "**Expected Output:** array1- array('i', [7, 8, 9, 10]) <br>\n",
    "Bytes- b'0700000008000000090000000a000000' <br>\n",
    "array2- array('i', [7, 8, 9, 10]) <br>"
   ]
  },
  {
   "cell_type": "code",
   "execution_count": null,
   "metadata": {},
   "outputs": [],
   "source": []
  },
  {
   "cell_type": "markdown",
   "metadata": {},
   "source": [
    "**Q44.** Write the Python program to push three items into the heap and return the smallest item from the heap. Also, return and pop the smallest item from the heap? <br>\n",
    "**Expected Output:** Items in the heap- ('VI', 1). ('VII', 3). ('VIII', 2). <br>\n",
    "The smallest item in the heap: <br>\n",
    "('VI', 1).<br>\n",
    "Pop the smallest item in the heap:<br>\n",
    "('VII', 2).<br>\n",
    "('VIII', 3)."
   ]
  },
  {
   "cell_type": "code",
   "execution_count": null,
   "metadata": {},
   "outputs": [],
   "source": []
  },
  {
   "cell_type": "markdown",
   "metadata": {},
   "source": [
    "**Q45.** Write the Python program to locate the left insertion point for a specified value in sorted order? <br>\n",
    "**Expected Output:** <br>\n",
    "4 2"
   ]
  },
  {
   "cell_type": "code",
   "execution_count": null,
   "metadata": {},
   "outputs": [],
   "source": []
  },
  {
   "cell_type": "markdown",
   "metadata": {},
   "source": [
    "**Q46.** Write the Python program to create the FIFO queue? <br>\n",
    "**Expected Output:** <br>\n",
    "0 1 2 3"
   ]
  },
  {
   "cell_type": "code",
   "execution_count": null,
   "metadata": {},
   "outputs": [],
   "source": []
  },
  {
   "cell_type": "markdown",
   "metadata": {},
   "source": [
    "**Q47.** Write the Python program to calculate the harmonic sum of n-1. <br>\n",
    "**Note:** The harmonic sum is the sum of reciprocals of the positive Integers? <br>\n",
    "Example -"
   ]
  },
  {
   "cell_type": "code",
   "execution_count": null,
   "metadata": {},
   "outputs": [],
   "source": []
  },
  {
   "cell_type": "markdown",
   "metadata": {},
   "source": [
    "**Q48.** Write the NumPy program to create a 2d array with 6 on the border and 0 inside? <br>\n",
    "**Expected Output :** Original array- <br>\n",
    "[ [6 6 6 6 6] <br>\n",
    "[ 6 6 6 6 6] <br>\n",
    "[ 6 6 6 6 6 ] <br>\n",
    "[ 6 6 6 6 6 ] <br>\n",
    "[ 6 6 6 6 ] ]. <br>\n",
    "6 on the border and 0 inside in the array- <br>\n",
    "[[ 6 6 6 6 6] <br>\n",
    "[ 6 0 0 0 6] <br>\n",
    "[ 6 0 0 0 6]<br>\n",
    "[ 6 0 0 0 6]<br>\n",
    "[ 6 6 6 6 6]]"
   ]
  },
  {
   "cell_type": "code",
   "execution_count": null,
   "metadata": {},
   "outputs": [],
   "source": [
    "import numpy as np\n",
    "arr = np.ones((5,5))*6\n",
    "# arr =np.array([[6, 6, 6, 6, 6],[ 6, 6, 6, 6, 6],[ 6, 6, 6, 6, 6 ],[ 6, 6, 6, 6, 6 ],[ 6, 6, 6, 6,6]])\n",
    "print(\"Original Array:\\n\",arr)\n",
    "\n",
    "arr[1:-1,1:-1] = 0\n",
    "print(\"6 on the border and 0 inside in the array:\\n\", arr)\n"
   ]
  },
  {
   "cell_type": "markdown",
   "metadata": {},
   "source": [
    "**Q49.** Write the NumPy program to create a 8x8 matrix and fill it with the checkerboard pattern? <br>\n",
    "Checkerboard pattern- <br>\n",
    "[[3 9 3 9 3 9 3 9] <br>\n",
    "[9 3 9 3 9 3 9 3]<br>\n",
    "[3 9 3 9 3 9 3 9]<br>\n",
    "[9 3 9 3 9 3 9 3]<br>\n",
    "[3 9 3 9 3 9 3 9]<br>\n",
    "[9 3 9 3 9 3 9 3]<br>\n",
    "[3 9 3 9 3 9 3 9]<br>\n",
    "[9 3 9 3 9 3 9 3]]."
   ]
  },
  {
   "cell_type": "code",
   "execution_count": null,
   "metadata": {},
   "outputs": [],
   "source": [
    "# Create an matrix of 8X8 dimension and fill it with 9.\n",
    "check_board = np.ones((8,8),dtype=int)*9\n",
    "\n",
    "check_board[::2,::2] = 3\n",
    "check_board[1::2,1::2] = 3\n",
    "# check_board[1::2,1::2] = 9\n",
    "print(check_board)\n"
   ]
  },
  {
   "cell_type": "markdown",
   "metadata": {},
   "source": [
    "**Q50.** Write the NumPy program to create an empty and a full array. <br>\n",
    "Expected Output- <br>\n",
    "[[4.45057637e-308 1.78021527e-306 8.45549797e-307 1.37962049e-306] <br>\n",
    "[1.11260619e-306 1.78010255e-306 9.79054228e-307 4.45057637e-308]<br>\n",
    "[8.45596650e-307 9.34602321e-307 4.94065646e-322 0.00000000e+000]]<br>\n",
    "[[6 6 6]<br>\n",
    "[6 6 6]<br>\n",
    "[6 6 6]]"
   ]
  },
  {
   "cell_type": "code",
   "execution_count": null,
   "metadata": {},
   "outputs": [],
   "source": [
    "arr_empty = np.empty([3,3], dtype=float)\n",
    "print(\"Empty Array is-->:\\n\",arr_empty)\n",
    "\n",
    "arr_full = np.full([3,3],6)\n",
    "print(\"\\nFull array is-->\\n\",arr_full)"
   ]
  },
  {
   "cell_type": "markdown",
   "metadata": {},
   "source": [
    "**Q51.** Write the NumPy program to convert the values of Centigrade degrees into the Fahrenheit degrees and the centigrade values are stored in the NumPy array. <br>\n",
    "**Sample Array-** [0, 12, 45.21 ,34, 99.91] <br>\n",
    "**Expected Output:** Values in Fahrenheit degrees- <br>\n",
    "[ 0. 12. 45.21 34. 99.91] <br>\n",
    "Values in Centigrade degrees- <br>\n",
    "[-17.77777778 -11.11111111 7.33888889 1.11111111 37.72777778]"
   ]
  },
  {
   "cell_type": "code",
   "execution_count": null,
   "metadata": {},
   "outputs": [],
   "source": [
    "fahrenheit_values = np.array([0,12,45.21,34,99.91])\n",
    "print(fahrenheit_values)\n",
    "\n",
    "print(\"\\nvalues in centrigrade degrees:\")\n",
    "#  Formula to convert : T(°C) = (T(°F) - 32) × 5/9\n",
    "((fahrenheit_values-32)*5)/9"
   ]
  },
  {
   "cell_type": "markdown",
   "metadata": {},
   "source": [
    "**Q52.** Write the NumPy program to find the real and imaginary parts of an array of complex numbers? <br>\n",
    "**Expected Output:** Original array [ 1.00000000+0.j 0.70710678+0.70710678j] <br>\n",
    "Real part of the array-<br>\n",
    "[ 1. 0.70710678]<br>\n",
    "Imaginary part of the array- <br>\n",
    "[ 0. 0.70710678]"
   ]
  },
  {
   "cell_type": "code",
   "execution_count": null,
   "metadata": {},
   "outputs": [],
   "source": [
    "Z = np.array([1.00000000+0.j,0.70710678+0.70710678j])\n",
    "print(\"Real Part-->\", Z.real)\n",
    "print(\"Imaginary Part\",Z.imag)\n"
   ]
  },
  {
   "cell_type": "markdown",
   "metadata": {},
   "source": [
    "**Q53.** Write the NumPy program to test whether each element of a 1-D array is also present in the second array? <br>\n",
    "**Expected Output:** Array1: [ 0 10 20 40 60] <br>\n",
    "Array2: [0, 40] <br>\n",
    "Compare each element of array1 and array2 <br>\n",
    "[ True False False True False]"
   ]
  },
  {
   "cell_type": "code",
   "execution_count": null,
   "metadata": {},
   "outputs": [],
   "source": []
  },
  {
   "cell_type": "code",
   "execution_count": null,
   "metadata": {},
   "outputs": [],
   "source": []
  },
  {
   "cell_type": "markdown",
   "metadata": {},
   "source": [
    "**Q54.** Write the NumPy program to find common values between two arrays? <br>\n",
    "**Expected Output:** Array1: [ 0 10 20 40 60] <br>\n",
    "Array2: [10, 30, 40] <br>\n",
    "Common values between two arrays- <br>\n",
    "[10 40]"
   ]
  },
  {
   "cell_type": "code",
   "execution_count": null,
   "metadata": {},
   "outputs": [],
   "source": []
  },
  {
   "cell_type": "markdown",
   "metadata": {},
   "source": [
    "**Q55.** Write the NumPy program to get the unique elements of an array? <br>\n",
    "**Expected Output:** Original array- <br>\n",
    "[10 10 20 20 30 30] <br>\n",
    "Unique elements of the above array- <br>\n",
    "[10 20 30] <br>\n",
    "Original array- <br>\n",
    "[[1 1] <br>\n",
    "[2 3]] <br>\n",
    "Unique elements of the above array- <br>\n",
    "[1 2 3] "
   ]
  },
  {
   "cell_type": "code",
   "execution_count": null,
   "metadata": {},
   "outputs": [],
   "source": []
  },
  {
   "cell_type": "markdown",
   "metadata": {},
   "source": [
    "**Q56.** Write the NumPy program to find the set exclusive-or of two arrays. <br>\n",
    "Set exclusive-or will return the sorted, unique values that are in only one (not both) of the input arrays? <br>\n",
    "Array1- [ 0 10 20 40 60 80] <br>\n",
    "Array2- [10, 30, 40, 50, 70] <br>\n",
    "Unique values that are in only one (not both) of the input arrays- <br>\n",
    "[ 0 20 30 50 60 70 80] "
   ]
  },
  {
   "cell_type": "code",
   "execution_count": null,
   "metadata": {},
   "outputs": [],
   "source": []
  },
  {
   "cell_type": "markdown",
   "metadata": {},
   "source": [
    "**Q57.** Write the NumPy program to test if all elements in an array evaluate to True ? <br>\n",
    "Note: \n",
    "1. 0 evaluates to False in NumPy.\n",
    "2. Not a Number (NaN), positive infinity and negative infinity evaluate to True because these are not equal to zero.\n"
   ]
  },
  {
   "cell_type": "code",
   "execution_count": null,
   "metadata": {},
   "outputs": [],
   "source": [
    "import numpy as np\n",
    "arr = np.ones((5,5))*6\n",
    "arr[1:-1,1:-1] = 0\n",
    "print(\"Original Array--->\\n\",arr)\n",
    "print(\"\\nall elements in an array evaluate to True is\", np.all(arr))"
   ]
  },
  {
   "cell_type": "markdown",
   "metadata": {},
   "source": [
    "**Q58.** Write the NumPy program to test whether any array element along the given axis evaluates to True? <br>\n",
    "**Note:** 0 evaluates to False in NumPy."
   ]
  },
  {
   "cell_type": "code",
   "execution_count": null,
   "metadata": {},
   "outputs": [],
   "source": [
    "import numpy as np\n",
    "arr = np.ones((5,5))*6\n",
    "arr[4:,:] = 0\n",
    "print(\"Original Array--->\\n\",arr)\n",
    "print(\"\\nany element along the given axix evaluates to True is\", np.any(arr, axis = 1))"
   ]
  },
  {
   "cell_type": "markdown",
   "metadata": {},
   "source": [
    "**Q59.** Write the NumPy program to construct an array by repeating? <br>\n",
    "Sample array- [1, 2, 3, 4] <br>\n",
    "**Expected Output:** Original array <br>\n",
    "[1, 2, 3, 4] <br>\n",
    "Repeating 2 times <br>\n",
    "[1 2 3 4 1 2 3 4] <br>\n",
    "Repeating 3 times <br>\n",
    "[1 2 3 4 1 2 3 4 1 2 3 4]"
   ]
  },
  {
   "cell_type": "markdown",
   "metadata": {},
   "source": [
    "###### numpy.tile(A,reps):<br> This function construct an array by repeating A the number of times given by reps.<br> If reps has length d, the result will have dimension of max(d, A.ndim)."
   ]
  },
  {
   "cell_type": "code",
   "execution_count": null,
   "metadata": {},
   "outputs": [],
   "source": [
    "sample = np.array([1,2,3,4])\n",
    "print(\"Original array\", sample)\n",
    "print(\"Repeating 2 times:-->\", np.tile(sample,2))\n",
    "print(\"Repeating 2 times:-->\", np.tile(sample,3))"
   ]
  },
  {
   "cell_type": "markdown",
   "metadata": {},
   "source": [
    "**Q60.** Write the NumPy program to find the indices of the maximum and minimum values with the given axis of an array? <br>\n",
    "Original array- [1 2 3 4 5 6] <br>\n",
    "Maximum Values- 5 <br>\n",
    "Minimum Values- 0"
   ]
  },
  {
   "cell_type": "code",
   "execution_count": null,
   "metadata": {},
   "outputs": [],
   "source": [
    "orig_array = np.array([1,2,3,4,5,6])\n",
    "print(\"Original Array\", orig_array)\n",
    "print(\"Maximum Values\",np.argmax(orig_array)) # argmax gives the indices of the maximum value in an  array\n",
    "print(\"Minimum Values\",np.argmin(orig_array)) # argmin gives the indices of the maximum value in an array"
   ]
  },
  {
   "cell_type": "markdown",
   "metadata": {},
   "source": [
    "**Q61.** Write the NumPy program compare two arrays using numpy? <br>\n",
    "Array a- [1 2] <br>\n",
    "Array b- [4 5] <br>\n",
    "a > b <br>\n",
    "[False False] <br>\n",
    "a >= b\n",
    "[False False] <br>\n",
    "a < b <br>\n",
    "[ True True] <br>\n",
    "a <= b <br>\n",
    "[ True True]"
   ]
  },
  {
   "cell_type": "code",
   "execution_count": null,
   "metadata": {},
   "outputs": [],
   "source": [
    "# Output is an array, element-wise comparison of x1 and x2. \n",
    "arr1 = np.array([1,2])\n",
    "arr2 = np.array([4,5])\n",
    "print(\"a > b:\", np.greater(arr1,arr2))\n",
    "print(\"a >= b:\", np.greater_equal(arr1,arr2))\n",
    "print(\"a < b:\", np.less(arr1,arr2))\n",
    "print(\"a <= b:\", np.less_equal(arr1,arr2))"
   ]
  },
  {
   "cell_type": "markdown",
   "metadata": {},
   "source": [
    "**Q62.** Write the NumPy program to sort an along the first, last axis of an array? <br>\n",
    "Sample array- [[2,5],[4,4]] <br>\n",
    "**Expected Output:** Original array: <br>\n",
    "[[4 6] <br>\n",
    "[2 1]] <br>\n",
    "Sort along the first axis: <br>\n",
    "[[2 1] <br>\n",
    "[4 6]] <br>\n",
    "Sort along the last axis- <br>\n",
    "[[1 2] <br>\n",
    "[4 6]]"
   ]
  },
  {
   "cell_type": "code",
   "execution_count": null,
   "metadata": {},
   "outputs": [],
   "source": [
    "orig_array = np.array([[4,6],[2,1]])\n",
    "print(\"Original Array\\n\",orig_array)\n",
    "\n",
    "sorted_array1 = np.sort(orig_array, axis=0)\n",
    "print(\"Sort along the first axis:\\n\",sorted_array1)\n",
    "sorted_array2 = np.sort(sorted_array1, axis=1)\n",
    "print(\"Sort along the last axis:\\n\",sorted_array2)"
   ]
  },
  {
   "cell_type": "markdown",
   "metadata": {},
   "source": [
    "**Q63.** Write the NumPy program to sort pairs of first name and last name return their indices (first by last name, then by first name). <br>\n",
    "first_names - ( Betsey, Shelley, Lanell, Genesis, Margery ) <br>\n",
    "last_names - ( Battle, Brien, Plotner, Stahl, Woolum ) <br>\n",
    "**Expected Output-** <br>\n",
    "[1 3 2 4 0]"
   ]
  },
  {
   "cell_type": "markdown",
   "metadata": {},
   "source": [
    "##### Output is not matching with the expected o/p"
   ]
  },
  {
   "cell_type": "markdown",
   "metadata": {},
   "source": [
    "np.lexsort((b, a))\n",
    "(i) Perform an indirect sort using a sequence of keys\n",
    "(ii) Sort by a, then by b\n",
    "(iii) Return type ndarray of ints Array of indices that sort the keys along the specified axis\n",
    "(iv) Occupies space as a new array of sorted indices pair wise is returned."
   ]
  },
  {
   "cell_type": "code",
   "execution_count": null,
   "metadata": {},
   "outputs": [],
   "source": [
    "first_name = (\"Betsey\", \"Shelley\", \"Lanell\", \"Genesis\", \"Margery\")\n",
    "last_name = (\"Battle\", \"Brien\", \"Plotner\", \"Stahl\", \"Woolum\")\n",
    "\n",
    "print(np.lexsort((first_name, last_name)))\n"
   ]
  },
  {
   "cell_type": "markdown",
   "metadata": {},
   "source": [
    "**Q64.** Write the NumPy program to get the values and indices of the elements that are bigger than 10 in the given array? <br>\n",
    "Original array- <br>\n",
    "[[ 0 10 20] <br>\n",
    "[20 30 40]] <br>\n",
    "Values bigger than 10 = [20 20 30 40] <br>\n",
    "Their indices are (array([0, 1, 1, 1]), array([2, 0, 1, 2]))"
   ]
  },
  {
   "cell_type": "markdown",
   "metadata": {},
   "source": [
    "### Not complete solution"
   ]
  },
  {
   "cell_type": "code",
   "execution_count": null,
   "metadata": {},
   "outputs": [],
   "source": [
    "orig_array = np.array([[ 0, 10, 20],\n",
    "                       [20, 30, 40]])\n",
    "print(orig_array)\n",
    "print(\"\\nValues bigger than 10 are -->\", orig_array[orig_array>10])\n",
    "\n",
    "print(\"their indices are---> \",(orig_array[orig_array>10]))\n",
    "\n"
   ]
  },
  {
   "cell_type": "markdown",
   "metadata": {},
   "source": [
    "**Q65.** Write the NumPy program to find the memory size of a NumPy array? <br>\n",
    "**Expected Output-** 128 bytes"
   ]
  },
  {
   "cell_type": "code",
   "execution_count": null,
   "metadata": {},
   "outputs": [],
   "source": [
    "orig_array = np.array([[ 0, 10, 20],\n",
    "                       [20, 30, 40],\n",
    "                      [20,40,60]], dtype = np.int64)\n",
    "\n",
    "print(orig_array.nbytes)\n",
    "\n",
    "\n",
    "# print(np.prod(orig_array.size))\n",
    "# print(orig_array.itemsize)"
   ]
  },
  {
   "cell_type": "markdown",
   "metadata": {},
   "source": [
    "###### Second Method"
   ]
  },
  {
   "cell_type": "code",
   "execution_count": null,
   "metadata": {},
   "outputs": [],
   "source": [
    "print(np.prod(orig_array.size) * orig_array.itemsize)"
   ]
  },
  {
   "cell_type": "code",
   "execution_count": null,
   "metadata": {},
   "outputs": [],
   "source": []
  },
  {
   "cell_type": "markdown",
   "metadata": {},
   "source": [
    "**Q66.** Write the NumPy program to create an array of ones and an array of zeros? <br>\n",
    "**Expected Output:** Create an array of zeros <br>\n",
    "Default type is float <br>\n",
    "[[ 0. 0.]] <br>\n",
    "Type changes to int <br>\n",
    "[[0 0]] <br>\n",
    "Create an array of ones <br>\n",
    "Default type is float<br>\n",
    "[[ 1. 1.]]<br>\n",
    "Type changes to int<br>\n",
    "[[1 1]]"
   ]
  },
  {
   "cell_type": "code",
   "execution_count": null,
   "metadata": {},
   "outputs": [],
   "source": [
    "print(\"Create an array of Zeros\")\n",
    "zerosArray = np.zeros((2,3))\n",
    "print(zerosArray)\n",
    "print(\"Default type is-->\", zerosArray.dtype)\n",
    "\n",
    "print(\"\\nchanging the dtype to int\")\n",
    "intTypeZerosArray = zerosArray.astype('int64')\n",
    "print(intTypeZerosArray)\n",
    "\n",
    "print(\"\\nCreating the arrau of ones\")\n",
    "onesArray = np.ones((2,3))\n",
    "print(onesArray)\n",
    "print(\"Default type is-->\", onesArray.dtype)\n",
    "\n",
    "print(\"\\nchanging the dtype to int\")\n",
    "intTypeOnesArray = onesArray.astype('int64')\n",
    "print(intTypeOnesArray)"
   ]
  },
  {
   "cell_type": "markdown",
   "metadata": {},
   "source": [
    "**Q67**. Write the NumPy program to change the dimension of an array? <br>\n",
    "**Expected Output-** <br>\n",
    "6 rows and 0 columns <br>\n",
    "(6,) <br>\n",
    "(3, 3) -> 3 rows and 3 columns <br>\n",
    "[[1 2 3]<br>\n",
    "[4 5 6]<br>\n",
    "[7 8 9]]<br>\n",
    "Change array shape to (3, 3) -> 3 rows and 3 columns <br>\n",
    "[[1 2 3] <br>\n",
    "[4 5 6]<br>\n",
    "[7 8 9]]"
   ]
  },
  {
   "cell_type": "code",
   "execution_count": null,
   "metadata": {},
   "outputs": [],
   "source": [
    "orig_array = np.arange(1,10)\n",
    "print(orig_array)\n",
    "\n",
    "print(\"The shape of the original array-->\", orig_array.shape)\n",
    "\n",
    "print(\"\\nChange array shape to (3, 3) -> 3 rows and 3 columns\")\n",
    "print(\"Resulting Array is-->\\n\",orig_array.reshape((3,3)))"
   ]
  },
  {
   "cell_type": "markdown",
   "metadata": {},
   "source": [
    "**Q68.** Write the NumPy program to create a new shape to an array without changing its data ? <br>\n",
    "Reshape 3x2- <br>\n",
    "[[1 2] <br>\n",
    "[3 4] <br>\n",
    "[5 6]]<br>\n",
    "Reshape 2x3- <br>\n",
    "[[1 2 3] <br>\n",
    "[4 5 6]]"
   ]
  },
  {
   "cell_type": "code",
   "execution_count": null,
   "metadata": {},
   "outputs": [],
   "source": [
    "arr = np.arange(1,7)\n",
    "print(\"Original Array-->\")\n",
    "print(arr)\n",
    "\n",
    "print(\"\\nReshape 3X2-->\")\n",
    "print(arr.reshape(3,2))\n",
    "\n",
    "print(\"\\nReshape 2X3-->\")\n",
    "print(arr.reshape(2,3))"
   ]
  },
  {
   "cell_type": "markdown",
   "metadata": {},
   "source": [
    "**Q69.** Write the NumPy program to create a new array of 3*5, filled with 2? <br>\n",
    "Expected Output- <br>\n",
    "[[2 2 2 2 2]<br>\n",
    "[2 2 2 2 2]<br>\n",
    "[2 2 2 2 2]]\n"
   ]
  },
  {
   "cell_type": "code",
   "execution_count": null,
   "metadata": {},
   "outputs": [],
   "source": [
    "arr = np.ones((3,5))*2\n",
    "print(\"Expected Output-->\\n\",arr)"
   ]
  },
  {
   "cell_type": "markdown",
   "metadata": {},
   "source": [
    "**Q70.** Write the NumPy program to create a 3-D array with ones on a diagonal and zeros elsewhere? <br>\n",
    "**Expected Output-**<br>\n",
    "[[ 1. 0. 0.] <br>\n",
    "[ 0. 1. 0.]<br>\n",
    "[ 0. 0. 1.]]"
   ]
  },
  {
   "cell_type": "code",
   "execution_count": null,
   "metadata": {},
   "outputs": [],
   "source": [
    "arr = np.eye(3)\n",
    "print(arr)\n"
   ]
  },
  {
   "cell_type": "markdown",
   "metadata": {},
   "source": [
    "**Q71.** Write the NumPy program to split an array of 14 elements into the 3 arrays and each of which has 2, 4, and 8 elements in original order? <br>\n",
    "**Expected Output:** Original array- [ 1 2 3 4 5 6 7 8 9 10 11 12 13 14] <br>\n",
    "After splitting- <br>\n",
    "[array([1, 2]), array([3, 4, 5, 6]), array([ 7, 8, 9, 10, 11, 12, 13, 14])]"
   ]
  },
  {
   "cell_type": "code",
   "execution_count": null,
   "metadata": {},
   "outputs": [],
   "source": [
    "arr = np.arange(1,15)\n",
    "print(\"Original Array-->\", arr)\n",
    "print(\"After Splitting-->\\n\",np.split(arr,[2,6]))"
   ]
  },
  {
   "cell_type": "markdown",
   "metadata": {},
   "source": [
    "**Q72.** Write the NumPy program to split of an array of shape 4x4 it into two arrays along the second axis ? <br>\n",
    "**Sample array** -<br>\n",
    "[[ 0 1 2 3] <br>\n",
    "[ 4 5 6 7] <br>\n",
    "[ 8 9 10 11] <br>\n",
    "[12 13 14 15]] <br>\n",
    "**Expected Output** <br>\n",
    "[array([[ 0, 1], [ 4, 5],[ 8, 9],[12, 13]]), array([[ 2, 3], [ 6, 7], [10, 11], [14, 15]]), <br> array([], shape=(4, 0), dtype=int64)]"
   ]
  },
  {
   "cell_type": "code",
   "execution_count": null,
   "metadata": {},
   "outputs": [],
   "source": [
    "sampleArray = np.arange(0,16).reshape(4,4)\n",
    "print(sampleArray)\n",
    "\n",
    "print(np.hsplit(sampleArray,2))"
   ]
  },
  {
   "cell_type": "markdown",
   "metadata": {},
   "source": [
    "**Q73.** Write the NumPy program to create a 5x5 matrix with row values ranging from 0 to 4? <br>\n",
    "Original array- <br>\n",
    "[[ 0. 0. 0. 0. 0.] <br>\n",
    "[ 0. 0. 0. 0. 0.] <br>\n",
    "[ 0. 0. 0. 0. 0.] <br>\n",
    "[ 0. 0. 0. 0. 0.] <br>\n",
    "[ 0. 0. 0. 0. 0.]] <br>\n",
    "Row values ranging from 0 to 4. <br>\n",
    "[[ 0. 1. 2. 3. 4.] <br>\n",
    "[ 0. 1. 2. 3. 4.] <br>\n",
    "[ 0. 1. 2. 3. 4.] <br>\n",
    "[ 0. 1. 2. 3. 4.] <br>\n",
    "[ 0. 1. 2. 3. 4.]]"
   ]
  },
  {
   "cell_type": "code",
   "execution_count": null,
   "metadata": {},
   "outputs": [],
   "source": [
    "origArray = np.zeros((5,5))\n",
    "print(origArray)\n",
    "\n",
    "print(\"\\nRow values ranging from 0 to 4\")\n",
    "print(origArray+[0,1,2,3,4])\n"
   ]
  },
  {
   "cell_type": "markdown",
   "metadata": {},
   "source": [
    "**Q74.** Write the NumPy program to create an array of zeros and three column types (integer, float, character)? <br>\n",
    "**Expected Output-** <br>\n",
    "[(1, 2., b'Albert Einstein') (2, 2., b'Edmond Halley') <br>\n",
    "(3, 3., b'Gertrude B. Elion')]"
   ]
  },
  {
   "cell_type": "code",
   "execution_count": null,
   "metadata": {},
   "outputs": [],
   "source": [
    "b'Albert Einstein'"
   ]
  },
  {
   "cell_type": "markdown",
   "metadata": {},
   "source": [
    "##### Not completed\n",
    "Understand Custom DataTypes in Numpy"
   ]
  },
  {
   "cell_type": "code",
   "execution_count": null,
   "metadata": {},
   "outputs": [],
   "source": [
    "arr = np.zeros((3,0),dtype = ('i8,f8,S50'))\n",
    "print(arr.dtype) \n",
    "new_dat = [(1, 2., 'Albert Einstein'),(2, 2., 'Edmond Halley'),(3, 3., 'Gertrude B. Elion')]\n",
    "arr[:]= new_dat\n",
    "print(arr)"
   ]
  },
  {
   "cell_type": "code",
   "execution_count": null,
   "metadata": {},
   "outputs": [],
   "source": [
    "x = np.zeros((3,), dtype=[('f0', '<i8'), ('f1', '<f8'), ('f2', 'S30')])\n",
    "print(x)\n",
    "x + [(1, 2., b\"Albert Einstein\"), (2, 2., b\"Edmond Halley\"), (3, 3., b\"Gertrude B. Elion\")]"
   ]
  },
  {
   "cell_type": "code",
   "execution_count": null,
   "metadata": {},
   "outputs": [],
   "source": [
    "np.array([(1, 2., \"Albert Einstein\"), (2, 2., \"Edmond Halley\"), (3, 3., \"Gertrude B. Elion\")]).shape"
   ]
  },
  {
   "cell_type": "code",
   "execution_count": null,
   "metadata": {},
   "outputs": [],
   "source": [
    "import numpy as np\n",
    "x = np.zeros((3,), dtype=('i4,f4,a40'))\n",
    "new_data = [(1, 2., \"Albert Einstein\"), (2, 2., \"Edmond Halley\"), (3, 3., \"Gertrude B. Elion\")]\n",
    "x[:] = new_data\n",
    "print(x)"
   ]
  },
  {
   "cell_type": "markdown",
   "metadata": {},
   "source": [
    "**Q75.** Write the NumPy program to remove the negative values in the numpy array with 0? <br>\n",
    "**Expected Output:** Original array: <br>\n",
    "[-1 -4 0 2 3 4 5 -6] <br>\n",
    "Replace the negative values of the said array with 0- <br>\n",
    "[0 0 0 2 3 4 5 0]"
   ]
  },
  {
   "cell_type": "code",
   "execution_count": null,
   "metadata": {},
   "outputs": [],
   "source": [
    "orig_Array = np.array([-1,-4, 0, 2, 3, 4, 5, -6])\n",
    "print(orig_Array)\n",
    "\n",
    "orig_Array[orig_Array<0] = 0\n",
    "print(\"\\nReplace the negative values of the said array with 0-->\\n\")\n",
    "print(orig_Array)"
   ]
  },
  {
   "cell_type": "markdown",
   "metadata": {},
   "source": [
    "**Q76.** Write the NumPy program to compute the histogram of a set of data? <br>\n",
    "Sample Output: ![alt text](img12.jpg)"
   ]
  },
  {
   "cell_type": "markdown",
   "metadata": {},
   "source": [
    "not complted"
   ]
  },
  {
   "cell_type": "code",
   "execution_count": null,
   "metadata": {},
   "outputs": [],
   "source": [
    "import matplotlib.pyplot as plt\n",
    "rng = np.random.RandomState(10)  # deterministic random data\n",
    "a = np.hstack((rng.normal(size=1000), rng.normal(loc=5, scale=2, size=1000)))\n",
    "_ = plt.hist(a, bins='auto')  # arguments are passed to np.histogram\n",
    "plt.title(\"Histogram with 'auto' bins\")\n",
    "# Text(0.5, 1.0, \"Histogram with 'auto' bins\")\n",
    "plt.show()"
   ]
  },
  {
   "cell_type": "markdown",
   "metadata": {},
   "source": [
    "**Q77.** Write the NumPy program to compute the line graph of a set of data? <br>\n",
    "Sample Output: ![alt text](img13.jpg)"
   ]
  },
  {
   "cell_type": "code",
   "execution_count": null,
   "metadata": {},
   "outputs": [],
   "source": []
  },
  {
   "cell_type": "markdown",
   "metadata": {},
   "source": [
    "**Q78.** Write the NumPy program to extracts all the elements from second row from given (4x4) array? <br>\n",
    "**Sample Output:** Original array- <br>\n",
    "[[ 0 1 2 3] <br>\n",
    "[ 4 5 6 7]<br>\n",
    "[ 8 9 10 11]<br>\n",
    "[12 13 14 15]]<br>\n",
    "Extracted data- Second row <br>\n",
    "[4 5 6 7]"
   ]
  },
  {
   "cell_type": "code",
   "execution_count": null,
   "metadata": {},
   "outputs": [],
   "source": [
    "sampleArray = np.array([[0,1,2,3],[4,5,6,7], [8,9,10,11], [12,13,14,15]])\n",
    "print(sampleArray)\n",
    "\n",
    "print(\"Extracted Data - Second Row-->\", sampleArray[1,:])"
   ]
  },
  {
   "cell_type": "markdown",
   "metadata": {},
   "source": [
    "**Q79.** Write the NumPy program to extract first element of the second row and fourth element of fourth row from a given (4x4) array? <br>\n",
    "**Sample Output:** Original array- <br>\n",
    "[[ 0 1 2 3]<br>\n",
    "[ 4 5 6 7]<br>\n",
    "[ 8 9 10 11]<br>\n",
    "[12 13 14 15]]<br>\n",
    "Extracted data- First element of the second row and fourth element of fourth row<br>\n",
    "[ 4 15]"
   ]
  },
  {
   "cell_type": "code",
   "execution_count": null,
   "metadata": {},
   "outputs": [],
   "source": [
    "sampleArray = np.array([[0,1,2,3],[4,5,6,7], [8,9,10,11], [12,13,14,15]])\n",
    "print(sampleArray)\n",
    "\n",
    "print(\"First element of the second row and fourth element of the fourth row-->\", sampleArray[[1,3],[0,3]])"
   ]
  },
  {
   "cell_type": "markdown",
   "metadata": {},
   "source": [
    "**Q80.** Write the NumPy program to add two arrays A and B of sizes (3,3) and (,3)? <br>\n",
    "Sample Output: Original arrayArray-1 <br>\n",
    "[[1 1 1] <br>\n",
    "[1 1 1] <br>\n",
    "[1 1 1]] <br>\n",
    "Array-2 <br>\n",
    "[0 1 2] <br>\n",
    "A + B: <br>\n",
    "[[1 2 3]<br>\n",
    "[1 2 3]<br>\n",
    "[1 2 3]]"
   ]
  },
  {
   "cell_type": "code",
   "execution_count": null,
   "metadata": {},
   "outputs": [],
   "source": [
    "origArray1 = np.array([[1,1,1],\n",
    "                      [1,1,1],\n",
    "                      [1,1,1]])\n",
    "origArray2 = np.array([0,1,2])\n",
    "\n",
    "print(origArray1 + origArray2)\n",
    "\n"
   ]
  },
  {
   "cell_type": "markdown",
   "metadata": {},
   "source": [
    "**Q81.** Write the NumPy program to copy data from a given array to another array? <br>\n",
    "**Sample Output:** Original array- <br>\n",
    "[24 27 30 29 18 14] <br>\n",
    "Copy of the said array- <br>\n",
    "[24 27 30 29 18 14]"
   ]
  },
  {
   "cell_type": "code",
   "execution_count": null,
   "metadata": {},
   "outputs": [],
   "source": [
    "origArray = np.array([24,27,30,29,18,14])\n",
    "\n",
    "x = np.copy(origArray, order='K') # ‘K’ means match the layout of a as closely as possible\n",
    "\n",
    "print(\"Copy of the said array\",x)"
   ]
  },
  {
   "cell_type": "markdown",
   "metadata": {},
   "source": [
    "**Q82.** Write the NumPy program to calculate the sum of all columns of the 2D numpy array? <br>\n",
    "**Sample Output:** Original array- <br>\n",
    "[[ 0 1 2 3 4 5 6 7 8] <br>\n",
    "[ 9 10 11 12 13 14 15 16 17] <br>\n",
    "[18 19 20 21 22 23 24 25 26] <br>\n",
    "[27 28 29 30 31 32 33 34 35]] <br>\n",
    "Sum of all columns- <br>\n",
    "[54 58 62 66 70 74 78 82 86]"
   ]
  },
  {
   "cell_type": "code",
   "execution_count": null,
   "metadata": {},
   "outputs": [],
   "source": [
    "origArray = np.array([[0, 1, 2, 3, 4, 5, 6, 7, 8],\n",
    "                        [9, 10, 11, 12, 13, 14, 15, 16, 17],\n",
    "                        [18, 19, 20, 21, 22, 23, 24, 25, 26],\n",
    "                        [27, 28, 29, 30, 31, 32, 33, 34, 35]])\n",
    "\n",
    "print(\"original Array-->\\n\", origArray)\n",
    "\n",
    "print(\"\\nsum of all columns-->\")\n",
    "print(np.sum(origArray,axis = 0))"
   ]
  },
  {
   "cell_type": "markdown",
   "metadata": {},
   "source": [
    "**Q83.** Write the NumPy program to calculate averages without NaNs along the given array? <br>\n",
    "**Sample Output:** Original array- <br>\n",
    "[[10. 20. 30.] <br>\n",
    "[40. 50. nan] <br>\n",
    "[nan 6. nan] <br>\n",
    "[nan nan nan]] <br>\n",
    "Averages without NaNs along the said array- <br>\n",
    "[20. 45. 6. nan]"
   ]
  },
  {
   "cell_type": "code",
   "execution_count": null,
   "metadata": {},
   "outputs": [],
   "source": [
    "from numpy import nan\n",
    "origArray = np.array([[10., 20., 30.],\n",
    "                      [40., 50., nan],\n",
    "                      [nan, 6., nan],\n",
    "                      [nan, nan, nan]])\n",
    "print(origArray)\n",
    "\n",
    "print(\"Averages without NaNs along the said array-->\")\n",
    "\n",
    "print(np.nanmean(origArray,axis = 1)) # (10+20+30)/3 = 20\n"
   ]
  },
  {
   "cell_type": "markdown",
   "metadata": {},
   "source": [
    "**Q84.** Create two arrays of six elements. Write the NumPy program to count the number of instances of a value occurring in one array on the condition of another array. <br>\n",
    "**Sample Output:** Original arrays- <br>\n",
    "[ 10 -10 10 -10 -10 10] <br>\n",
    "[0.85 0.45 0.9 0.8 0.12 0.6 ] <br>\n",
    "Number of instances of a value occurring in one array on the condition of another array: 3 "
   ]
  },
  {
   "cell_type": "markdown",
   "metadata": {},
   "source": [
    "calculate c as the number of 1's in a that occur when b > .5, so in this case `c = 3'."
   ]
  },
  {
   "cell_type": "code",
   "execution_count": null,
   "metadata": {},
   "outputs": [],
   "source": [
    "array1 = np.array([10, -10, 10, -10, -10, 10])\n",
    "array2 = np.array([0.85, 0.45, 0.9,0.8,0.12,0.6])\n",
    "print(f\"Original Arrays-->\\n{array1}\\n {array2}\")\n",
    "\n",
    "print(\"Number of instances of a value occuring in one array on the condition of another of another array:\",\n",
    "       np.sum((array1 == -10) & (array2 > 0.2)) ) # does element-by-element comparision.\n",
    "                                                   # When both the conditions are true, it returns true."
   ]
  },
  {
   "cell_type": "markdown",
   "metadata": {},
   "source": [
    "**Q85.** Write the NumPy program to convert a Python dictionary to a Numpy ndarray ? <br>\n",
    "Original dictionary- <br>\n",
    "{'column0': {'a': 1, 'b': 0.0, 'c': 0.0, 'd': 2.0}, <br>\n",
    "'column1': {'a': 3.0, 'b': 1, 'c': 0.0, 'd': -1.0}, <br>\n",
    "'column2': {'a': 4, 'b': 1, 'c': 5.0, 'd': -1.0}, <br>\n",
    "'column3': {'a': 3.0, 'b': -1.0, 'c': -1.0, 'd': -1.0}} <br>\n",
    "Type: <class 'dict'> <br>\n",
    "ndarray- <br>\n",
    "[[ 1. 0. 0. 2.] <br>\n",
    "[ 3. 1. 0. -1.] <br>\n",
    "[ 4. 1. 5. -1.] <br>\n",
    "[ 3. -1. -1. -1.]] <br>\n",
    "Type: <class 'numpy.ndarray'>"
   ]
  },
  {
   "cell_type": "code",
   "execution_count": null,
   "metadata": {},
   "outputs": [],
   "source": [
    "origDict = {'column0': {'a': 1, 'b': 0.0, 'c': 0.0, 'd': 2.0},\n",
    "            'column1': {'a': 3.0, 'b': 1, 'c': 0.0, 'd': -1.0},\n",
    "            'column2': {'a': 4, 'b': 1, 'c': 5.0, 'd': -1.0},\n",
    "            'column3': {'a': 3.0, 'b': -1.0, 'c': -1.0, 'd': -1.0}}\n",
    "print(\"Original Dictionary\\n\",origDict)\n",
    "\n",
    "# print(\"ndarray\",np.array(tuple(origDict.keys())))\n",
    "\n",
    "data = list(origDict.items())\n",
    "an_array = np.array(data)\n",
    "print(an_array)"
   ]
  },
  {
   "cell_type": "markdown",
   "metadata": {},
   "source": [
    "0**Q86.** Write the Numpy program to find and store the non-zero unique rows in an array after comparing each row with other row in the given matrix? <br>\n",
    "Original array- <br>\n",
    "[[ 1 1 0] <br>\n",
    "[ 0 0 0] <br>\n",
    "[ 0 2 3] <br>\n",
    "[ 0 0 0] <br>\n",
    "[ 0 -1 1] <br>\n",
    "[ 0 0 0]] <br>\n",
    "Non-zero unique rows- <br>\n",
    "[[ 1 1 0] <br>\n",
    "[ 0 2 3] <br>\n",
    "[ 0 -1 1]]"
   ]
  },
  {
   "cell_type": "code",
   "execution_count": null,
   "metadata": {},
   "outputs": [],
   "source": [
    "r[np.all(r == 0, axis=1)]\n",
    "array([[ 0.,  0.,  0.]])\n",
    ">>> r[~np.all(r == 0, axis=1)]\n",
    "array([[-1.41421356, -0.70710678, -0.70710678],\n",
    "       [ 0.        , -1.22474487, -1.22474487]])"
   ]
  },
  {
   "cell_type": "code",
   "execution_count": null,
   "metadata": {},
   "outputs": [],
   "source": [
    "origArray = np.array([[1, 1, 0],[0, 0, 0],[0, 2, 3],[0, 0, 0], [0, -1, 1],[0, 0, 0]])\n",
    "print(origArray)\n",
    "\n",
    "print(\"\\nNon-zero unique rows\")\n",
    "# print(origArray[np.nonzero(origArray)])\n",
    "\n",
    "# print(origArray[np.all(origArray == 0, axis = 1)])\n",
    "print(origArray[~np.all(origArray == 0, axis = 1)])\n",
    "\n",
    "\n",
    "\n"
   ]
  },
  {
   "cell_type": "markdown",
   "metadata": {},
   "source": [
    "**Q87.** Write the NumPy program to multiply the matrix by another matrix of complex numbers and create a new matrix of complex numbers? <br>\n",
    "Sample output: First array- <br>\n",
    "[ 1.+2.j 3.+4.j] <br>\n",
    "Second array- <br>\n",
    "[ 5.+6.j 7.+8.j] <br>\n",
    "Product of above two arrays- <br>\n",
    "(70-8j)"
   ]
  },
  {
   "cell_type": "code",
   "execution_count": null,
   "metadata": {},
   "outputs": [],
   "source": [
    "firstArray = np.array([1+2j, 3+4j])\n",
    "secondArray = np.array([5+6j, 7+8j])\n",
    "print(\"First Array-->\",firstArray)\n",
    "print(\"Second Array-->\",secondArray)\n",
    "\n",
    "print(\"Product of above two arrays-->\",np.vdot(firstArray,secondArray))"
   ]
  },
  {
   "cell_type": "markdown",
   "metadata": {},
   "source": [
    "**Q88.** Write a NumPy program to generate the matrix product of two Arrays? <br>\n",
    "**Sample Output:** Matrices and vectors. <br>\n",
    "x- <br>\n",
    "[[1, 0], [1, 1]] <br>\n",
    "y- <br>\n",
    "[[3, 1], [2, 2]] <br>\n",
    "Matrix product of above two arrays <br>\n",
    "[[3 1] <br>\n",
    "[5 3]]"
   ]
  },
  {
   "cell_type": "code",
   "execution_count": null,
   "metadata": {},
   "outputs": [],
   "source": [
    "x = np.mat('1,0;,1,1')\n",
    "print(\"x-->\\n\", x)\n",
    "\n",
    "y = np.mat('3,1;2,2')\n",
    "print(\"y-->\\n\",y)\n",
    "\n",
    "print(\"\\nMatrix product of above two arrays\")\n",
    "\n",
    "print(np.dot(x,y))"
   ]
  },
  {
   "cell_type": "markdown",
   "metadata": {},
   "source": [
    "**Q89.** Write the NumPy program to find roots of the following Polynomials? <br>\n",
    "a) (x2 - 4x + 7) <br>\n",
    "b) x4 - 11x3 + 9x2 + 11x+10 <br>\n",
    "**Sample output:** Roots of the first polynomial- <br>\n",
    "[ 1. 1.] <br>\n",
    "Roots of the second polynomial- <br>\n",
    "[ 11.04461946+0.j -0.87114210+0.j 0.91326132+0.4531004j 0.91326132-0.4531004j ]"
   ]
  },
  {
   "cell_type": "code",
   "execution_count": null,
   "metadata": {},
   "outputs": [],
   "source": [
    "coeff1 = [1,-4,7]\n",
    "print(\"the roots of the First polynomials x2-4x+7 is\",np.roots(coeff1))\n",
    "\n",
    "coeff2 = [1,-11, 9,11,10]\n",
    "print(\"the roots of the second polynomials x4-11x3+9x2+11x+10 is\",np.roots(coeff2))\n"
   ]
  },
  {
   "cell_type": "markdown",
   "metadata": {},
   "source": [
    "**Q90.** Write the NumPy program to calculate inverse of sine, cosine, and inverse tangent for all elements in a given array? <br>\n",
    "**Sample output:** Inverse sine- [-1.57079633 0. 1.57079633] <br>\n",
    "Inverse cosine- [3.14159265 1.57079633 0. ] <br>\n",
    "Inverse tangent- [-0.78539816 0. 0.78539816]"
   ]
  },
  {
   "cell_type": "code",
   "execution_count": null,
   "metadata": {},
   "outputs": [],
   "source": [
    "sampleArray = np.array([-1, 1])\n",
    "\n",
    "print(\"Inverse Sine\", np.arcsin(sampleArray))\n",
    "\n",
    "print(\"Inverse CoSine\", np.arccos(sampleArray))\n",
    "\n",
    "print(\"Inverse tangent\", np.arctan(sampleArray))\n"
   ]
  },
  {
   "cell_type": "markdown",
   "metadata": {},
   "source": [
    "**Q91.** Write the NumPy program to calculate the difference between in neighbouring elements, element-wise of a given array? <br>\n",
    "**Sample output:** Original array- <br>\n",
    "[1 3 5 7 0] <br>\n",
    "Difference between neighbouring elements, element-wise of the said array- <br>\n",
    "[ 2 2 2 -7]"
   ]
  },
  {
   "cell_type": "code",
   "execution_count": null,
   "metadata": {},
   "outputs": [],
   "source": [
    "originalArray = np.array([1,3,5,7,0])\n",
    "print(\"original Array-->\", originalArray)\n",
    "\n",
    "print(\"Diffrence between neighbouring elements, element-wise of the said array-->\")\n",
    "\n",
    "np.diff(originalArray)\n",
    "\n"
   ]
  },
  {
   "cell_type": "markdown",
   "metadata": {},
   "source": [
    "**Q92.** Write the Python program to find the maximum and the minimum value of a given flattened array? <br>\n",
    "Expected Output: Original flattened array- <br>\n",
    "[[0 1] <br>\n",
    "[2 3]] <br>\n",
    "Maximum value of the above flattened array- 3 <br>\n",
    "Minimum value of the above flattened array- 0"
   ]
  },
  {
   "cell_type": "code",
   "execution_count": null,
   "metadata": {},
   "outputs": [],
   "source": [
    "origArray = np.array([[0,1],[2,3]])\n",
    "print(\"Original Flattened Array\\n\", origArray)\n",
    "\n",
    "print(\"Maximum value of the above flattened array-->\", np.max(origArray))\n",
    "print(\"Minimum value of the above flattened array-->\", np.min(origArray))\n"
   ]
  },
  {
   "cell_type": "markdown",
   "metadata": {},
   "source": [
    "**Q93.** Write the NumPy program to calculate the difference between in the maximum and the minimum values of a given array along the second axis ? <br>\n",
    "**Expected Output:** Original array- <br>\n",
    "[[ 0 1 2 3 4 5] <br>\n",
    "[ 6 7 8 9 10 11]] <br>\n",
    "Difference between the maximum and the minimum values of the said array- [5 5]"
   ]
  },
  {
   "cell_type": "code",
   "execution_count": null,
   "metadata": {},
   "outputs": [],
   "source": [
    "np.max(origArray,)"
   ]
  },
  {
   "cell_type": "code",
   "execution_count": null,
   "metadata": {},
   "outputs": [],
   "source": [
    "origArray = np.array([[0,1,2,3,4,5],[6,7,8,9,10,11]])\n",
    "print(\"original Array-->\\n\", origArray)\n",
    "\n",
    "print(\"\\nDifference between the maximum and the minimum values of the said array:\",np.max(origArray,axis=1)-np.min(origArray,axis=1))"
   ]
  },
  {
   "cell_type": "markdown",
   "metadata": {},
   "source": [
    "**Q94.** Write the NumPy program to compute the weighted of the given array ? <br>\n",
    "**Sample Output:** Original array- [0 1 2 3 4]  <br>\n",
    "Weighted average of the said array- 2.6666666666666665"
   ]
  },
  {
   "cell_type": "code",
   "execution_count": null,
   "metadata": {},
   "outputs": [],
   "source": [
    "import numpy as np\n",
    "origArray = np.array([0,1,2,3,4])\n",
    "print(\"origArray\", origArray)\n",
    "\n",
    "print(\"Weighted Average of the said Array-\",np.average(origArray, weights = [1./5, 2./5, 1./5, 1./10, 1./10]))\n",
    "\n"
   ]
  },
  {
   "cell_type": "markdown",
   "metadata": {},
   "source": [
    "**Q95.** Write the NumPy program to compute the mean, standard deviation, and the variance of a given array along the second axis? <br>\n",
    "**Sample output:** Original array-<br>\n",
    "[0 1 2 3 4 5] <br>\n",
    "Mean- 2.5 <br> \n",
    "std- 1<br>\n",
    "variance- 2.9166666666666665"
   ]
  },
  {
   "cell_type": "code",
   "execution_count": null,
   "metadata": {},
   "outputs": [],
   "source": [
    "origArray = np.array([0,1,2,3,4,5])\n",
    "print(\"mean\", np.mean(origArray))\n",
    "print(\"Standard Deviation\",np.std(origArray))\n",
    "print(\"Variance\",np.var(origArray))\n"
   ]
  },
  {
   "cell_type": "markdown",
   "metadata": {},
   "source": [
    "**Q96.** Write the Numpy program to compute the covariance matrix of the two given arrays? <br>\n",
    "**Sample Output:** Original array1- <br>\n",
    "[0 1 2] <br>\n",
    "Original array1- <br>\n",
    "[2 1 0] <br>\n",
    "Covariance matrix of the said arrays- <br>\n",
    "[[ 1. -1.] <br>\n",
    "[-1. 1.]]"
   ]
  },
  {
   "cell_type": "code",
   "execution_count": null,
   "metadata": {},
   "outputs": [],
   "source": [
    "origArray1 = np.array([0,1,2])\n",
    "origArray2 = np.array([2,1,0])\n",
    "print(\"Original Array1-->\\n\",origArray1)\n",
    "print(\"Original Array2-->\\n\",origArray2)\n",
    "\n",
    "print(\"\\nCovariance matrix of the said arrays-\")\n",
    "print(np.cov(origArray1,origArray2))\n"
   ]
  },
  {
   "cell_type": "markdown",
   "metadata": {},
   "source": [
    "**Q97.** Write a NumPy program to compute the cross-correlation of two given arrays ? <br>\n",
    "**Sample Output:** Original array1 <br>\n",
    "[0 1 3] <br>\n",
    "Original array1- <br>\n",
    "[2 4 5] <br>\n",
    "Cross-correlation of the said arrays- <br>\n",
    "[ [ 2.33333333 2.16666667 ] <br>\n",
    "[ 2.16666667 2.33333333 ] ]"
   ]
  },
  {
   "cell_type": "code",
   "execution_count": null,
   "metadata": {},
   "outputs": [],
   "source": [
    "origArray1 = np.array([0,1,3])\n",
    "origArray2 = np.array([2,4,5])\n",
    "print(\"Original Array 1-\",origArray1)\n",
    "print(\"Original Array 2-\",origArray2)\n",
    "\n",
    "print(\"\\nCross-correlation of the said arrays-\")\n",
    "print(np.cov(origArray1,origArray2))"
   ]
  },
  {
   "cell_type": "markdown",
   "metadata": {},
   "source": [
    "**Q98.** Write the NumPy program to compute Pearson product-moment correlation coefficients of two given arrays? <br>\n",
    "**Sample Output:** Original array1- <br>\n",
    "[0 1 3] <br>\n",
    "Original array1- <br>\n",
    "[2 4 5] <br>\n",
    "Pearson product-moment correlation coefficients of the said arrays- <br>\n",
    "[[1. 0.92857143] <br>\n",
    "[0.92857143 1. ]]"
   ]
  },
  {
   "cell_type": "code",
   "execution_count": null,
   "metadata": {},
   "outputs": [],
   "source": [
    "origArray1 = np.array([0,1,3])\n",
    "origArray2 = np.array([2,4,5])\n",
    "print(\"Original Array 1-\",origArray1)\n",
    "print(\"Original Array 2-\",origArray2)\n",
    "\n",
    "print(\"Pearson product-moment correlation coefficients of the said arrays-\")\n",
    "print(np.corrcoef(origArray1,origArray2))\n"
   ]
  },
  {
   "cell_type": "markdown",
   "metadata": {},
   "source": [
    "**Q99.** Write the python program to count the number of occurrences of each value in a given array of non-negative integers? <br>\n",
    "**Note:** bincount() Function- It count the occurrence of each value in an array of the non- negative integers in the range of the array between the minimum and maximum values including the values that did not occur. <br>\n",
    "Sample Output: Original array- <br>\n",
    "[0, 1, 6, 1, 4, 1, 2, 2, 7] <br>\n",
    "Number of occurrences of each value in array- [1 3 2 0 1 0 1 1]"
   ]
  },
  {
   "cell_type": "markdown",
   "metadata": {},
   "source": [
    "bincount returns the size of each 'bin' for each value from 0 to the largest value in the array it is called on.\n",
    "\n",
    "e.g.\n",
    "\n",
    ">>> np.bincount(np.array([0,1,2,3,4]))\n",
    "array([1, 1, 1, 1, 1])\n",
    "Above it returns five 1's, since there is one of each value from the smallest value: 0 to the largest value: 4.\n",
    "\n",
    ">>> np.bincount(np.array([0, 1, 1, 1, 2, 3, 7]))\n",
    "array([1, 3, 1, 1, 0, 0, 0, 1])\n",
    "Above it returns the amount of 0's, 1's, 2's, 3's, 4's (0), 5's (0), 6's (0) and 7's."
   ]
  },
  {
   "cell_type": "code",
   "execution_count": null,
   "metadata": {},
   "outputs": [],
   "source": [
    "origArray = np.array([0, 1, 6, 1, 4, 1, 2, 2, 7])\n",
    "print(\"Original Array\",origArray)\n",
    "\n",
    "print(\"Number of occurrences of each value in array-\", np.bincount(origArray))"
   ]
  },
  {
   "cell_type": "markdown",
   "metadata": {},
   "source": [
    "**Q100.** Write a Numpy program to compute the histogram of nums against the bins? <br>\n",
    "**Sample Output:** nums- [0.5 0.7 1. 1.2 1.3 2.1]<br>\n",
    "bins- [0 1 2 3] <br>\n",
    "Result- (array([2, 3, 1], dtype=int64), array([0, 1, 2, 3]))"
   ]
  },
  {
   "cell_type": "markdown",
   "metadata": {},
   "source": [
    "All but the last (righthand-most) bin is half-open. In other words, if bins is:\n",
    "\n",
    "[1, 2, 3, 4]\n",
    "then the first bin is [1, 2) (including 1, but excluding 2) and the second [2, 3). The last bin, however, is [3, 4], which includes 4."
   ]
  },
  {
   "cell_type": "code",
   "execution_count": null,
   "metadata": {},
   "outputs": [],
   "source": [
    "nums = np.array([0.5, 0.7, 1., 1.2, 1.3, 2.1])\n",
    "bins = [0,1,2,3]\n",
    "np.histogram(nums, bins)"
   ]
  },
  {
   "cell_type": "markdown",
   "metadata": {},
   "source": [
    "**Q101.** Write the Python program to add, subtract, multiply and divide two pandas series ? <br>\n",
    "**Sample Series-** [2, 4, 6, 8, 10], [1, 3, 5, 7, 9]"
   ]
  },
  {
   "cell_type": "code",
   "execution_count": null,
   "metadata": {},
   "outputs": [],
   "source": [
    "ser1 = list(map(int, input().split()))\n",
    "a = pd.Series(ser1, index=['a', 'b', 'c', 'd','e'])\n",
    "ser2 = list(map(int, input().split()))\n",
    "b = pd.Series(ser2, index=['a', 'b', 'c', 'd','e'])\n",
    "\n",
    "# Add Series\n",
    "print(\"Series Addition\\n\",a.add(b))\n",
    "\n",
    "# Subtract Series\n",
    "print(\"Series Subtraction\\n\", a.subtract(b))\n",
    "\n",
    "# Multiply Series\n",
    "print(\"Series Multiplication\\n\",a.multiply(b))\n",
    "\n",
    "# Divide Series\n",
    "print(\"Series Divide\\n\",a.divide(b))"
   ]
  },
  {
   "cell_type": "markdown",
   "metadata": {},
   "source": [
    "**Q102.** Write a Python program to convert a dictionary to the Pandas Series? <br>\n",
    "Sample Series: Original dictionary- {'a': 100, 'b': 200, 'c': 300, 'd': 400, 'e': 800}<br>\n",
    "Converted series - <br>\n",
    "a 100 <br>\n",
    "b 200 <br>\n",
    "c 300 <br>\n",
    "d 400 <br>\n",
    "e 800 <br>\n",
    "dtype- int64"
   ]
  },
  {
   "cell_type": "code",
   "execution_count": null,
   "metadata": {},
   "outputs": [],
   "source": [
    "import pandas as pd\n",
    "orig_dict = {'a': 100, 'b': 200, 'c': 300, 'd': 400, 'e': 800}\n",
    "print(\"Original dictionary-->\",orig_dict)\n",
    "df = pd.Series(orig_dict)\n",
    "print(\"\\nConverted Series-->\\n\",df)"
   ]
  },
  {
   "cell_type": "markdown",
   "metadata": {},
   "source": [
    "**Q103.** Write a python program to change the data type of given column or Series? <br>\n",
    "**Sample Series:** Original Data Series- <br>\n",
    "0 100 <br>\n",
    "1 200 <br>\n",
    "2 python <br>\n",
    "3 300.12 <br>\n",
    "4 400 <br> \n",
    "dtype- object <br>\n",
    "Change the said data type to numeric- <br>\n",
    "0 100.00 <br>\n",
    "1 200.00<br>\n",
    "2 NaN<br>\n",
    "3 300.12<br>\n",
    "4 400.00<br>\n",
    "dtype- float64"
   ]
  },
  {
   "cell_type": "code",
   "execution_count": null,
   "metadata": {},
   "outputs": [],
   "source": [
    "import numpy as np\n",
    "data = np.array([[0,100],\n",
    "                [1,200],\n",
    "                [2,'python'],\n",
    "                [3, 300.12],\n",
    "                [4, 400]])\n",
    "orig_df = pd.DataFrame(data, columns=['a','b'], index=None)\n",
    "print(orig_df)\n",
    "pd.to_numeric(orig_df[\"b\"],errors='coerce')"
   ]
  },
  {
   "cell_type": "markdown",
   "metadata": {},
   "source": [
    "**Q104.** Write the python pandas program to convert the first column of a DataFrame as a Series? <br>\n",
    "**Sample Output:** Original DataFrame <br>\n",
    "col1 col2 col3<br>\n",
    "0 1 4 7<br>\n",
    "1 2 5 5<br>\n",
    "2 3 6 8<br>\n",
    "3 4 9 12<br>\n",
    "4 7 5 1<br>\n",
    "5 11 0 11<br>\n",
    "1st column as a Series- <br>\n",
    "0 1<br>\n",
    "1 2<br>\n",
    "2 3<br>\n",
    "3 4<br>\n",
    "4 7<br>\n",
    "5 11<br>\n",
    "Name- col1, dtype- int64 <br>\n",
    "<class 'pandas.core.series.Series'>"
   ]
  },
  {
   "cell_type": "code",
   "execution_count": null,
   "metadata": {},
   "outputs": [],
   "source": [
    "data = np.array([[1,4,7],\n",
    "                [2,5,5],\n",
    "                [3,6,8],\n",
    "                [4, 9, 12],\n",
    "                [7,5,1],\n",
    "                [11,0,11]])\n",
    "orig_df = pd.DataFrame(data, columns=['col1','col2','col3'], index=None)\n",
    "print(orig_df)\n",
    "print('First Column as Series:')\n",
    "pd.Series(orig_df[\"col1\"])"
   ]
  },
  {
   "cell_type": "markdown",
   "metadata": {},
   "source": [
    "**Q105.** Write a pandas program to create the mean and standard deviation of the data of a given Series? <br>\n",
    "Sample Output : Original Data Series- <br>\n",
    "0 1 <br>\n",
    "1 2 <br>\n",
    "2 3 <br>\n",
    "3 4<br>\n",
    "4 5<br>\n",
    "5 6<br>\n",
    "6 7<br>\n",
    "7 8<br>\n",
    "8 9<br>\n",
    "9 5<br>\n",
    "10 3<br>\n",
    "dtype- int64 <br>\n",
    "Mean of the said Data Series- 4.81818181818 <br>\n",
    "Standard deviation of the said Data Series- 2.52262489555"
   ]
  },
  {
   "cell_type": "code",
   "execution_count": null,
   "metadata": {},
   "outputs": [],
   "source": [
    "print(\"Original Data Series-->\")\n",
    "data = np.array([1,2,3,4,5,6,7,8,9,5,3])\n",
    "\n",
    "ser1 = pd.Series(data)\n",
    "print(ser1)\n",
    "\n",
    "# mean and std of the data series\n",
    "mean = ser1.mean()\n",
    "std = ser1.std()\n",
    "print(f\"Mean of the said Data Series - {mean}\")\n",
    "print(f\"\\nstandard deviation of the said Data Series - {std}\")\n"
   ]
  },
  {
   "cell_type": "markdown",
   "metadata": {},
   "source": [
    "**Q106.** Write a pandas program to get powers of an array values element-wise? <br>\n",
    "**Note:**  First array elements raised the powers from the second array.<br>\n",
    "Sample data: {'X ':[78,85,96,80,86], ' Y ':[84,94,89,83,86],'Z':[86,97,96,72,83]} <br>\n",
    "**Expected Output:** <br>\n",
    "X Y Z <br>\n",
    "0 78 84 86<br>\n",
    "1 85 94 97<br>\n",
    "2 96 89 96<br>\n",
    "3 80 83 72<br>\n",
    "4 86 86 83"
   ]
  },
  {
   "cell_type": "code",
   "execution_count": null,
   "metadata": {},
   "outputs": [],
   "source": [
    "sample_dict = {'X ':[78,85,96,80,86], ' Y ':[84,94,89,83,86],'Z':[86,97,96,72,83]}\n",
    "df = pd.DataFrame.from_dict(sample_dict)\n",
    "print(df)"
   ]
  },
  {
   "cell_type": "markdown",
   "metadata": {},
   "source": [
    "**Q107.** Write the pandas program to get the first 3 rows of a given DataFrame? <br>\n",
    "Sample Python dictionary data and list labels:  <br>\n",
    "exam_data = {'name': ['Anastasia', 'Dima', 'Katherine', 'James', 'Emily', 'Michael',\n",
    "'Matthew', 'Laura', 'Kevin', 'Jonas'], <br>\n",
    "'score': [12.5, 9, 16.5, np.nan, 9, 20, 14.5, np.nan, 8, 19], <br>\n",
    "'attempts'- [1, 3, 2, 3, 2, 3, 1, 1, 2, 1 <br>\n",
    "'qualify'- [ 'yes', 'no', 'yes' , 'no', ' no ', ' yes ', 'yes', 'no', 'no', 'yes' ] } <br>\n",
    "labels = ['a', 'b', 'c', 'd', 'e', 'f', 'g', 'h', 'i', 'j' ] <br>\n",
    "**Expected Output:** First three rows of the data frame attempts name qualify score <br>\n",
    "a 1 Anastasia yes 12.5 <br>\n",
    "b 3 Dima no 9.0 <br>\n",
    "c 2 Katherine yes 16.5 <br>"
   ]
  },
  {
   "cell_type": "code",
   "execution_count": null,
   "metadata": {},
   "outputs": [],
   "source": [
    "exam_data = {'name':['Anastasia', 'Dima', 'Katherine', 'James', 'Emily', 'Michael', \n",
    "                      'Matthew', 'Laura', 'Kevin', 'Jonas'],\n",
    "             'score':[12.5, 9, 16.5, np.nan, 9, 20, 14.5, np.nan, 8, 19],\n",
    "             'attempts':[1, 3, 2, 3, 2, 3, 1, 1, 2, 1],\n",
    "              'qualify':['yes', 'no', 'yes' , 'no', 'no', ' yes ', 'yes', 'no', 'no','yes' ] }\n",
    "labels = ['a', 'b', 'c', 'd', 'e', 'f', 'g', 'h', 'i', 'j' ]\n",
    "exam_df = pd.DataFrame(exam_data, index=labels)\n",
    "exam_df[[\"attempts\",\"name\",\"qualify\",\"score\"]].head(3)"
   ]
  },
  {
   "cell_type": "markdown",
   "metadata": {},
   "source": [
    "**Q108:** Write the pandas program to select the specified columns and the rows from a given data frame? <br>\n",
    "Sample Python dictionary data and list labels:  <br>\n",
    "Select 'name' and 'score' columns in rows 1, 3, 5, 6 from the following data frame. <br>\n",
    "exam_data = {'name ': [ 'Anastasia', 'Dima', 'Katherine', 'James', 'Emily', 'Michael',\n",
    "'Matthew', 'Laura', 'Kevin', 'Jonas'], <br>\n",
    "'score'- [12.5, 9, 16.5, np.nan, 9, 20, 14.5, np.nan, 8, 19], <br>\n",
    "'attempts'- [1, 3, 2, 3, 2, 3, 1, 1, 2, 1], <br>\n",
    "'qualify'- ['yes', 'no', 'yes', 'no', 'no', 'yes', 'yes', 'no', 'no', 'yes'] } <br>\n",
    "labels = ['a ', ' b ', ' c ', ' d ', ' e ', ' f ', ' g ', 'h', 'i', 'j'] <br>\n",
    "**Expected Output:** <br>\n",
    "Select specific columns and rows:<br>\n",
    "  name score <br>\n",
    "b Dima 9.0 <br>\n",
    "d James NaN <br>\n",
    "f Michael 20.0 <br>\n",
    "g Matthew 14.5"
   ]
  },
  {
   "cell_type": "code",
   "execution_count": null,
   "metadata": {},
   "outputs": [],
   "source": [
    "exam_data = {'name': [ 'Anastasia', 'Dima', 'Katherine', 'James', 'Emily', 'Michael', 'Matthew', 'Laura', 'Kevin', 'Jonas'],\n",
    "'score':[12.5, 9, 16.5, np.nan, 9, 20, 14.5, np.nan, 8, 19],\n",
    "'attempts': [1, 3, 2, 3, 2, 3, 1, 1, 2, 1],\n",
    "'qualify':['yes', 'no', 'yes', 'no', 'no', 'yes', 'yes', 'no', 'no', 'yes'] }\n",
    "labels = ['a ', ' b ', ' c ', ' d ', ' e ', ' f ', ' g ', 'h', 'i', 'j']\n",
    "\n",
    "exam_df = pd.DataFrame(exam_data, index=labels)\n",
    "\n",
    "exam_df[[\"name\",\"score\"]].iloc[[1,3,5,6]]"
   ]
  },
  {
   "cell_type": "markdown",
   "metadata": {},
   "source": [
    "**Q109.** Write the pandas program to calculate mean score for each different student in DataFrame? <br>\n",
    "Sample Python dictionary data and list labels: <br>\n",
    "exam_data = {'name': ['Anastasia', 'Dima', 'Katherine', 'James', 'Emily', 'Michael',\n",
    "'Matthew', 'Laura', 'Kevin', 'Jonas'], <br>\n",
    "'score': [12.5, 9, 16.5, np.nan, 9, 20, 14.5, np.nan, 8, 19], <br>\n",
    "'attempts'- [1, 3, 2, 3, 2, 3, 1, 1, 2, 1], <br>\n",
    "'qualify'- ['yes', 'no', ' yes ', ' no ', ' no ', ' yes ', ' yes ', ' no ', ' no ', ' yes '] } <br>\n",
    "labels = ['a', 'b', 'c', 'd', 'e', 'f', 'g', 'h', 'i', 'j'] <br>\n",
    "**Expected Output:**  <br>\n",
    "Mean score for each different student in data frame: <br>\n",
    "13.5625"
   ]
  },
  {
   "cell_type": "code",
   "execution_count": null,
   "metadata": {},
   "outputs": [],
   "source": [
    "exam_data = {'name':['Anastasia', 'Dima', 'Katherine', 'James', 'Emily', 'Michael', 'Matthew', 'Laura', 'Kevin', 'Jonas'],\n",
    "            'score':[12.5, 9, 16.5, np.nan, 9, 20, 14.5, np.nan, 8, 19],\n",
    "            'attempts':[1, 3, 2, 3, 2, 3, 1, 1, 2, 1],\n",
    "            'qualify':['yes', 'no', ' yes ', ' no ', ' no ', ' yes ', ' yes ', ' no ', ' no ', ' yes '] }\n",
    "labels = ['a', 'b', 'c', 'd', 'e', 'f', 'g', 'h', 'i', 'j']\n",
    "\n",
    "exam_DataFrame = pd.DataFrame(exam_data,index=labels)\n",
    "print(\"Original DataFrame-->\\n\",exam_DataFrame)\n",
    "scoreMean = exam_DataFrame[\"score\"].mean(skipna = True)\n",
    "print(\"\\nMean Score for each diffrent student in data Frame-->\", scoreMean)"
   ]
  },
  {
   "cell_type": "markdown",
   "metadata": {},
   "source": [
    "**Q110.** Write the Pandas program to rename columns of a given DataFrame ? <br>\n",
    "Sample data: Original data frame <br>\n",
    "col1 col2 col3 <br>\n",
    "0 1 4 7 <br>\n",
    "1 2 5 8 <br>\n",
    "2 3 6 9 <br>\n",
    "New data frame after renaming columns: <br>\n",
    "Column1 Column2 Column3 <br>\n",
    "0 1 4 7 <br>\n",
    "1 2 5 8 <br>\n",
    "2 3 6 9"
   ]
  },
  {
   "cell_type": "code",
   "execution_count": null,
   "metadata": {},
   "outputs": [],
   "source": [
    "origData = np.array([[1,4,7],\n",
    "                         [2,5,8],\n",
    "                         [3,6,9]])\n",
    "origDataFrame = pd.DataFrame(origData,columns = ['col1','col2', 'col3'])\n",
    "print(\"Original Data Frame-->\\n\",origDataFrame)\n",
    "\n",
    "print(\"\\nNew Data Frame after renaming columns:\")\n",
    "print(origDataFrame.rename(columns={\"col1\":\"Column 1\",\"col2\":\"Column 2\",\"col3\":\"Column 3\"}))"
   ]
  },
  {
   "cell_type": "markdown",
   "metadata": {},
   "source": [
    "**Q111.** Write a pandas program to count city-wise number of people from a given of data set (city, name of the person)? <br>\n",
    "Sample Output: <br>\n",
    "city Number of people <br>\n",
    "0 California 4 <br>\n",
    "1 Georgia 2 <br>\n",
    "2 Los Angeles 4"
   ]
  },
  {
   "cell_type": "markdown",
   "metadata": {},
   "source": [
    "#### Not Completed"
   ]
  },
  {
   "cell_type": "code",
   "execution_count": null,
   "metadata": {},
   "outputs": [],
   "source": [
    "sampleArray = np.array([[\"California\",\"Liam\"],\n",
    "                       [\"Georgia\", \"Fiona\"],\n",
    "                        [\"Los Angeles\",\"Ivor\"],\n",
    "                        [\"Georgia\",\"Gary\"],\n",
    "                        [\"California\",\"Fiona\"],\n",
    "                        [\"Georgia\",\"Stevan\"],\n",
    "                        [\"Los Angeles\",\"Shauna\"],\n",
    "                        [\"California\", \"Harry\"],\n",
    "                        [\"California\",\"Charlie\"],\n",
    "                        [\"Los Angeles\", \"Tom Hanks\"]])\n",
    "sampleData = pd.DataFrame(sampleArray, columns = [\"City\", \"Name of person\"])     \n",
    "                                             \n",
    "print(sampleData)\n",
    "\n",
    "# Count city-wise number of people from a given data set\n",
    "sampleData.groupby([\"City\"]).agg(Number_of_People=('City','count'))\n",
    "\n"
   ]
  },
  {
   "cell_type": "markdown",
   "metadata": {},
   "source": [
    "**Q112.** Write a pandas program to widen output display to see more columns? <br>\n",
    "Sample data: Original data frame <br>\n",
    "col1 col2 col3 <br>\n",
    "0 1 4 7 <br>\n",
    "1 4 5 8 <br>\n",
    "2 3 6 9 <br>\n",
    "3 4 7 0 <br>\n",
    "4 5 8 1"
   ]
  },
  {
   "cell_type": "code",
   "execution_count": null,
   "metadata": {},
   "outputs": [],
   "source": [
    "import pandas as pd\n",
    "pd.set_option('display.max_rows', 500)\n",
    "pd.set_option('display.max_columns', 500)\n",
    "pd.set_option('display.width', 1000)\n",
    "# pd.set_option('display.expand_frame_repr', False)\n",
    "origArray = np.array([[1,4,7],\n",
    "                     [4,5,8],\n",
    "                     [3,6,9],\n",
    "                     [4,7,0],\n",
    "                     [5,8,1]])\n",
    "origDataFrame = pd.DataFrame(origArray, columns = ['col1','col2','col3'])\n",
    "print(origDataFrame)"
   ]
  },
  {
   "cell_type": "markdown",
   "metadata": {},
   "source": [
    "**Q113.** Write a pandas program to convert the data frame column type from string to DateTime? <br>\n",
    "Sample dataString Date- <br>\n",
    "0 3/11/2000 <br>\n",
    "1 3/12/2000 <br>\n",
    "2 3/13/2000 <br>\n",
    "dtype- object <br>\n",
    "Original DataFrame (string to datetime)- <br>\n",
    "\n",
    "0 2000-03-11  <br>\n",
    "1 2000-03-12 <br>\n",
    "2 2000-03-13"
   ]
  },
  {
   "cell_type": "code",
   "execution_count": null,
   "metadata": {},
   "outputs": [],
   "source": [
    " \n",
    "sampleData = pd.DataFrame([\"3/11/2000\",\"3/12/2000\",\"3/13/2000\"], columns = [\"Date\"])\n",
    "print(\"Original DataFrame-->\\n\",sampleData)\n",
    "\n",
    "\n",
    "print(\"\\nOriginal Data Frame-->\\n\",pd.to_datetime(sampleData[\"Date\"]))\n"
   ]
  },
  {
   "cell_type": "markdown",
   "metadata": {},
   "source": [
    "**Q114.** Write a pandas program to append the data to an empty DataFrame? <br>\n",
    "Sample data: <br>\n",
    "Original DataFrame- After appending some data: col1 col2 0 0 0 1 1 1 2 2 2"
   ]
  },
  {
   "cell_type": "code",
   "execution_count": null,
   "metadata": {},
   "outputs": [],
   "source": [
    "sampleData = pd.DataFrame([],columns = [\"col1\",\"col2\"])\n",
    "print(sampleData)\n",
    "\n",
    "print(\"DataFrame after appending some data\")\n",
    "sampleData.append(pd.DataFrame({\"col1\":[0,0,1,1,2],'col2':[0,1,1,2,2]}), ignore_index = True)"
   ]
  },
  {
   "cell_type": "markdown",
   "metadata": {},
   "source": [
    "**Q115.** Write a pandas program to count the number of columns of a DataFrame? <br>\n",
    "**Sample Output:** Original DataFrame <br>\n",
    "col1 col2 col3 <br>\n",
    "0 1 4 7 <br> \n",
    "1 2 5 8 <br>\n",
    "2 3 6 12 <br>\n",
    "3 4 9 1 <br>\n",
    "4 7 5 11 <br>\n",
    "Number of columns- 3"
   ]
  },
  {
   "cell_type": "code",
   "execution_count": null,
   "metadata": {},
   "outputs": [],
   "source": [
    "origArray = np.array([[1,4,7],[2,5,8],[3,6,12],[4,9,1],[7,5,11]])\n",
    "origData = pd.DataFrame(origArray, columns = ['col1','col2','col3'])\n",
    "print(\"Original DataFrame\\n\", origData)\n",
    "\n",
    "print(\"\\nnumber of columns-->\", len(origData.columns))"
   ]
  },
  {
   "cell_type": "markdown",
   "metadata": {},
   "source": [
    "**Q116.** Write a Pandas program to remove the last n rows of a given DataFrame ? <br>\n",
    "**Sample Output:** <br>\n",
    "Original DataFrame <br>\n",
    "col1 col2 col3 <br>\n",
    "0 1 4 7 <br>\n",
    "1 2 5 5 <br>\n",
    "2 3 6 8 <br>\n",
    "3 4 9 12 <br>\n",
    "4 7 5 1 <br>\n",
    "5 11 0 11 <br>\n",
    "After removing last 3 rows of the said DataFrame <br>\n",
    "col1 col2 col3 <br>\n",
    "0 1 4 7 <br>\n",
    "1 2 5 5 <br>\n",
    "2 3 6 8 \n"
   ]
  },
  {
   "cell_type": "code",
   "execution_count": null,
   "metadata": {},
   "outputs": [],
   "source": [
    "origData = np.array([[1,4,7],[2,5,5],[3,6,8],[4,9,12],[7,5,1],[11,0,11]])\n",
    "origDataFrame = pd.DataFrame(origData, columns = ['col1','col2','col3'])\n",
    "print(\"Original Data Frame\\n\", origDataFrame)\n",
    "\n",
    "n=3\n",
    "\n",
    "print(\"\\nAfter removing last 3 rows of the said Data Frame-->\")\n",
    "origDataFrame.drop(origDataFrame.tail(n).index,inplace=True)\n",
    "print(origDataFrame)"
   ]
  },
  {
   "cell_type": "markdown",
   "metadata": {},
   "source": [
    "Link for Datasets <br>\n",
    "(https://drive.google.com/drive/folders/105ftuIwN9kqyPNEEm3E6IM7LqywjyvJa?usp=sharing)"
   ]
  },
  {
   "cell_type": "markdown",
   "metadata": {},
   "source": [
    "**Q117.** Write a Pandas program to import excel data (coalpublic2013.xlsx) into a Pandas data frame."
   ]
  },
  {
   "cell_type": "code",
   "execution_count": null,
   "metadata": {},
   "outputs": [],
   "source": [
    "coalDataFrame = pd.read_excel(\"coalpublic2013.xlsx\")\n",
    "coalDataFrame.head()"
   ]
  },
  {
   "cell_type": "markdown",
   "metadata": {},
   "source": [
    "**Q118.** Write a Pandas program to import excel data (coalpublic2013.xlsx) into a data frame and find details where \"Mine Name\" starts with \"P."
   ]
  },
  {
   "cell_type": "code",
   "execution_count": null,
   "metadata": {},
   "outputs": [],
   "source": [
    "#startswith Tests if the start of each string element matches a pattern\n",
    "coalDataFrame[coalDataFrame[\"Mine_Name\"].str.startswith(\"P\")]"
   ]
  },
  {
   "cell_type": "markdown",
   "metadata": {},
   "source": [
    "**Q119.** Write a Pandas program to import excel data (employee.xlsx) into a Pandas dataframe and find the list of employees where hire_date> 01-01-07."
   ]
  },
  {
   "cell_type": "code",
   "execution_count": null,
   "metadata": {},
   "outputs": [],
   "source": [
    "empDataFrame = pd.read_excel(\"employee.xlsx\")\n",
    "empDataFrame.head()"
   ]
  },
  {
   "cell_type": "code",
   "execution_count": null,
   "metadata": {},
   "outputs": [],
   "source": [
    "empDataFrame.info()"
   ]
  },
  {
   "cell_type": "code",
   "execution_count": null,
   "metadata": {},
   "outputs": [],
   "source": [
    "#list of employees where hire_date> 01-01-07\n",
    "empDataFrame[empDataFrame[\"hire_date\"]>pd.to_datetime(\"01-01-07\")]"
   ]
  },
  {
   "cell_type": "markdown",
   "metadata": {},
   "source": [
    "**Q120.** Write a Pandas program to import excel data (employee.xlsx) into a Pandas dataframe and find a list of the employees of a specified year. "
   ]
  },
  {
   "cell_type": "code",
   "execution_count": null,
   "metadata": {},
   "outputs": [],
   "source": [
    "year = 2007  # employees to be found from the year\n",
    "# first find the unique year\n",
    "empDataFrame[\"JoinYear\"]= empDataFrame[\"hire_date\"].dt.year\n",
    "\n",
    "# empDataFrame.groupby(\"JoinYear\").count()\n",
    "\n",
    "empDataFrame[empDataFrame[\"JoinYear\"]==year]"
   ]
  },
  {
   "cell_type": "markdown",
   "metadata": {},
   "source": [
    "**Q121.** Write a pandas program to import three datasheets from a given excel data  (coalpublic2013.xlsx ) in to a single dataframe. <br>\n",
    "**Note:** Structure of three datasheets are same."
   ]
  },
  {
   "cell_type": "code",
   "execution_count": null,
   "metadata": {},
   "outputs": [],
   "source": [
    "coalPublicData = pd.read_excel(\"coalpublic2013.xlsx\",sheet_name = 'coalpublic2013')\n",
    "coalPublicData.head()"
   ]
  },
  {
   "cell_type": "markdown",
   "metadata": {},
   "source": [
    "**Q122.** Write a pandas program to import three datasheets from a given excel data (employee.xlsx ) into a single data frame and export the result into new Excel file. <br>\n",
    "**Note:** Structure of three datasheets are same."
   ]
  },
  {
   "cell_type": "code",
   "execution_count": null,
   "metadata": {},
   "outputs": [],
   "source": [
    "empDict = pd.ExcelFile(\"employee.xlsx\") # empData is a dictionary\n",
    "sheetNames = empDict.sheet_names   # get the sheet names\n",
    "\n",
    "empDataFrame = []\n",
    "for sheetname in sheetNames:\n",
    "    sheetData = pd.read_excel(empDict, sheet_name = sheetname)\n",
    "    sheetData[\"SheetName\"] = sheetname\n",
    "    empDataFrame.append(sheetData)\n",
    "    \n",
    "\n",
    "empDataFrameF = pd.concat(empDataFrame)\n",
    "empDataFrameF.tail()"
   ]
  },
  {
   "cell_type": "markdown",
   "metadata": {},
   "source": [
    "**Q123.** Write a pandas program to create the Pivot table with multiple indexes from the data set of the titanic.csv."
   ]
  },
  {
   "cell_type": "code",
   "execution_count": null,
   "metadata": {},
   "outputs": [],
   "source": [
    "titanicData = pd.read_csv(\"titanic.csv\")\n",
    "titanicData.head()"
   ]
  },
  {
   "cell_type": "code",
   "execution_count": null,
   "metadata": {},
   "outputs": [],
   "source": [
    "titanicData.drop([titanicData.columns[15]], axis = 'columns',inplace = True)"
   ]
  },
  {
   "cell_type": "code",
   "execution_count": null,
   "metadata": {},
   "outputs": [],
   "source": [
    "len(titanicData.columns)"
   ]
  },
  {
   "cell_type": "markdown",
   "metadata": {},
   "source": [
    "**Pivot Table:**  It is a summary of your data, packaged in a chart that lets you report on and explore trends based on your info."
   ]
  },
  {
   "cell_type": "markdown",
   "metadata": {},
   "source": [
    "pivot_table requires a data and an index parameter\n",
    "index is the feature that allows you to group your data. "
   ]
  },
  {
   "cell_type": "code",
   "execution_count": null,
   "metadata": {},
   "outputs": [],
   "source": [
    "# 'Sex' is used as the index\n",
    "pivotTable = pd.pivot_table(data=titanicData, index=['sex'])\n",
    "pivotTable"
   ]
  },
  {
   "cell_type": "markdown",
   "metadata": {},
   "source": [
    "**Q124.** Write a Pandas program to create the Pivot table and find survival rate by gender?"
   ]
  },
  {
   "cell_type": "code",
   "execution_count": null,
   "metadata": {},
   "outputs": [],
   "source": [
    "# 'sex' is used as the index\n",
    "pivotTable = pd.pivot_table(data=titanicData, index=['sex'])\n",
    "print(\"survival_Rate by gender\\n\", pivotTable[\"survived\"])"
   ]
  },
  {
   "cell_type": "markdown",
   "metadata": {},
   "source": [
    "**Q125.** Write a pandas program to make partition each of the passengers into 4 categories based on their age. <br>\n",
    "**Note:** Age categories- (0, 10), (10, 30), (30, 60), (60, 80)"
   ]
  },
  {
   "cell_type": "code",
   "execution_count": null,
   "metadata": {},
   "outputs": [],
   "source": [
    "bins = [0,10,30,60,80] \n",
    "names = [\"0-10\",\"10-30\",\"30-60\",\"60-80\"]\n",
    "titanicData[\"AgeCategory\"]=pd.cut(titanicData[\"age\"], bins,labels = names)\n",
    "titanicData.head()"
   ]
  },
  {
   "cell_type": "code",
   "execution_count": null,
   "metadata": {},
   "outputs": [],
   "source": [
    "print(titanicData.dtypes)"
   ]
  },
  {
   "cell_type": "markdown",
   "metadata": {},
   "source": [
    "**Q126.** Write a pandas program to create the Pivot table and find survival rate by the gender, age of the different categories of various classes."
   ]
  },
  {
   "cell_type": "code",
   "execution_count": null,
   "metadata": {},
   "outputs": [],
   "source": [
    "pivotTable1 = pd.pivot_table(data=titanicData, index=['sex','AgeCategory'])\n",
    "print(\"survival_Rate by gender\\n\", pivotTable1[\"survived\"])"
   ]
  },
  {
   "cell_type": "markdown",
   "metadata": {},
   "source": [
    "**Q127.** Write a pandas program to create the Pivot table and calculate number of women and men were in a particular cabin class."
   ]
  },
  {
   "cell_type": "code",
   "execution_count": null,
   "metadata": {},
   "outputs": [],
   "source": [
    "pivotTable2 = titanicData.pivot_table(index=['sex'],columns = [\"pclass\"], aggfunc=\"count\")\n",
    "pivotTable2\n",
    "# print(\"survival_Rate by gender\\n\", pivotTable1[\"survived\"])\n"
   ]
  },
  {
   "cell_type": "code",
   "execution_count": null,
   "metadata": {},
   "outputs": [],
   "source": [
    "pivotTable2 = titanicData[[\"sex\",\"pclass\",\"who\"]].pivot_table(index=['sex'],columns =[\"pclass\"], aggfunc=\"count\")\n",
    "pivotTable2\n",
    "# print(\"survival_Rate by gender\\n\", pivotTable1[\"survived\"])"
   ]
  },
  {
   "cell_type": "markdown",
   "metadata": {},
   "source": [
    "**Q128.** Write a pandas program to create the Pivot table and separate the gender according to whether they travelled alone or not, to get the probability of survival."
   ]
  },
  {
   "cell_type": "code",
   "execution_count": null,
   "metadata": {},
   "outputs": [],
   "source": [
    "pivotTable3 = titanicData.pivot_table(\"survived\", index=['sex', 'alone'],columns = 'pclass',aggfunc=\"count\")\n",
    "pivotTable3\n"
   ]
  },
  {
   "cell_type": "code",
   "execution_count": null,
   "metadata": {},
   "outputs": [],
   "source": [
    "Analysis: \n",
    "1. female survived who travelled alone in pclass 1 = 34\n",
    "2. "
   ]
  },
  {
   "cell_type": "markdown",
   "metadata": {},
   "source": [
    "**Q129.** Write a pandas program to create the Pivot table and find the probability of survival by class, gender, solo boarding, and the port of embarkation."
   ]
  },
  {
   "cell_type": "code",
   "execution_count": null,
   "metadata": {},
   "outputs": [],
   "source": [
    "pivotTable4 = titanicData.pivot_table(\"survived\",index=['pclass','sex'],columns=[\"alone\",\"embarked\"])\n",
    "pivotTable4"
   ]
  },
  {
   "cell_type": "markdown",
   "metadata": {},
   "source": []
  },
  {
   "cell_type": "code",
   "execution_count": null,
   "metadata": {},
   "outputs": [],
   "source": [
    "# import Ufo DataSet\n",
    "ufoDataFrame = pd.read_csv(\"ufo1.csv\", parse_dates = [\"Date_time\", 'date_documented'])"
   ]
  },
  {
   "cell_type": "code",
   "execution_count": null,
   "metadata": {},
   "outputs": [],
   "source": [
    "ufoDataFrame.columns"
   ]
  },
  {
   "cell_type": "code",
   "execution_count": null,
   "metadata": {},
   "outputs": [],
   "source": [
    "ufoDataFrame.tail()"
   ]
  },
  {
   "cell_type": "code",
   "execution_count": null,
   "metadata": {},
   "outputs": [],
   "source": [
    "ufoDataFrame.info()"
   ]
  },
  {
   "cell_type": "markdown",
   "metadata": {},
   "source": [
    "**Q130.** Write a pandas program to get current date, oldest date and number of days between Current date and the oldest date of Ufo dataset."
   ]
  },
  {
   "cell_type": "code",
   "execution_count": null,
   "metadata": {},
   "outputs": [],
   "source": [
    "import datetime as dt\n",
    "from datetime import date\n",
    "\n",
    "# get current date\n",
    "# today = dt.datetime.today().strftime('%m-%d-%Y') \n",
    "today = date.today()\n",
    "\n",
    "print(\"Current Date-->\",today)\n",
    "\n",
    "# oldest date in ufo Dataset\n",
    "date_sorted = ufoDataFrame.sort_values(\"Date_time\")\n",
    "old_date = date_sorted[\"Date_time\"].head(1).dt.date\n",
    "print(\"Oldest date of Ufo Dataset-->\", old_date.to_string(index = False))\n",
    "\n",
    "# number of days between current date and oldest date of UFO Dataset\n",
    "num_days = (today - old_date)\n",
    "print(\"number of days = \", num_days.to_string(index = False))\n",
    "\n",
    "# number of weeks between current date and oldest date\n",
    "num_weeks =num_days/np.timedelta64(1,'W')\n",
    "print(\"number of weeks = \", num_weeks.to_string(index = False))\n",
    "\n",
    "# number of months between current date and oldest date\n",
    "num_months =num_days/np.timedelta64(1,'M')\n",
    "print(\"number of months = \", num_months.to_string(index = False))"
   ]
  },
  {
   "cell_type": "markdown",
   "metadata": {},
   "source": [
    "**Q131.** Write a pandas program to get all sighting days of the unidentified flying object (ufo) between 1950-10-10 and 1960-10-10."
   ]
  },
  {
   "cell_type": "code",
   "execution_count": null,
   "metadata": {},
   "outputs": [],
   "source": [
    "sighting_days = ufoDataFrame[(ufoDataFrame['Date_time']>='1950-10-10 00:00:00') & (ufoDataFrame['Date_time']<= '1960-10-10 23:59:59')]\n",
    "print(\"all sighting days of the Ufo between 1950-10-10 and 1960-10-10-->\\n\", sighting_days)"
   ]
  },
  {
   "cell_type": "markdown",
   "metadata": {},
   "source": [
    "**Q132.** Write a Pandas program to extract the year, month, day, hour, minute, second, and weekday from unidentified flying object (UFO) reporting date."
   ]
  },
  {
   "cell_type": "code",
   "execution_count": null,
   "metadata": {},
   "outputs": [],
   "source": [
    "ufo_reporting_date = ufoDataFrame[\"Date_time\"].iloc[1]\n",
    "\n",
    "print(ufo_reporting_date)\n",
    "\n",
    "# extract the year\n",
    "\n",
    "print(\"Year-->\",ufo_reporting_date.year)\n",
    "\n",
    "# extract the month\n",
    "print(\"month-->\",ufo_reporting_date.month)\n",
    "\n",
    "# extract the day\n",
    "print(\"day-->\",ufo_reporting_date.day)\n",
    "\n",
    "# extract the hour\n",
    "print(\"hour-->\",ufo_reporting_date.hour)\n",
    "\n",
    "# extract the minute\n",
    "print(\"minute-->\",ufo_reporting_date.minute)\n",
    "\n",
    "# extract the second\n",
    "print(\"seconds-->\",ufo_reporting_date.second)\n",
    "\n",
    "# extract the weekday\n",
    "print(\"weekday-->\", ufo_reporting_date.day_name())"
   ]
  },
  {
   "cell_type": "markdown",
   "metadata": {},
   "source": [
    "**Q133.** Write a pandas program to count year-country wise frequency of reporting dates of the unidentified flying object(UFO)."
   ]
  },
  {
   "cell_type": "code",
   "execution_count": null,
   "metadata": {},
   "outputs": [],
   "source": [
    "# make a new column year in dataframe\n",
    "ufoDataFrame[\"year\"] = ufoDataFrame[\"Date_time\"].apply(lambda x: str(x.year))\n",
    "\n",
    "ufoDF = ufoDataFrame.groupby([\"state/province\",\"year\"]).size()  # size() function is used to get an \n",
    "                                                        #int representing the number of elements\n",
    "                                                        #in this object.\n",
    "print(\"count year-country wise frequency of reporting dates of the unidentified flying object(UFO) \\n\", ufoDF )"
   ]
  },
  {
   "cell_type": "markdown",
   "metadata": {},
   "source": [
    "**Q134.** Write a pandas program to get the difference (in days) between documented date and reporting date of unidentified flying object (UFO)."
   ]
  },
  {
   "cell_type": "code",
   "execution_count": null,
   "metadata": {},
   "outputs": [],
   "source": [
    "reporting_date = ufoDataFrame[\"Date_time\"].dt.date\n",
    "date_documented = ufoDataFrame[\"date_documented\"].dt.date\n",
    "num_days = (date_documented-reporting_date)\n",
    "print(\"\\nDifference (in days) between documented date and reporting date of UFO:\")\n",
    "print(num_days)\n",
    "\n",
    "# type(ufoDataFrame[\"date_documented\"].iloc[0])\n",
    "# type(reporting_date.iloc[1])\n",
    "\n",
    "# reporting_date.head()"
   ]
  },
  {
   "cell_type": "markdown",
   "metadata": {},
   "source": [
    "**Q135.** Write a pandas program to generate sequences of fixedfrequency dates and time spans."
   ]
  },
  {
   "cell_type": "code",
   "execution_count": null,
   "metadata": {},
   "outputs": [],
   "source": [
    "dt_frame = pd.date_range('2018-01-01', periods=8, freq='H')  #  after every hour\n",
    "dt_frame"
   ]
  },
  {
   "cell_type": "markdown",
   "metadata": {},
   "source": [
    "**Q136.** Write a pandas program to manipulate and convert date times with timezone information."
   ]
  },
  {
   "cell_type": "code",
   "execution_count": null,
   "metadata": {},
   "outputs": [],
   "source": [
    "dt_frame = dt_frame.tz_convert('UTC')\n",
    "print(\"UTC time zone\",dt_frame)\n"
   ]
  },
  {
   "cell_type": "markdown",
   "metadata": {},
   "source": [
    "**Q137.** Write a pandas program to create the graphical analysis of UFO (unidentified flying object) Sightings year."
   ]
  },
  {
   "cell_type": "code",
   "execution_count": null,
   "metadata": {},
   "outputs": [],
   "source": [
    "# number of ufo sightings per year\n",
    "\n",
    "ufoDF1 = ufoDataFrame.groupby([\"year\"]).count()  \n",
    "ufoDF1[\"Date_time\"].head() \n",
    "\n",
    "fig = plt.figure(figsize = (25,10))\n",
    "# ax = fig.add_axes([0,0,1,1])\n",
    "# ax.bar(languages,popularity, alpha = 0.9, color = 'b')\n",
    "\n",
    "\n",
    "ufoDF1[\"Date_time\"].plot(kind = 'bar', color = 'r')\n",
    "plt.title(\"UFO Sighting per year\")\n",
    "plt.xlabel(\"Year\")\n",
    "plt.ylabel(\"Number of sightings\")\n",
    "plt.show()\n"
   ]
  },
  {
   "cell_type": "markdown",
   "metadata": {},
   "source": [
    "**Q138.** Write a pandas program to create a comparison of the top 10 years in which the (UFO) was sighted VS each Month."
   ]
  },
  {
   "cell_type": "code",
   "execution_count": null,
   "metadata": {},
   "outputs": [],
   "source": [
    "# comparision of top 10 years in which UFO was sighted vs each month"
   ]
  },
  {
   "cell_type": "markdown",
   "metadata": {},
   "source": [
    "**Q139.** Write a pandas program to create a heatmap (rectangular data as a colour-encoded matrix) for comparison of top 10 years in which (UFO ) was sighted VS each Month."
   ]
  },
  {
   "cell_type": "code",
   "execution_count": null,
   "metadata": {},
   "outputs": [],
   "source": []
  },
  {
   "cell_type": "markdown",
   "metadata": {},
   "source": [
    "**Q140.** Write a pandas program to create a Timewheel of Hour VS Year comparison of the top 10 years in which the (UFO) was sighted."
   ]
  },
  {
   "cell_type": "code",
   "execution_count": null,
   "metadata": {},
   "outputs": [],
   "source": []
  },
  {
   "cell_type": "markdown",
   "metadata": {},
   "source": [
    "**Q141.** Write a python program to draw the line using given axis values with the suitable label in the x-axis, y-axis, and a title. <br>\n",
    "The code snippet gives the output shown in the screenshot:\n",
    "![alt text](Img1.jpg)"
   ]
  },
  {
   "cell_type": "code",
   "execution_count": null,
   "metadata": {},
   "outputs": [],
   "source": []
  },
  {
   "cell_type": "code",
   "execution_count": null,
   "metadata": {},
   "outputs": [],
   "source": []
  },
  {
   "cell_type": "markdown",
   "metadata": {},
   "source": [
    "**Q142.** Write a python program to draw the line charts of the financial data of the Alphabet Inc., between October. 3, 2016 to October 7 2016. <br>\n",
    "Sample Financial data (fdata.csv)- <br>\n",
    "Date,Open,High,Low,Close <br>\n",
    "10-03-16,774.25,776.065002,769.5,772.559998 <br>\n",
    "10-04-16 , 776.030029, 778.710022,772.890015,776.429993 <br>\n",
    "10-05-16 , 779.309998, 782.070007,775.650024,776.469971 <br>\n",
    "10-06-16 , 779 , 780.47998,775.539978,776.859985 <br>\n",
    "10-07-16,779.659973, 779.659973 , 770.75 , 775.080017 <br>\n",
    "The code snippet gives the output shown in the screenshot: ![alt text](Img2.jpg)"
   ]
  },
  {
   "cell_type": "code",
   "execution_count": null,
   "metadata": {},
   "outputs": [],
   "source": [
    "# step1: Creating \"fdata.csv\" file\n",
    "sampleArray = np.array([['10-03-16', 774.25, 776.065002, 769.5, 772.559998],\n",
    "                        ['10-04-16', 776.030029, 778.710022, 772.890015, 776.429993],\n",
    "                        ['10-05-16', 779.309998, 782.070007, 775.650024, 776.469971],\n",
    "                        ['10-06-16', 779 , 780.47998, 775.539978, 776.859985],\n",
    "                        ['10-07-16', 779.659973, 779.659973, 770.75, 775.080017]])\n",
    "sampleDataFrame = pd.DataFrame(sampleArray, columns = ['Date','Open','High','Low','Close'])\n",
    "sampleDataFrame.to_csv(r'fdata.csv', index = False)\n",
    "\n",
    "# step2: Reading \"fdata.csv\"\n",
    "fdata = pd.read_csv(\"fdata.csv\")\n",
    "fdata.head()\n"
   ]
  },
  {
   "cell_type": "markdown",
   "metadata": {},
   "source": [
    "Step 3: `line charts` of the financial data of the `Alphabet Inc.`, between October. 3, 2016 to October 7 2016."
   ]
  },
  {
   "cell_type": "code",
   "execution_count": null,
   "metadata": {},
   "outputs": [],
   "source": [
    "import matplotlib.pyplot as plt\n",
    "\n",
    "# gca stands for 'get current axis'\n",
    "ax = plt.gca()\n",
    "\n",
    "fdata.plot(kind='line',x='Date',y= ['Open','High','Low','Close'],ax=ax)\n",
    "# df.plot(kind='line',x='name',y='num_pets', color='red', ax=ax)\n",
    "\n",
    "plt.show()"
   ]
  },
  {
   "cell_type": "markdown",
   "metadata": {},
   "source": [
    "##### Plotly is built on top of d3.js and is specifically a charting library which can be used directly with Pandas dataframes, thanks to another library named `Cufflinks` ."
   ]
  },
  {
   "cell_type": "code",
   "execution_count": null,
   "metadata": {},
   "outputs": [],
   "source": [
    "#importing plotly and cufflinks in offline mode\n",
    "import cufflinks as cf\n",
    "import plotly.offline\n",
    "cf.go_offline()\n",
    "cf.set_config_file(offline=False, world_readable=True)\n",
    "\n",
    "fdata.iplot(kind=\"scatter\", theme=\"white\",x=\"Date\",y=['Open','High','Low','Close'],xTitle='Date',yTitle='Financial Data')\n",
    "\n",
    "# fdata[\"Date\"].iplot(kind=\"scatter\", theme=\"white\", title=\"Passenger's Ages\",xTitle='Ages', yTitle='Open')"
   ]
  },
  {
   "cell_type": "markdown",
   "metadata": {},
   "source": [
    "**Q143.** Write a Python program to plot two or more lines on same plot with the suitable legends of each line. <br>\n",
    "The code snippet gives the output shown in the screenshot: ![alt text](Img3.jpg)"
   ]
  },
  {
   "cell_type": "code",
   "execution_count": null,
   "metadata": {},
   "outputs": [],
   "source": []
  },
  {
   "cell_type": "markdown",
   "metadata": {},
   "source": [
    "**Q144.** Write a python programming to display a bar chart of the popularity of programming languages. <br>\n",
    "Sample data: <br>\n",
    "programming languages- Java, Python, PHP, JavaScript, C#, C++ <br>\n",
    "Popularity- 22.2, 17.6, 8.8, 8, 7.7 , 6.7 <br>\n",
    "The code snippet gives the output shown in the screenshot: ![alt text](Img4.jpg)"
   ]
  },
  {
   "cell_type": "code",
   "execution_count": null,
   "metadata": {},
   "outputs": [],
   "source": [
    "languages = np.array(['Java', 'Python', 'PHP', 'JavaScript', 'C#', 'C++'])\n",
    "popularity = np.array([22.2, 17.6, 8.8, 8, 7.7 , 6.7])\n",
    "\n",
    "fig = plt.figure(figsize = (5,3))\n",
    "ax = fig.add_axes([0,0,1,1])\n",
    "ax.bar(languages,popularity, alpha = 0.9, color = 'b')\n",
    "\n",
    "plt.minorticks_on()\n",
    "# plt.grid(which='major', linestyle='-', linewidth='0.5', color = 'red')\n",
    "plt.grid(which='minor', linestyle=':', linewidth='0.5')\n",
    "\n",
    "plt.xlabel('Programming Languages')\n",
    "plt.ylabel('Popularity')\n",
    "plt.title('Programming language popularity')\n",
    "\n",
    "plt.show()"
   ]
  },
  {
   "cell_type": "markdown",
   "metadata": {},
   "source": [
    "**Q145.** Write a python programming to display a horizontal bar chart of the popularity of programming languages. <br>\n",
    "Sample data: <br>\n",
    "programming languages- Java, Python, PHP, JavaScript, C#, C++ <br>\n",
    "Popularity- 22.2, 17.6, 8.8, 8, 7.7 , 6.7"
   ]
  },
  {
   "cell_type": "code",
   "execution_count": null,
   "metadata": {},
   "outputs": [],
   "source": [
    "languages = np.array(['Java', 'Python', 'PHP', 'JavaScript', 'C#', 'C++'])\n",
    "popularity = np.array([22.2, 17.6, 8.8, 8, 7.7 , 6.7])\n",
    "\n",
    "fig = plt.figure(figsize = (5,3))\n",
    "ax = fig.add_axes([0,0,1,1])\n",
    "ax.barh(languages,popularity, alpha = 0.8, color = 'g')\n",
    "\n",
    "plt.minorticks_on()\n",
    "plt.grid(which='major', linestyle='-', linewidth='0.5', color = 'red')\n",
    "plt.grid(which='minor', linestyle=':', linewidth='0.5')\n",
    "\n",
    "plt.xlabel('Programming Languages')\n",
    "plt.ylabel('Popularity')\n",
    "plt.title('Programming language popularity')\n",
    "\n",
    "plt.show()"
   ]
  },
  {
   "cell_type": "markdown",
   "metadata": {},
   "source": [
    "**Q146.** Write a python programming to display a bar chart of the Popularity of programming languages. Increase bottom margin. <br>\n",
    "Sample data: <br>\n",
    "programming languages: Java, Python, PHP, JavaScript, C#, C++ <br>\n",
    "Popularity: 22.2, 17.6, 8.8, 8, 7.7 , 6.7 "
   ]
  },
  {
   "cell_type": "code",
   "execution_count": null,
   "metadata": {},
   "outputs": [],
   "source": [
    "languages = np.array(['Java', 'Python', 'PHP', 'JavaScript', 'C#', 'C++'])\n",
    "popularity = np.array([22.2, 17.6, 8.8, 8, 7.7 , 6.7])\n",
    "\n",
    "fig = plt.figure(figsize = (5,3))\n",
    "ax = fig.add_axes([0,0,1,1])\n",
    "ax.bar(languages,popularity, alpha = 0.5, color = 'b')\n",
    "\n",
    "plt.minorticks_on()\n",
    "plt.grid(which='major', linestyle='-', linewidth='0.5', color = 'red')\n",
    "plt.grid(which='minor', linestyle=':', linewidth='0.5')\n",
    "\n",
    "plt.xlabel('Programming Languages')\n",
    "plt.ylabel('Popularity')\n",
    "plt.title('Programming language popularity')\n",
    "\n",
    "plt.show()"
   ]
  },
  {
   "cell_type": "markdown",
   "metadata": {},
   "source": [
    "**Q147.** Write a python program to create the bar plot from a DataFrame. <br>\n",
    "a b c d e <br>\n",
    "2 4,8,5,7,6 <br>\n",
    "4 2,3,4,2,6 <br>\n",
    "6 4,7,4,7, 8 <br>\n",
    "8 2,6,4,8, 6 <br>\n",
    "10 2,4,3,3, 2 <br>"
   ]
  },
  {
   "cell_type": "code",
   "execution_count": null,
   "metadata": {},
   "outputs": [],
   "source": [
    "arr1 = np.array([[4,8,5,7,6],\n",
    "                 [2,3,4,2,6],\n",
    "                 [4,7,4,7,8],\n",
    "                 [2,6,4,8,6],\n",
    "                 [2,4,3,3,2]])\n",
    "data = pd.DataFrame(arr1, columns = ['a','b','c','d','e'], index = [2,4,6,8,10])\n",
    "\n",
    "data.plot(kind = 'bar')\n",
    "\n",
    "plt.minorticks_on()\n",
    "plt.grid(which='major', linestyle='-', linewidth='0.5')\n",
    "plt.grid(which='minor', linestyle=':', linewidth='0.5')\n",
    "plt.show()\n"
   ]
  },
  {
   "cell_type": "markdown",
   "metadata": {},
   "source": [
    "**Q148.** Write a python program to draw the scatter plot comparing two subject marks of Mathematics and Science. Use marks of 10 students. <br>\n",
    "Sample data: <br>\n",
    "Test Datamath_marks = [88, 92 , 80, 89, 100, 80, 60, 100, 80, 34] <br>\n",
    "science_marks = [35, 79, 79 , 48, 100, 88, 32, 45, 20, 30] <br>\n",
    "marks_range = [10, 20, 30, 40, 50, 60, 70, 80, 90, 100]"
   ]
  },
  {
   "cell_type": "code",
   "execution_count": null,
   "metadata": {},
   "outputs": [],
   "source": [
    "plt.style.use('classic')\n",
    "\n",
    "math_marks = [88, 92 , 80, 89, 100, 80, 60, 100, 80, 34]\n",
    "science_marks = [35, 79, 79 , 48, 100, 88, 32, 45, 20, 30]\n",
    "marks_range = [10, 20, 30, 40, 50, 60, 70, 80, 90, 100]\n",
    "\n",
    "plt.scatter(marks_range, math_marks,c = 'r', label = 'Maths Marks')\n",
    "plt.scatter(marks_range, science_marks, c = 'b',label = 'Science Marks')\n",
    "\n",
    "plt.xlabel('Marks Range', fontsize=16)\n",
    "plt.ylabel('Marks Scored', fontsize=16)\n",
    "plt.title('scatter plot',fontsize=20)\n",
    "plt.legend(loc = 'upper right')\n",
    "plt.show()\n"
   ]
  },
  {
   "cell_type": "markdown",
   "metadata": {},
   "source": [
    "**Q149.** Write a python program to draw the scatter plot for three different groups comparing weights and heights. "
   ]
  },
  {
   "cell_type": "code",
   "execution_count": null,
   "metadata": {},
   "outputs": [],
   "source": [
    "weight1 = np.array([[67,57.2,59.6,59.64,55.8,61.2,60.45,61,56.23,56]])\n",
    "height1 = [101.7,197.6,98.3,125.1,113.7,157.7,136,148.9,125.3,114.9] \n",
    "weight2 = np.array([[61.9,64,62.1,64.2,62.3,65.4,62.4,61.4,62.5,63.6]])\n",
    "height2 = [152.8,155.3,135.1,125.2,151.3,135,182.2,195.9,165.1,125.1] \n",
    "weight3 = np.array([[68.2,67.2,68.4,68.7,71,71.3,70.8,70,71.1,71.7]])\n",
    "height3 = [165.8,170.9,192.8,135.4,161.4,136.1,167.1,235.1,181.1,177.3]\n",
    "\n",
    "fig, ax = plt.subplots()\n",
    "ax.scatter(weight1, height1, c = 'b')\n",
    "ax.scatter(weight2, height2, c = 'g')\n",
    "ax.scatter(weight3, height3, c = 'r')\n",
    "\n",
    "plt.xlabel('weight', fontsize=16)\n",
    "plt.ylabel('height', fontsize=16)\n",
    "plt.title('scatter plot - height vs weight',fontsize=20)\n",
    "# plt.show()"
   ]
  },
  {
   "cell_type": "markdown",
   "metadata": {},
   "source": [
    "**Q150.** Write a python program to draw a scatter plot to find sea-level rise in past 100 years."
   ]
  },
  {
   "cell_type": "markdown",
   "metadata": {},
   "source": [
    "[https://github.com/datasets/sea-level-rise].\n",
    "This data contains \"cumulative changes in sea level for the world’s oceans since 1880, based on a combination of long-term tide gauge measurements and recent satellite measurements. It shows average absolute sea level change, which refers to the height of the ocean surface, regardless of whether nearby land is rising or falling. Satellite data are based solely on measured sea level, while the long-term tide gauge data include a small correction factor because the size and shape of the oceans are changing slowly over time. (On average, the ocean floor has been gradually sinking since the last Ice Age peak, 20,000 years ago.)\""
   ]
  },
  {
   "cell_type": "code",
   "execution_count": null,
   "metadata": {},
   "outputs": [],
   "source": [
    "sea_level = pd.read_csv(\"sealevel.csv\")\n",
    "sea_level.dropna(how = \"all\").to_csv(\"sea_level1.csv\")"
   ]
  },
  {
   "cell_type": "code",
   "execution_count": null,
   "metadata": {},
   "outputs": [],
   "source": [
    "sea_level = pd.read_csv(\"sea_level1.csv\")\n",
    "sea_level.drop(columns = [\"Unnamed: 0\"], axis = 1, inplace = True)\n",
    "sea_level.head()"
   ]
  },
  {
   "cell_type": "code",
   "execution_count": null,
   "metadata": {},
   "outputs": [],
   "source": [
    "plt.scatter(sea_level['Year'], sea_level['CSIRO Adjusted Sea Level'],edgecolors='r', alpha=0.5)\n",
    "plt.xlabel('Year')\n",
    "plt.ylabel('Sea Level (inches)')\n",
    "plt.title('Rise in Sea level')\n",
    "plt.show()"
   ]
  },
  {
   "cell_type": "code",
   "execution_count": null,
   "metadata": {},
   "outputs": [],
   "source": []
  }
 ],
 "metadata": {
  "kernelspec": {
   "display_name": "Python 3",
   "language": "python",
   "name": "python3"
  },
  "language_info": {
   "codemirror_mode": {
    "name": "ipython",
    "version": 3
   },
   "file_extension": ".py",
   "mimetype": "text/x-python",
   "name": "python",
   "nbconvert_exporter": "python",
   "pygments_lexer": "ipython3",
   "version": "3.7.6"
  }
 },
 "nbformat": 4,
 "nbformat_minor": 4
}
