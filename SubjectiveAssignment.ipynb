{
 "cells": [
  {
   "cell_type": "markdown",
   "metadata": {},
   "source": [
    "**PYTHON** - Practice Subjective"
   ]
  },
  {
   "cell_type": "markdown",
   "metadata": {},
   "source": [
    "**Q1.** Write a Python program to get the string from the given string where all the occurrence of its first char has been changed to \"$,\" except first char itself? <br>\n",
    "**Sample String:** 'prospect' <br>\n",
    "Expected Result : 'pros$ect'"
   ]
  },
  {
   "cell_type": "code",
   "execution_count": null,
   "metadata": {},
   "outputs": [],
   "source": []
  },
  {
   "cell_type": "markdown",
   "metadata": {},
   "source": [
    "**Q2.** Write a Python program to get the single string from the two given strings, and separated by the space and swap the first two characters of each string? <br>\n",
    "**Sample String :** 'abc', 'xyz'. <br>\n",
    "**Expected Result:** 'xyc abz'"
   ]
  },
  {
   "cell_type": "code",
   "execution_count": null,
   "metadata": {},
   "outputs": [],
   "source": []
  },
  {
   "cell_type": "markdown",
   "metadata": {},
   "source": [
    "**Q3.** Write the Python program to add 'ing' at the end of the given string (length of the string should be at least 3). If given string already ends with 'ing,' then add 'ly' instead. If string length of the given string is less than 3, leave it unchanged? <br>\n",
    "**Sample string:** ' abc ' <br>\n",
    "**Expected result:** ' abcing ' <br>\n",
    "**Sample string:** ' string ' <br>\n",
    "**Expected result:** ' stringly '"
   ]
  },
  {
   "cell_type": "code",
   "execution_count": null,
   "metadata": {},
   "outputs": [],
   "source": []
  },
  {
   "cell_type": "markdown",
   "metadata": {},
   "source": [
    "**Q4.** Write the Python program to find the first appearance of the substring 'not' and 'poor' from the given string, if 'not' follows the 'poor', replace the whole 'not'...' poor' substring with 'good'.Return the resulting string. <br>\n",
    "**Sample string:** 'The lyrics are not that poor!' 'The lyrics are poor!' <br>\n",
    "**Expected Result:** 'The lyrics are good!' 'The lyrics are poor!'"
   ]
  },
  {
   "cell_type": "code",
   "execution_count": null,
   "metadata": {},
   "outputs": [],
   "source": []
  },
  {
   "cell_type": "markdown",
   "metadata": {},
   "source": [
    "**Q5.** Write the Python program to remove the characters which have odd index values of a given string."
   ]
  },
  {
   "cell_type": "code",
   "execution_count": null,
   "metadata": {},
   "outputs": [],
   "source": []
  },
  {
   "cell_type": "markdown",
   "metadata": {},
   "source": [
    "**Q6.** Write the Python function to get a string made of 4 copies of the last two characters of the specified string (length must be at least 2). <br>\n",
    "**Sample function and result :** <br>\n",
    "insert-end ('Python') -> abababab <br>\n",
    "insert-end('Exercises') -> jkjkjkjk"
   ]
  },
  {
   "cell_type": "code",
   "execution_count": null,
   "metadata": {},
   "outputs": [],
   "source": []
  },
  {
   "cell_type": "markdown",
   "metadata": {},
   "source": [
    "**Q7.** Write the python function to get a string made of its first three characters of a specified string. If the length of the string is less than 3 then return the original string. <br>\n",
    "**Sample function and result :** <br>\n",
    "first-three('ipy') -> ipy <br>\n",
    "first-three('python') -> pyt"
   ]
  },
  {
   "cell_type": "code",
   "execution_count": null,
   "metadata": {},
   "outputs": [],
   "source": []
  },
  {
   "cell_type": "markdown",
   "metadata": {},
   "source": [
    "**Q8.** Write the python program to print the following floating numbers up to 2 decimal places?"
   ]
  },
  {
   "cell_type": "code",
   "execution_count": null,
   "metadata": {},
   "outputs": [],
   "source": []
  },
  {
   "cell_type": "markdown",
   "metadata": {},
   "source": [
    "**Q9.** Write the Python program to format a number with a percentage?"
   ]
  },
  {
   "cell_type": "code",
   "execution_count": null,
   "metadata": {},
   "outputs": [],
   "source": []
  },
  {
   "cell_type": "markdown",
   "metadata": {},
   "source": [
    "**Q10.** Write the Python program to count occurrences of a substring in a String?"
   ]
  },
  {
   "cell_type": "code",
   "execution_count": null,
   "metadata": {},
   "outputs": [],
   "source": []
  },
  {
   "cell_type": "markdown",
   "metadata": {},
   "source": [
    "**Q11.** Write the Python program to count repeated characters in a string. <br>\n",
    "**Sample string:** ' thequickbrownjumpsoverthelazydog ' <br>\n",
    "**Expected output:** <br>\n",
    "o 3 <br>\n",
    "e 3 <br>\n",
    "u 2 <br>\n",
    "h 2 <br>\n",
    "r 2 <br>\n",
    "t 2"
   ]
  },
  {
   "cell_type": "code",
   "execution_count": null,
   "metadata": {},
   "outputs": [],
   "source": []
  },
  {
   "cell_type": "markdown",
   "metadata": {},
   "source": [
    "**Q12.** Write the Python program to print the square and cube symbol in the area of a rectangle and volume of a cylinder? <br>\n",
    "**Sample output:** <br> The area of the rectangle is 1256.66cm2 <br>\n",
    "The volume of the cylinder is 1254.725cm3"
   ]
  },
  {
   "cell_type": "code",
   "execution_count": null,
   "metadata": {},
   "outputs": [],
   "source": []
  },
  {
   "cell_type": "markdown",
   "metadata": {},
   "source": [
    "**Q13.** Write the Python program to check if a string contains all letters of the alphabet?"
   ]
  },
  {
   "cell_type": "code",
   "execution_count": null,
   "metadata": {},
   "outputs": [],
   "source": []
  },
  {
   "cell_type": "markdown",
   "metadata": {},
   "source": [
    "**Q14.** Write the Python program to find the second most repeated word in a given string?"
   ]
  },
  {
   "cell_type": "code",
   "execution_count": null,
   "metadata": {},
   "outputs": [],
   "source": []
  },
  {
   "cell_type": "markdown",
   "metadata": {},
   "source": [
    "**Q15.** Write the Python program to find the minimum window in the given string, which will contains all the characters of another given strings? <br>\n",
    "**Example 1** <br>\n",
    "Input : string1 = \" PRWSOERIUSFK \" <br>\n",
    "string2 = \" OSU \" <br>\n",
    "Output: Minimum window is \"OERIUS\""
   ]
  },
  {
   "cell_type": "code",
   "execution_count": null,
   "metadata": {},
   "outputs": [],
   "source": []
  },
  {
   "cell_type": "markdown",
   "metadata": {},
   "source": [
    "**Q16.** Write the Python program to find smallest window that contains all characters of the given string? <br>\n",
    "**Original Strings:**\n",
    "asdaewsqgtwwsa <br>\n",
    "**Smallest window that contains all characters of the said string:**\n",
    "Daewsqgt"
   ]
  },
  {
   "cell_type": "code",
   "execution_count": null,
   "metadata": {},
   "outputs": [],
   "source": []
  },
  {
   "cell_type": "markdown",
   "metadata": {},
   "source": [
    "**Q17.** Write the Python program to count number of substrings from a given string of lowercase alphabets with exactly k distinct (given) characters? <br>\n",
    "**Input a string (lowercase alphabets):** wolf <br>\n",
    "**Input k:** 4 <br>\n",
    "**Number of substrings with exactly 4 distinct characters:** 1"
   ]
  },
  {
   "cell_type": "code",
   "execution_count": null,
   "metadata": {},
   "outputs": [],
   "source": []
  },
  {
   "cell_type": "markdown",
   "metadata": {},
   "source": [
    "**Q18.** Write the Python program to count number of non-empty substrings of the given string? <br>\n",
    "Input a string: w3resource <br>\n",
    "Number of substrings: <br>\n",
    "55"
   ]
  },
  {
   "cell_type": "code",
   "execution_count": null,
   "metadata": {},
   "outputs": [],
   "source": []
  },
  {
   "cell_type": "markdown",
   "metadata": {},
   "source": [
    "**Q19.** Write the Python program to count number of substrings with same first and last characters of the given string? <br>\n",
    "**Input a string:** abcd <br>\n",
    "4"
   ]
  },
  {
   "cell_type": "code",
   "execution_count": null,
   "metadata": {},
   "outputs": [],
   "source": []
  },
  {
   "cell_type": "markdown",
   "metadata": {},
   "source": [
    "**Q20.** Write the Python program to count the number of strings where the string length is 2 or more, and first and last character are same from a given list of strings. <br>\n",
    "**Sample List:** ['abc', 'xyz', 'wxw', '1331'] <br>\n",
    "**Expected Result:** 2"
   ]
  },
  {
   "cell_type": "code",
   "execution_count": null,
   "metadata": {},
   "outputs": [],
   "source": []
  },
  {
   "cell_type": "markdown",
   "metadata": {},
   "source": [
    "**Q21.** Write the Python program to get a list, sorted in increasing order by the last element in each tuple from the given list of non-empty tuples? <br>\n",
    "**Sample List-** [ (2, 5), (1, 2), (4, 4), (2, 3), (2, 1) ]\n",
    "**Expected Result-** [ (2, 1), (1, 2), (2, 3), (4, 4), (2, 5) ]"
   ]
  },
  {
   "cell_type": "code",
   "execution_count": null,
   "metadata": {},
   "outputs": [],
   "source": []
  },
  {
   "cell_type": "markdown",
   "metadata": {},
   "source": [
    "**Q22.** Write the Python program to remove duplicates from a list?"
   ]
  },
  {
   "cell_type": "code",
   "execution_count": null,
   "metadata": {},
   "outputs": [],
   "source": []
  },
  {
   "cell_type": "markdown",
   "metadata": {},
   "source": [
    "**Q23.** Write the Python program to find the list of words that are longer than n from a given list of words?"
   ]
  },
  {
   "cell_type": "code",
   "execution_count": null,
   "metadata": {},
   "outputs": [],
   "source": []
  },
  {
   "cell_type": "markdown",
   "metadata": {},
   "source": [
    "**Q24.** Write the Python program to print a specified list after removing the 0th, 4th, and 5th elements? <br>\n",
    "**Sample List-** ['Red', 'Green', 'White', 'Black', 'Pink', 'Yellow'] <br>\n",
    "**Expected Output-** ['Green', 'White', 'Black']"
   ]
  },
  {
   "cell_type": "code",
   "execution_count": null,
   "metadata": {},
   "outputs": [],
   "source": []
  },
  {
   "cell_type": "markdown",
   "metadata": {},
   "source": [
    "**Q25.** Write the Python program to generate all permutations of a list in Python?"
   ]
  },
  {
   "cell_type": "code",
   "execution_count": null,
   "metadata": {},
   "outputs": [],
   "source": []
  },
  {
   "cell_type": "markdown",
   "metadata": {},
   "source": [
    "**Q26.** Write the Python program to convert a pair of values into a sorted unique array? <br>\n",
    "**Original List-** [ (1, 2), (3, 4), (1, 2), (5, 6), (7, 8), (1, 2), (3, 4), (3, 4), (7, 8), (9, 10) ] <br>\n",
    "**Sorted Unique Data-** [ 1, 2, 3, 4, 5, 6, 7, 8, 9, 10 ]"
   ]
  },
  {
   "cell_type": "code",
   "execution_count": null,
   "metadata": {},
   "outputs": [],
   "source": []
  },
  {
   "cell_type": "markdown",
   "metadata": {},
   "source": [
    "**Q27.** Write the Python class to convert an integer to a roman numeral?"
   ]
  },
  {
   "cell_type": "code",
   "execution_count": null,
   "metadata": {},
   "outputs": [],
   "source": []
  },
  {
   "cell_type": "markdown",
   "metadata": {},
   "source": [
    "**Q28.** Write the Python class to convert a Roman numeral to an integer?"
   ]
  },
  {
   "cell_type": "code",
   "execution_count": null,
   "metadata": {},
   "outputs": [],
   "source": []
  },
  {
   "cell_type": "markdown",
   "metadata": {},
   "source": [
    "**Q29.** Write the Python class to find the validity of the string of the parentheses, '(', ')', '{', '}', '[' and '] and the brackets must be closed in the correct order, example - \"()\" and \"()[]{}\" are valid but \"[)\", \"({[)]\" and \"{{{\" are invalid."
   ]
  },
  {
   "cell_type": "code",
   "execution_count": null,
   "metadata": {},
   "outputs": [],
   "source": []
  },
  {
   "cell_type": "markdown",
   "metadata": {},
   "source": [
    "**Q30.** Write the Python class to get all possible unique subsets from a set of distinct integers? <br>\n",
    "**Input-** [4, 5, 6] <br>\n",
    "**Output-** [[], [6], [5], [5, 6], [4], [4, 6], [4, 5], [4, 5, 6]]"
   ]
  },
  {
   "cell_type": "code",
   "execution_count": null,
   "metadata": {},
   "outputs": [],
   "source": []
  },
  {
   "cell_type": "markdown",
   "metadata": {},
   "source": [
    "Q31. Write the Python class to find a pair of elements (indices of the two numbers) from a given array whose sum equals the specific target number? <br>\n",
    "**Input:** numbers- [10,20,10,40,50,60,70], target=50 <br>\n",
    "**Output-** 3, 4"
   ]
  },
  {
   "cell_type": "code",
   "execution_count": null,
   "metadata": {},
   "outputs": [],
   "source": []
  },
  {
   "cell_type": "markdown",
   "metadata": {},
   "source": [
    "Q32. Write the Python class to find the three elements that sum to zero from the set of n real numbers? <br>\n",
    "**Input array-** [-25, -10, -7, -3, 2, 4, 8, 10] <br>\n",
    "**Output-** [[-10, 2, 8], [-7, -3, 10]]"
   ]
  },
  {
   "cell_type": "markdown",
   "metadata": {},
   "source": [
    "**Q33.** Write the Python class to implement pow(x, n)?"
   ]
  },
  {
   "cell_type": "code",
   "execution_count": null,
   "metadata": {},
   "outputs": [],
   "source": []
  },
  {
   "cell_type": "markdown",
   "metadata": {},
   "source": [
    "**Q34.** Write the Python class which has two methods get_String and print_String. get_String accept the string from the user and print_String print the string in upper case."
   ]
  },
  {
   "cell_type": "code",
   "execution_count": null,
   "metadata": {},
   "outputs": [],
   "source": []
  },
  {
   "cell_type": "markdown",
   "metadata": {},
   "source": [
    "**Q35.** Write the Python class named Rectangle constructed by a and width and the method which will compute the area of the rectangle?"
   ]
  },
  {
   "cell_type": "code",
   "execution_count": null,
   "metadata": {},
   "outputs": [],
   "source": []
  },
  {
   "cell_type": "markdown",
   "metadata": {},
   "source": [
    "**Q36.** Write the Python class named Circle constructed by the radius and two methods which will compute the area and perimeter of the circle?"
   ]
  },
  {
   "cell_type": "code",
   "execution_count": null,
   "metadata": {},
   "outputs": [],
   "source": []
  },
  {
   "cell_type": "markdown",
   "metadata": {},
   "source": [
    "**Q37.** Write the Python program to get the class name of an instance in Python?"
   ]
  },
  {
   "cell_type": "code",
   "execution_count": null,
   "metadata": {},
   "outputs": [],
   "source": []
  },
  {
   "cell_type": "markdown",
   "metadata": {},
   "source": [
    "**Q38.** Write the Python program to count the number of students of individual class? <br>\n",
    "**Sample data classes** = ( ('V', 1), ('VI', 1), ('V', 2), ('VI', 2), ('VI', 3), ('VII', 1),)<br>\n",
    "**Expected Output:** Counter({'VI': 3, 'V': 2, 'VII': 1})"
   ]
  },
  {
   "cell_type": "code",
   "execution_count": null,
   "metadata": {},
   "outputs": [],
   "source": []
  },
  {
   "cell_type": "markdown",
   "metadata": {},
   "source": [
    "**Q39.** Write the Python program to create an instance of an OrderedDict using the given dictionary and sort dictionary during the creation and print members of the dictionary in reverse order?<br>\n",
    "**Expected Output:** <br>\n",
    "Angola 244. <br>\n",
    "Andorra 376.<br>\n",
    "Algeria 213.<br>\n",
    "Afghanistan 93.<br>\n",
    "Albania 355.<br>\n",
    "**In reverse order:**<br>\n",
    "Albania 355.<br>\n",
    "Afghanistan 93. <br>\n",
    "Algeria 213. <br>\n",
    "Andorra 376.<br>\n",
    "Angola 244."
   ]
  },
  {
   "cell_type": "code",
   "execution_count": null,
   "metadata": {},
   "outputs": [],
   "source": []
  },
  {
   "cell_type": "markdown",
   "metadata": {},
   "source": [
    "**Q40.** Write the Python program to compare two unordered lists (not sets)?<br>\n",
    "**Expected Output:** False"
   ]
  },
  {
   "cell_type": "code",
   "execution_count": null,
   "metadata": {},
   "outputs": [],
   "source": []
  },
  {
   "cell_type": "markdown",
   "metadata": {},
   "source": [
    "**Q41.** Write the Python program to get an array buffer information? <br>\n",
    "**Expected Output:** Array buffer start address in memory and number of elements. <br>\n",
    "(25855056, 2)"
   ]
  },
  {
   "cell_type": "code",
   "execution_count": null,
   "metadata": {},
   "outputs": [],
   "source": []
  },
  {
   "cell_type": "markdown",
   "metadata": {},
   "source": [
    "**Q42.** Write the Python program to convert an array to an array of machine values and return the bytes representation? <br>\n",
    "Expected Output: Original arrayA1: array('i', [1, 2, 3, 4, 5, 6]) <br>\n",
    "Array of bytes: <br>\n",
    "b'010000000200000003000000040000000500000006000000' "
   ]
  },
  {
   "cell_type": "code",
   "execution_count": null,
   "metadata": {},
   "outputs": [],
   "source": []
  },
  {
   "cell_type": "markdown",
   "metadata": {},
   "source": [
    "**Q43.** Write the Python program to read a string and interpreting the string as an array of machine values? <br>\n",
    "**Expected Output:** array1- array('i', [7, 8, 9, 10]) <br>\n",
    "Bytes- b'0700000008000000090000000a000000' <br>\n",
    "array2- array('i', [7, 8, 9, 10]) <br>"
   ]
  },
  {
   "cell_type": "code",
   "execution_count": null,
   "metadata": {},
   "outputs": [],
   "source": []
  },
  {
   "cell_type": "markdown",
   "metadata": {},
   "source": [
    "**Q44.** Write the Python program to push three items into the heap and return the smallest item from the heap. Also, return and pop the smallest item from the heap? <br>\n",
    "**Expected Output:** Items in the heap- ('VI', 1). ('VII', 3). ('VIII', 2). <br>\n",
    "The smallest item in the heap: <br>\n",
    "('VI', 1).<br>\n",
    "Pop the smallest item in the heap:<br>\n",
    "('VII', 2).<br>\n",
    "('VIII', 3)."
   ]
  },
  {
   "cell_type": "code",
   "execution_count": null,
   "metadata": {},
   "outputs": [],
   "source": []
  },
  {
   "cell_type": "markdown",
   "metadata": {},
   "source": [
    "**Q45.** Write the Python program to locate the left insertion point for a specified value in sorted order? <br>\n",
    "**Expected Output:** <br>\n",
    "4 2"
   ]
  },
  {
   "cell_type": "code",
   "execution_count": null,
   "metadata": {},
   "outputs": [],
   "source": []
  },
  {
   "cell_type": "markdown",
   "metadata": {},
   "source": [
    "**Q46.** Write the Python program to create the FIFO queue? <br>\n",
    "**Expected Output:** <br>\n",
    "0 1 2 3"
   ]
  },
  {
   "cell_type": "code",
   "execution_count": null,
   "metadata": {},
   "outputs": [],
   "source": []
  },
  {
   "cell_type": "markdown",
   "metadata": {},
   "source": [
    "**Q47.** Write the Python program to calculate the harmonic sum of n-1. <br>\n",
    "**Note:** The harmonic sum is the sum of reciprocals of the positive Integers? <br>\n",
    "Example -"
   ]
  },
  {
   "cell_type": "code",
   "execution_count": null,
   "metadata": {},
   "outputs": [],
   "source": []
  },
  {
   "cell_type": "markdown",
   "metadata": {},
   "source": [
    "**Q48.** Write the NumPy program to create a 2d array with 6 on the border and 0 inside? <br>\n",
    "**Expected Output :** Original array- <br>\n",
    "[ [6 6 6 6 6] <br>\n",
    "[ 6 6 6 6 6] <br>\n",
    "[ 6 6 6 6 6 ] <br>\n",
    "[ 6 6 6 6 6 ] <br>\n",
    "[ 6 6 6 6 ] ]. <br>\n",
    "6 on the border and 0 inside in the array-\n",
    "[[ 6 6 6 6 6] <br>\n",
    "[ 6 0 0 0 6] <br>\n",
    "[ 6 0 0 0 6]<br>\n",
    "[ 6 0 0 0 6]<br>\n",
    "[ 6 6 6 6 6]]"
   ]
  },
  {
   "cell_type": "code",
   "execution_count": null,
   "metadata": {},
   "outputs": [],
   "source": []
  },
  {
   "cell_type": "markdown",
   "metadata": {},
   "source": [
    "**Q49.** Write the NumPy program to create a 8x8 matrix and fill it with the checkerboard pattern? <br>\n",
    "Checkerboard pattern- <br>\n",
    "[[3 9 3 9 3 9 3 9] <br>\n",
    "[9 3 9 3 9 3 9 3]<br>\n",
    "[3 9 3 9 3 9 3 9]<br>\n",
    "[9 3 9 3 9 3 9 3]<br>\n",
    "[3 9 3 9 3 9 3 9]<br>\n",
    "[9 3 9 3 9 3 9 3]<br>\n",
    "[3 9 3 9 3 9 3 9]<br>\n",
    "[9 3 9 3 9 3 9 3]].<br>"
   ]
  },
  {
   "cell_type": "code",
   "execution_count": null,
   "metadata": {},
   "outputs": [],
   "source": []
  },
  {
   "cell_type": "markdown",
   "metadata": {},
   "source": [
    "**Q50.** Write the NumPy program to create an empty and a full array. <br>\n",
    "Expected Output- <br>\n",
    "[[4.45057637e-308 1.78021527e-306 8.45549797e-307 1.37962049e-306] <br>\n",
    "[1.11260619e-306 1.78010255e-306 9.79054228e-307 4.45057637e-308]<br>\n",
    "[8.45596650e-307 9.34602321e-307 4.94065646e-322 0.00000000e+000]]<br>\n",
    "[[6 6 6]<br>\n",
    "[6 6 6]<br>\n",
    "[6 6 6]]"
   ]
  },
  {
   "cell_type": "code",
   "execution_count": null,
   "metadata": {},
   "outputs": [],
   "source": []
  },
  {
   "cell_type": "markdown",
   "metadata": {},
   "source": [
    "**Q51.** Write the NumPy program to convert the values of Centigrade degrees into the Fahrenheit degrees and the centigrade values are stored in the NumPy array. <br>\n",
    "**Sample Array-** [0, 12, 45.21 ,34, 99.91] <br>\n",
    "**Expected Output:** Values in Fahrenheit degrees- <br>\n",
    "[ 0. 12. 45.21 34. 99.91] <br>\n",
    "Values in Centigrade degrees- <br>\n",
    "[-17.77777778 -11.11111111 7.33888889 1.11111111 37.72777778]"
   ]
  },
  {
   "cell_type": "code",
   "execution_count": null,
   "metadata": {},
   "outputs": [],
   "source": []
  },
  {
   "cell_type": "markdown",
   "metadata": {},
   "source": [
    "**Q52.** Write the NumPy program to find the real and imaginary parts of an array of complex numbers? <br>\n",
    "**Expected Output:** Original array [ 1.00000000+0.j 0.70710678+0.70710678j] <br>\n",
    "Real part of the array-<br>\n",
    "[ 1. 0.70710678]<br>\n",
    "Imaginary part of the array- <br>\n",
    "[ 0. 0.70710678]"
   ]
  },
  {
   "cell_type": "code",
   "execution_count": null,
   "metadata": {},
   "outputs": [],
   "source": []
  },
  {
   "cell_type": "markdown",
   "metadata": {},
   "source": [
    "**Q53.** Write the NumPy program to test whether each element of a 1-D array is also present in the second array? <br>\n",
    "**Expected Output:** Array1: [ 0 10 20 40 60] <br>\n",
    "Array2: [0, 40] <br>\n",
    "Compare each element of array1 and array2 <br>\n",
    "[ True False False True False]"
   ]
  },
  {
   "cell_type": "code",
   "execution_count": null,
   "metadata": {},
   "outputs": [],
   "source": []
  },
  {
   "cell_type": "code",
   "execution_count": null,
   "metadata": {},
   "outputs": [],
   "source": []
  },
  {
   "cell_type": "markdown",
   "metadata": {},
   "source": [
    "**Q54.** Write the NumPy program to find common values between two arrays? <br>\n",
    "**Expected Output:** Array1: [ 0 10 20 40 60] <br>\n",
    "Array2: [10, 30, 40] <br>\n",
    "Common values between two arrays- <br>\n",
    "[10 40]"
   ]
  },
  {
   "cell_type": "code",
   "execution_count": null,
   "metadata": {},
   "outputs": [],
   "source": []
  },
  {
   "cell_type": "markdown",
   "metadata": {},
   "source": [
    "**Q55.** Write the NumPy program to get the unique elements of an array? <br>\n",
    "**Expected Output:** Original array- <br>\n",
    "[10 10 20 20 30 30] <br>\n",
    "Unique elements of the above array- <br>\n",
    "[10 20 30] <br>\n",
    "Original array- <br>\n",
    "[[1 1] <br>\n",
    "[2 3]] <br>\n",
    "Unique elements of the above array- <br>\n",
    "[1 2 3] "
   ]
  },
  {
   "cell_type": "code",
   "execution_count": null,
   "metadata": {},
   "outputs": [],
   "source": []
  },
  {
   "cell_type": "markdown",
   "metadata": {},
   "source": [
    "**Q56.** Write the NumPy program to find the set exclusive-or of two arrays. <br>\n",
    "Set exclusive-or will return the sorted, unique values that are in only one (not both) of the input arrays? <br>\n",
    "Array1- [ 0 10 20 40 60 80] <br>\n",
    "Array2- [10, 30, 40, 50, 70] <br>\n",
    "Unique values that are in only one (not both) of the input arrays- <br>\n",
    "[ 0 20 30 50 60 70 80] "
   ]
  },
  {
   "cell_type": "code",
   "execution_count": null,
   "metadata": {},
   "outputs": [],
   "source": []
  },
  {
   "cell_type": "markdown",
   "metadata": {},
   "source": [
    "**Q57.** Write the NumPy program to test if all elements in an array evaluate to True ? <br>\n",
    "Note: 0 evaluates to False in NumPy."
   ]
  },
  {
   "cell_type": "code",
   "execution_count": null,
   "metadata": {},
   "outputs": [],
   "source": []
  },
  {
   "cell_type": "markdown",
   "metadata": {},
   "source": [
    "**Q58.** Write the NumPy program to test whether any array element along the given axis evaluates to True? <br>\n",
    "**Note:** 0 evaluates to False in NumPy."
   ]
  },
  {
   "cell_type": "code",
   "execution_count": null,
   "metadata": {},
   "outputs": [],
   "source": []
  },
  {
   "cell_type": "markdown",
   "metadata": {},
   "source": [
    "**Q59.** Write the NumPy program to construct an array by repeating? <br>\n",
    "Sample array- [1, 2, 3, 4] <br>\n",
    "**Expected Output:** Original array <br>\n",
    "[1, 2, 3, 4] <br>\n",
    "Repeating 2 times <br>\n",
    "[1 2 3 4 1 2 3 4] <br>\n",
    "Repeating 3 times <br>\n",
    "[1 2 3 4 1 2 3 4 1 2 3 4]"
   ]
  },
  {
   "cell_type": "code",
   "execution_count": null,
   "metadata": {},
   "outputs": [],
   "source": []
  },
  {
   "cell_type": "markdown",
   "metadata": {},
   "source": [
    "**Q60.** Write the NumPy program to find the indices of the maximum and minimum values with the given axis of an array? <br>\n",
    "Original array- [1 2 3 4 5 6] <br>\n",
    "Maximum Values- 5 <br>\n",
    "Minimum Values- 0"
   ]
  },
  {
   "cell_type": "code",
   "execution_count": null,
   "metadata": {},
   "outputs": [],
   "source": []
  },
  {
   "cell_type": "markdown",
   "metadata": {},
   "source": [
    "**Q61.** Write the NumPy program compare two arrays using numpy? <br>\n",
    "Array a- [1 2] <br>\n",
    "Array b- [4 5] <br>\n",
    "a > b <br>\n",
    "[False False] <br>\n",
    "a >= b\n",
    "[False False] <br>\n",
    "a < b <br>\n",
    "[ True True] <br>\n",
    "a <= b <br>\n",
    "[ True True]"
   ]
  },
  {
   "cell_type": "code",
   "execution_count": null,
   "metadata": {},
   "outputs": [],
   "source": []
  },
  {
   "cell_type": "markdown",
   "metadata": {},
   "source": [
    "**Q62.** Write the NumPy program to sort an along the first, last axis of an array? <br>\n",
    "Sample array- [[2,5],[4,4]] <br>\n",
    "**Expected Output:** Original array: <br>\n",
    "[[4 6] <br>\n",
    "[2 1]] <br>\n",
    "Sort along the first axis: <br>\n",
    "[[2 1] <br>\n",
    "[4 6]] <br>\n",
    "Sort along the last axis- <br>\n",
    "[[1 2] <br>\n",
    "[4 6]]"
   ]
  },
  {
   "cell_type": "code",
   "execution_count": null,
   "metadata": {},
   "outputs": [],
   "source": []
  },
  {
   "cell_type": "markdown",
   "metadata": {},
   "source": [
    "**Q63.** Write the NumPy program to sort pairs of first name and last name return their indices (first by last name, then by first name). <br>\n",
    "first_names - ( Betsey, Shelley, Lanell, Genesis, Margery ) <br>\n",
    "last_names - ( Battle, Brien, Plotner, Stahl, Woolum ) <br>\n",
    "**Expected Output-** <br>\n",
    "[1 3 2 4 0]"
   ]
  },
  {
   "cell_type": "code",
   "execution_count": null,
   "metadata": {},
   "outputs": [],
   "source": []
  },
  {
   "cell_type": "markdown",
   "metadata": {},
   "source": [
    "**Q64.** Write the NumPy program to get the values and indices of the elements that are bigger than 10 in the given array? <br>\n",
    "Original array- <br>\n",
    "[[ 0 10 20] <br>\n",
    "[20 30 40]] <br>\n",
    "Values bigger than 10 = [20 20 30 40] <br>\n",
    "Their indices are (array([0, 1, 1, 1]), array([2, 0, 1, 2]))"
   ]
  },
  {
   "cell_type": "code",
   "execution_count": null,
   "metadata": {},
   "outputs": [],
   "source": []
  },
  {
   "cell_type": "markdown",
   "metadata": {},
   "source": [
    "**Q65.** Write the NumPy program to find the memory size of a NumPy array? <br>\n",
    "**Expected Output-** 128 bytes"
   ]
  },
  {
   "cell_type": "code",
   "execution_count": null,
   "metadata": {},
   "outputs": [],
   "source": []
  },
  {
   "cell_type": "markdown",
   "metadata": {},
   "source": [
    "**Q66.** Write the NumPy program to create an array of ones and an array of zeros? <br>\n",
    "**Expected Output:** Create an array of zeros <br>\n",
    "Default type is float <br>\n",
    "[[ 0. 0.]] <br>\n",
    "Type changes to int <br>\n",
    "[[0 0]] <br>\n",
    "Create an array of ones <br>\n",
    "Default type is float<br>\n",
    "[[ 1. 1.]]<br>\n",
    "Type changes to int<br>\n",
    "[[1 1]]"
   ]
  },
  {
   "cell_type": "code",
   "execution_count": null,
   "metadata": {},
   "outputs": [],
   "source": []
  },
  {
   "cell_type": "markdown",
   "metadata": {},
   "source": [
    "**Q67**. Write the NumPy program to change the dimension of an array? <br>\n",
    "**Expected Output-** <br>\n",
    "6 rows and 0 columns <br>\n",
    "(6,) <br>\n",
    "(3, 3) -> 3 rows and 3 columns <br>\n",
    "[[1 2 3]<br>\n",
    "[4 5 6]<br>\n",
    "[7 8 9]]<br>\n",
    "Change array shape to (3, 3) -> 3 rows and 3 columns <br>\n",
    "[[1 2 3] <br>\n",
    "[4 5 6]<br>\n",
    "[7 8 9]]"
   ]
  },
  {
   "cell_type": "code",
   "execution_count": null,
   "metadata": {},
   "outputs": [],
   "source": []
  },
  {
   "cell_type": "markdown",
   "metadata": {},
   "source": [
    "**Q68.** Write the NumPy program to create a new shape to an array without changing its data ? <br>\n",
    "Reshape 3x2- <br>\n",
    "[[1 2] <br>\n",
    "[3 4] <br>\n",
    "[5 6]]<br>\n",
    "Reshape 2x3- <br>\n",
    "[[1 2 3] <br>\n",
    "[4 5 6]]"
   ]
  },
  {
   "cell_type": "code",
   "execution_count": null,
   "metadata": {},
   "outputs": [],
   "source": []
  },
  {
   "cell_type": "markdown",
   "metadata": {},
   "source": [
    "**Q69.** Write the NumPy program to create a new array of 3*5, filled with 2? <br>\n",
    "Expected Output- <br>\n",
    "[[2 2 2 2 2]<br>\n",
    "[2 2 2 2 2]<br>\n",
    "[2 2 2 2 2]]<br>\n",
    "[[2 2 2 2 2]<br>\n",
    "[2 2 2 2 2]<br>\n",
    "[2 2 2 2 2]]"
   ]
  },
  {
   "cell_type": "code",
   "execution_count": null,
   "metadata": {},
   "outputs": [],
   "source": []
  },
  {
   "cell_type": "markdown",
   "metadata": {},
   "source": [
    "**Q70.** Write the NumPy program to create a 3-D array with ones on a diagonal and zeros elsewhere? <br>\n",
    "**Expected Output-**<br>\n",
    "[[ 1. 0. 0.] <br>\n",
    "[ 0. 1. 0.]<br>\n",
    "[ 0. 0. 1.]]"
   ]
  },
  {
   "cell_type": "code",
   "execution_count": null,
   "metadata": {},
   "outputs": [],
   "source": []
  },
  {
   "cell_type": "markdown",
   "metadata": {},
   "source": [
    "**Q71.** Write the NumPy program to split an array of 14 elements into the 3 arrays and each of which has 2, 4, and 8 elements in original order? <br>\n",
    "**Expected Output:** Original array- [ 1 2 3 4 5 6 7 8 9 10 11 12 13 14] <br>\n",
    "After splitting- <br>\n",
    "[array([1, 2]), array([3, 4, 5, 6]), array([ 7, 8, 9, 10, 11, 12, 13, 14])]"
   ]
  },
  {
   "cell_type": "code",
   "execution_count": null,
   "metadata": {},
   "outputs": [],
   "source": []
  },
  {
   "cell_type": "markdown",
   "metadata": {},
   "source": [
    "**Q72.** Write the NumPy program to split of an array of shape 4x4 it into two arrays along the second axis ? <br>\n",
    "**Sample array** -<br>\n",
    "[[ 0 1 2 3] <br>\n",
    "[ 4 5 6 7] <br>\n",
    "[ 8 9 10 11] <br>\n",
    "[12 13 14 15]] <br>\n",
    "**Expected Output** <br>\n",
    "[array([[ 0, 1], [ 4, 5],[ 8, 9],[12, 13]]), array([[ 2, 3], [ 6, 7], [10, 11], [14, 15]]), <br> array([], shape=(4, 0), dtype=int64)]"
   ]
  },
  {
   "cell_type": "code",
   "execution_count": null,
   "metadata": {},
   "outputs": [],
   "source": []
  },
  {
   "cell_type": "markdown",
   "metadata": {},
   "source": [
    "**Q73.** Write the NumPy program to create a 5x5 matrix with row values ranging from 0 to 4? <br>\n",
    "Original array- <br>\n",
    "[[ 0. 0. 0. 0. 0.] <br>\n",
    "[ 0. 0. 0. 0. 0.] <br>\n",
    "[ 0. 0. 0. 0. 0.] <br>\n",
    "[ 0. 0. 0. 0. 0.] <br>\n",
    "[ 0. 0. 0. 0. 0.]] <br>\n",
    "Row values ranging from 0 to 4. <br>\n",
    "[[ 0. 1. 2. 3. 4.] <br>\n",
    "[ 0. 1. 2. 3. 4.] <br>\n",
    "[ 0. 1. 2. 3. 4.] <br>\n",
    "[ 0. 1. 2. 3. 4.] <br>\n",
    "[ 0. 1. 2. 3. 4.]]"
   ]
  },
  {
   "cell_type": "code",
   "execution_count": null,
   "metadata": {},
   "outputs": [],
   "source": []
  },
  {
   "cell_type": "markdown",
   "metadata": {},
   "source": [
    "**Q74.** Write the NumPy program to create an array of zeros and three column types (integer, float, character)? <br>\n",
    "**Expected Output-** <br>\n",
    "[(1, 2., b'Albert Einstein') (2, 2., b'Edmond Halley') <br>\n",
    "(3, 3., b'Gertrude B. Elion')]"
   ]
  },
  {
   "cell_type": "code",
   "execution_count": null,
   "metadata": {},
   "outputs": [],
   "source": []
  },
  {
   "cell_type": "markdown",
   "metadata": {},
   "source": [
    "**Q75.** Write the NumPy program to remove the negative values in the numpy array with 0? <br>\n",
    "**Expected Output:** Original array: <br>\n",
    "[-1 -4 0 2 3 4 5 -6] <br>\n",
    "Replace the negative values of the said array with 0- <br>\n",
    "[0 0 0 2 3 4 5 0]"
   ]
  },
  {
   "cell_type": "code",
   "execution_count": null,
   "metadata": {},
   "outputs": [],
   "source": []
  },
  {
   "cell_type": "markdown",
   "metadata": {},
   "source": [
    "**Q76.** Write the NumPy program to compute the histogram of a set of data? <br>\n",
    "Sample Output"
   ]
  },
  {
   "cell_type": "code",
   "execution_count": null,
   "metadata": {},
   "outputs": [],
   "source": []
  },
  {
   "cell_type": "markdown",
   "metadata": {},
   "source": [
    "**Q77.** Write the NumPy program to compute the line graph of a set of data? <br>\n",
    "Sample Output:"
   ]
  },
  {
   "cell_type": "code",
   "execution_count": null,
   "metadata": {},
   "outputs": [],
   "source": []
  },
  {
   "cell_type": "markdown",
   "metadata": {},
   "source": [
    "**Q78.** Write the NumPy program to extracts all the elements from second row from given (4x4) array? <br>\n",
    "**Sample Output:** Original array- <br>\n",
    "[[ 0 1 2 3] <br>\n",
    "[ 4 5 6 7]<br>\n",
    "[ 8 9 10 11]<br>\n",
    "[12 13 14 15]]<br>\n",
    "Extracted data- Second row <br>\n",
    "[4 5 6 7]"
   ]
  },
  {
   "cell_type": "code",
   "execution_count": null,
   "metadata": {},
   "outputs": [],
   "source": []
  },
  {
   "cell_type": "markdown",
   "metadata": {},
   "source": [
    "**Q79.** Write the NumPy program to extract first element of the second row and fourth element of fourth row from a given (4x4) array? <br>\n",
    "**Sample Output:** Original array- <br>\n",
    "[[ 0 1 2 3]<br>\n",
    "[ 4 5 6 7]<br>\n",
    "[ 8 9 10 11]<br>\n",
    "[12 13 14 15]]<br>\n",
    "Extracted data- First element of the second row and fourth element of fourth row<br>\n",
    "[ 4 15]"
   ]
  },
  {
   "cell_type": "code",
   "execution_count": null,
   "metadata": {},
   "outputs": [],
   "source": []
  },
  {
   "cell_type": "markdown",
   "metadata": {},
   "source": [
    "**Q80.** Write the NumPy program to add two arrays A and B of sizes (3,3) and (,3)? <br>\n",
    "Sample Output: Original arrayArray-1 <br>\n",
    "[[1 1 1] <br>\n",
    "[1 1 1] <br>\n",
    "[1 1 1]] <br>\n",
    "Array-2 <br>\n",
    "[0 1 2] <br>\n",
    "A + B: <br>\n",
    "[[1 2 3]<br>\n",
    "[1 2 3]<br>\n",
    "[1 2 3]]"
   ]
  },
  {
   "cell_type": "code",
   "execution_count": null,
   "metadata": {},
   "outputs": [],
   "source": []
  },
  {
   "cell_type": "markdown",
   "metadata": {},
   "source": [
    "**Q81.** Write the NumPy program to copy data from a given array to another array? <br>\n",
    "**Sample Output:** Original array- <br>\n",
    "[24 27 30 29 18 14] <br>\n",
    "Copy of the said array- <br>\n",
    "[24 27 30 29 18 14]"
   ]
  },
  {
   "cell_type": "code",
   "execution_count": null,
   "metadata": {},
   "outputs": [],
   "source": []
  },
  {
   "cell_type": "markdown",
   "metadata": {},
   "source": [
    "**Q82.** Write the NumPy program to calculate the sum of all columns of the 2D numpy array? <br>\n",
    "**Sample Output:** Original array- <br>\n",
    "[[ 0 1 2 3 4 5 6 7 8] <br>\n",
    "[ 9 10 11 12 13 14 15 16 17] <br>\n",
    "[18 19 20 21 22 23 24 25 26] <br>\n",
    "[27 28 29 30 31 32 33 34 35]] <br>\n",
    "Sum of all columns- <br>\n",
    "[54 58 62 66 70 74 78 82 86]"
   ]
  },
  {
   "cell_type": "code",
   "execution_count": null,
   "metadata": {},
   "outputs": [],
   "source": []
  },
  {
   "cell_type": "markdown",
   "metadata": {},
   "source": [
    "**Q83.** Write the NumPy program to calculate averages without NaNs along the given array? <br>\n",
    "**Sample Output:** Original array- <br>\n",
    "[[10. 20. 30.] <br>\n",
    "[40. 50. nan] <br>\n",
    "[nan 6. nan] <br>\n",
    "[nan nan nan]] <br>\n",
    "Averages without NaNs along the said array- <br>\n",
    "[20. 45. 6. nan]"
   ]
  },
  {
   "cell_type": "code",
   "execution_count": null,
   "metadata": {},
   "outputs": [],
   "source": []
  },
  {
   "cell_type": "markdown",
   "metadata": {},
   "source": [
    "**Q84.** Create two arrays of six elements. Write the NumPy program to count the number of instances of a value occurring in one array on the condition of another array. <br>\n",
    "**Sample Output:** Original arrays- <br>\n",
    "[ 10 -10 10 -10 -10 10] <br>\n",
    "[0.85 0.45 0.9 0.8 0.12 0.6 ] <br>\n",
    "Number of instances of a value occurring in one array on the condition of another array: 3 "
   ]
  },
  {
   "cell_type": "code",
   "execution_count": null,
   "metadata": {},
   "outputs": [],
   "source": []
  },
  {
   "cell_type": "markdown",
   "metadata": {},
   "source": [
    "**Q85.** Write the NumPy program to convert a Python dictionary to a Numpy ndarray ? <br>\n",
    "Original dictionary- <br>\n",
    "{'column0': {'a': 1, 'b': 0.0, 'c': 0.0, 'd': 2.0}, <br>\n",
    "'column1': {'a': 3.0, 'b': 1, 'c': 0.0, 'd': -1.0}, <br>\n",
    "'column2': {'a': 4, 'b': 1, 'c': 5.0, 'd': -1.0}, <br>\n",
    "'column3': {'a': 3.0, 'b': -1.0, 'c': -1.0, 'd': -1.0}} <br>\n",
    "Type: <class 'dict'> <br>\n",
    "ndarray- <br>\n",
    "[[ 1. 0. 0. 2.] <br>\n",
    "[ 3. 1. 0. -1.] <br>\n",
    "[ 4. 1. 5. -1.] <br>\n",
    "[ 3. -1. -1. -1.]] <br>\n",
    "Type: <class 'numpy.ndarray'>"
   ]
  },
  {
   "cell_type": "code",
   "execution_count": null,
   "metadata": {},
   "outputs": [],
   "source": []
  },
  {
   "cell_type": "markdown",
   "metadata": {},
   "source": [
    "**Q86.** Write the Numpy program to find and store the non-zero unique rows in an array after comparing each row with other row in the given matrix? <br>\n",
    "Original array- <br>\n",
    "[[ 1 1 0] <br>\n",
    "[ 0 0 0] <br>\n",
    "[ 0 2 3] <br>\n",
    "[ 0 0 0] <br>\n",
    "[ 0 -1 1] <br>\n",
    "[ 0 0 0]] <br>\n",
    "Non-zero unique rows- <br>\n",
    "[[ 1 1 0] <br>\n",
    "[ 0 2 3] <br>\n",
    "[ 0 -1 1]]"
   ]
  },
  {
   "cell_type": "code",
   "execution_count": null,
   "metadata": {},
   "outputs": [],
   "source": []
  },
  {
   "cell_type": "markdown",
   "metadata": {},
   "source": [
    "**Q87.** Write the NumPy program to multiply the matrix by another matrix of complex numbers and create a new matrix of complex numbers? <br>\n",
    "Sample output: First array- <br>\n",
    "[ 1.+2.j 3.+4.j] <br>\n",
    "Second array- <br>\n",
    "[ 5.+6.j 7.+8.j] <br>\n",
    "Product of above two arrays- <br>\n",
    "(70-8j)"
   ]
  },
  {
   "cell_type": "code",
   "execution_count": null,
   "metadata": {},
   "outputs": [],
   "source": []
  },
  {
   "cell_type": "markdown",
   "metadata": {},
   "source": [
    "**Q88.** Write a NumPy program to generate the matrix product of two Arrays? <br>\n",
    "**Sample Output:** Matrices and vectors. <br>\n",
    "x- <br>\n",
    "[[1, 0], [1, 1]] <br>\n",
    "y- <br>\n",
    "[[3, 1], [2, 2]] <br>\n",
    "Matrix product of above two arrays <br>\n",
    "[[3 1] <br>\n",
    "[5 3]]"
   ]
  },
  {
   "cell_type": "code",
   "execution_count": null,
   "metadata": {},
   "outputs": [],
   "source": []
  },
  {
   "cell_type": "markdown",
   "metadata": {},
   "source": [
    "**Q89.** Write the NumPy program to find roots of the following Polynomials? <br>\n",
    "a) (x2 - 4x + 7) <br>\n",
    "b) x4 - 11x3 + 9x2 + 11x ? 10 <br>\n",
    "**Sample output:** Roots of the first polynomial- <br>\n",
    "[ 1. 1.] <br>\n",
    "Roots of the second polynomial- <br>\n",
    "[ 11.04461946+0.j -0.87114210+0.j 0.91326132+0.4531004j <br>\n",
    "0.91326132-0.4531004j ]"
   ]
  },
  {
   "cell_type": "code",
   "execution_count": null,
   "metadata": {},
   "outputs": [],
   "source": []
  },
  {
   "cell_type": "markdown",
   "metadata": {},
   "source": [
    "**Q90.** Write the NumPy program to calculate inverse of sine, cosine, and inverse tangent for all elements in a given array? <br>\n",
    "**Sample output:** Inverse sine- [-1.57079633 0. 1.57079633] <br>\n",
    "Inverse cosine- [3.14159265 1.57079633 0. ] <br>\n",
    "Inverse tangent- [-0.78539816 0. 0.78539816]"
   ]
  },
  {
   "cell_type": "code",
   "execution_count": null,
   "metadata": {},
   "outputs": [],
   "source": []
  },
  {
   "cell_type": "markdown",
   "metadata": {},
   "source": [
    "**Q91.** Write the NumPy program to calculate the difference between in neighbouring elements, element-wise of a given array? <br>\n",
    "**Sample output:** Original array- <br>\n",
    "[1 3 5 7 0] <br>\n",
    "Difference between neighbouring elements, element-wise of the said array- <br>\n",
    "[ 2 2 2 -7]"
   ]
  },
  {
   "cell_type": "code",
   "execution_count": null,
   "metadata": {},
   "outputs": [],
   "source": []
  },
  {
   "cell_type": "markdown",
   "metadata": {},
   "source": [
    "**Q92.** Write the Python program to find the maximum and the minimum value of a given flattened array? <br>\n",
    "Expected Output: Original flattened array- <br>\n",
    "[[0 1] <br>\n",
    "[2 3]] <br>\n",
    "Maximum value of the above flattened array- 3 <br>\n",
    "Minimum value of the above flattened array- 0"
   ]
  },
  {
   "cell_type": "code",
   "execution_count": null,
   "metadata": {},
   "outputs": [],
   "source": []
  },
  {
   "cell_type": "markdown",
   "metadata": {},
   "source": [
    "**Q93.** Write the NumPy program to calculate the difference between in the maximum and the minimum values of a given array along the second axis ? <br>\n",
    "**Expected Output:** Original array- <br>\n",
    "[[ 0 1 2 3 4 5] <br>\n",
    "[ 6 7 8 9 10 11]] <br>\n",
    "Difference between the maximum and the minimum values of the said array- [5 5]"
   ]
  },
  {
   "cell_type": "code",
   "execution_count": null,
   "metadata": {},
   "outputs": [],
   "source": []
  },
  {
   "cell_type": "markdown",
   "metadata": {},
   "source": [
    "**Q94.** Write the NumPy program to compute the weighted of the given array ? <br>\n",
    "**Sample Output:** Original array- [0 1 2 3 4]  <br>\n",
    "Weighted average of the said array- 2.6666666666666665"
   ]
  },
  {
   "cell_type": "code",
   "execution_count": null,
   "metadata": {},
   "outputs": [],
   "source": []
  },
  {
   "cell_type": "markdown",
   "metadata": {},
   "source": [
    "**Q95.** Write the NumPy program to compute the mean, standard deviation, and the variance of a given array along the second axis? <br>\n",
    "**Sample output:** Original array-<br>\n",
    "[0 1 2 3 4 5] <br>\n",
    "Mean- 2.5 <br> \n",
    "std- 1<br>\n",
    "variance- 2.9166666666666665"
   ]
  },
  {
   "cell_type": "code",
   "execution_count": null,
   "metadata": {},
   "outputs": [],
   "source": []
  },
  {
   "cell_type": "markdown",
   "metadata": {},
   "source": [
    "**Q96.** Write the Numpy program to compute the covariance matrix of the two given arrays? <br>\n",
    "**Sample Output:** Original array1- <br>\n",
    "[0 1 2] <br>\n",
    "Original array1- <br>\n",
    "[2 1 0] <br>\n",
    "Covariance matrix of the said arrays- <br>\n",
    "[[ 1. -1.] <br>\n",
    "[-1. 1.]]"
   ]
  },
  {
   "cell_type": "code",
   "execution_count": null,
   "metadata": {},
   "outputs": [],
   "source": []
  },
  {
   "cell_type": "markdown",
   "metadata": {},
   "source": [
    "**Q97.** Write a NumPy program to compute the cross-correlation of two given arrays ? <br>\n",
    "**Sample Output:** Original array1 <br>\n",
    "[0 1 3] <br>\n",
    "Original array1- <br>\n",
    "[2 4 5] <br>\n",
    "Cross-correlation of the said arrays- <br>\n",
    "[ [ 2.33333333 2.16666667 ] <br>\n",
    "[ 2.16666667 2.33333333 ] ]"
   ]
  },
  {
   "cell_type": "code",
   "execution_count": null,
   "metadata": {},
   "outputs": [],
   "source": []
  },
  {
   "cell_type": "markdown",
   "metadata": {},
   "source": [
    "**Q98.** Write the NumPy program to compute Pearson product-moment correlation coefficients of two given arrays? <br>\n",
    "**Sample Output:** Original array1- <br>\n",
    "[0 1 3] <br>\n",
    "Original array1- <br>\n",
    "[2 4 5] <br>\n",
    "Pearson product-moment correlation coefficients of the said arrays- <br>\n",
    "[[1. 0.92857143] <br>\n",
    "[0.92857143 1. ]]"
   ]
  },
  {
   "cell_type": "code",
   "execution_count": null,
   "metadata": {},
   "outputs": [],
   "source": []
  },
  {
   "cell_type": "markdown",
   "metadata": {},
   "source": [
    "**Q99.** Write the python program to count the number of occurrences of each value in a given array of non-negative integers? <br>\n",
    "**Note:** bincount() Function- It count the occurrence of each value in an array of the non- negative integers in the range of the array between the minimum and maximum values including the values that did not occur. <br>\n",
    "Sample Output: Original array- <br>\n",
    "[0, 1, 6, 1, 4, 1, 2, 2, 7] <br>\n",
    "Number of occurrences of each value in array- [1 3 2 0 1 0 1 1]"
   ]
  },
  {
   "cell_type": "code",
   "execution_count": null,
   "metadata": {},
   "outputs": [],
   "source": []
  },
  {
   "cell_type": "markdown",
   "metadata": {},
   "source": [
    "**Q100.** Write a Numpy program to compute the histogram of nums against the bins? <br>\n",
    "**Sample Output:** nums- [0.5 0.7 1. 1.2 1.3 2.1]<br>\n",
    "bins- [0 1 2 3] <br>\n",
    "Result- (array([2, 3, 1], dtype=int64), array([0, 1, 2, 3]))"
   ]
  },
  {
   "cell_type": "code",
   "execution_count": null,
   "metadata": {},
   "outputs": [],
   "source": []
  },
  {
   "cell_type": "markdown",
   "metadata": {},
   "source": [
    "**Q101.** Write the Python program to add, subtract, multiply and divide two pandas series ? <br>\n",
    "**Sample Series-** [2, 4, 6, 8, 10], [1, 3, 5, 7, 9]"
   ]
  },
  {
   "cell_type": "code",
   "execution_count": null,
   "metadata": {},
   "outputs": [],
   "source": []
  },
  {
   "cell_type": "markdown",
   "metadata": {},
   "source": [
    "**Q102.** Write a Python program to convert a dictionary to the Pandas Series? <br>\n",
    "Sample Series: Original dictionary- <br>\n",
    "{'a': 100, 'b': 200, 'c': 300, 'd': 400, 'e': 800}<br>\n",
    "Converted series - <br>\n",
    "a 100 <br>\n",
    "b 200 <br>\n",
    "c 300 <br>\n",
    "d 400 <br>\n",
    "e 800 <br>\n",
    "dtype- int64"
   ]
  },
  {
   "cell_type": "code",
   "execution_count": null,
   "metadata": {},
   "outputs": [],
   "source": []
  },
  {
   "cell_type": "markdown",
   "metadata": {},
   "source": [
    "**Q103.** Write a python program to change the data type of given a column or a Series? <br>\n",
    "**Sample Series:** Original Data Series- <br>\n",
    "0 100 <br>\n",
    "1 200 <br>\n",
    "2 python <br>\n",
    "3 300.12 <br>\n",
    "4 400 <br> \n",
    "dtype- object <br>\n",
    "Change the said data type to numeric- <br>\n",
    "0 100.00 <br>\n",
    "1 200.00<br>\n",
    "2 NaN<br>\n",
    "3 300.12<br>\n",
    "4 400.00<br>\n",
    "dtype- float64"
   ]
  },
  {
   "cell_type": "code",
   "execution_count": null,
   "metadata": {},
   "outputs": [],
   "source": []
  },
  {
   "cell_type": "markdown",
   "metadata": {},
   "source": [
    "**Q104.** Write the python pandas program to convert the first column of a DataFrame as a Series? <br>\n",
    "**Sample Output:** Original DataFrame <br>\n",
    "col1 col2 col3<br>\n",
    "0 1 4 7<br>\n",
    "1 2 5 5<br>\n",
    "2 3 6 8<br>\n",
    "3 4 9 12<br>\n",
    "4 7 5 1<br>\n",
    "5 11 0 11<br>\n",
    "1st column as a Series- <br>\n",
    "0 1<br>\n",
    "1 2<br>\n",
    "2 3<br>\n",
    "3 4<br>\n",
    "4 7<br>\n",
    "5 11<br>\n",
    "Name- col1, dtype- int64 <br>\n",
    "<class 'pandas.core.series.Series'>"
   ]
  },
  {
   "cell_type": "code",
   "execution_count": null,
   "metadata": {},
   "outputs": [],
   "source": []
  },
  {
   "cell_type": "markdown",
   "metadata": {},
   "source": [
    "**Q105.** Write a pandas program to create the mean and standard deviation of the data of a given Series? <br>\n",
    "Sample Output : Original Data Series- <br>\n",
    "0 1 <br>\n",
    "1 2 <br>\n",
    "2 3 <br>\n",
    "3 4<br>\n",
    "4 5<br>\n",
    "5 6<br>\n",
    "6 7<br>\n",
    "7 8<br>\n",
    "8 9<br>\n",
    "9 5<br>\n",
    "10 3<br>\n",
    "dtype- int64 <br>\n",
    "Mean of the said Data Series- 4.81818181818 <br>\n",
    "Standard deviation of the said Data Series- 2.52262489555"
   ]
  },
  {
   "cell_type": "code",
   "execution_count": null,
   "metadata": {},
   "outputs": [],
   "source": []
  },
  {
   "cell_type": "markdown",
   "metadata": {},
   "source": [
    "**Q106.** Write a pandas program to get powers of an array values element-wise? <br>\n",
    "**Note:**  First array elements raised the powers from the second array.<br>\n",
    "Sample data: {'X ':[78,85,96,80,86], ' Y ':[84,94,89,83,86],'Z':[86,97,96,72,83]} <br>\n",
    "**Expected Output:** <br>\n",
    "X Y Z <br>\n",
    "0 78 84 86<br>\n",
    "1 85 94 97<br>\n",
    "2 96 89 96<br>\n",
    "3 80 83 72<br>\n",
    "4 86 86 83"
   ]
  },
  {
   "cell_type": "code",
   "execution_count": null,
   "metadata": {},
   "outputs": [],
   "source": []
  },
  {
   "cell_type": "markdown",
   "metadata": {},
   "source": [
    "**Q107.** Write the pandas program to get the first 3 rows of a given DataFrame? <br>\n",
    "Sample Python dictionary data and list labels:  <br>\n",
    "exam_data = {'name': ['Anastasia', 'Dima', 'Katherine', 'James', 'Emily', 'Michael',\n",
    "'Matthew', 'Laura', 'Kevin', 'Jonas'], <br>\n",
    "'score': [12.5, 9, 16.5, np.nan, 9, 20, 14.5, np.nan, 8, 19], <br>\n",
    "'attempts'- [1, 3, 2, 3, 2, 3, 1, 1, 2, 1 <br>\n",
    "'qualify'- [ 'yes', 'no', 'yes' , 'no', ' no ', ' yes ', 'yes', 'no', 'no', 'yes' ] } <br>\n",
    "labels = ['a', 'b', 'c', 'd', 'e', 'f', 'g', 'h', 'i', 'j' ] <br>\n",
    "**Expected Output:** First three rows of the data frame attempts name qualify score <br>\n",
    "a 1 Anastasia yes 12.5 <br>\n",
    "b 3 Dima no 9.0 <br>\n",
    "c 2 Katherine yes 16.5 <br>"
   ]
  },
  {
   "cell_type": "code",
   "execution_count": null,
   "metadata": {},
   "outputs": [],
   "source": []
  },
  {
   "cell_type": "markdown",
   "metadata": {},
   "source": [
    "**Q108:** Write the pandas program to select the specified columns and the rows from a given data frame? <br>\n",
    "Sample Python dictionary data and list labels:  <br>\n",
    "Select 'name' and 'score' columns in rows 1, 3, 5, 6 from the following data frame. <br>\n",
    "exam_data = {'name ': [ 'Anastasia', 'Dima', 'Katherine', 'James', 'Emily', 'Michael',\n",
    "'Matthew', 'Laura', 'Kevin', 'Jonas'], <br>\n",
    "'score'- [12.5, 9, 16.5, np.nan, 9, 20, 14.5, np.nan, 8, 19], <br>\n",
    "'attempts'- [1, 3, 2, 3, 2, 3, 1, 1, 2, 1], <br>\n",
    "'qualify'- ['yes', 'no', 'yes', 'no', 'no', 'yes', 'yes', 'no', 'no', 'yes'] } <br>\n",
    "labels = ['a ', ' b ', ' c ', ' d ', ' e ', ' f ', ' g ', 'h', 'i', 'j'] <br>\n",
    "**Expected Output:** <br>\n",
    "Select specific columns and rows:<br>\n",
    "  name score <br>\n",
    "b Dima 9.0 <br>\n",
    "d James NaN <br>\n",
    "f Michael 20.0 <br>\n",
    "g Matthew 14.5"
   ]
  },
  {
   "cell_type": "code",
   "execution_count": null,
   "metadata": {},
   "outputs": [],
   "source": []
  },
  {
   "cell_type": "markdown",
   "metadata": {},
   "source": [
    "**Q109.** Write the pandas program to calculate mean score for each different student in DataFrame? <br>\n",
    "Sample Python dictionary data and list labels: <br>\n",
    "exam_data = {'name': ['Anastasia', 'Dima', 'Katherine', 'James', 'Emily', 'Michael',\n",
    "'Matthew', 'Laura', 'Kevin', 'Jonas'], <br>\n",
    "'score': [12.5, 9, 16.5, np.nan, 9, 20, 14.5, np.nan, 8, 19], <br>\n",
    "'attempts'- [1, 3, 2, 3, 2, 3, 1, 1, 2, 1], <br>\n",
    "'qualify'- ['yes', 'no', ' yes ', ' no ', ' no ', ' yes ', ' yes ', ' no ', ' no ', ' yes '] } <br>\n",
    "labels = ['a', 'b', 'c', 'd', 'e', 'f', 'g', 'h', 'i', 'j'] <br>\n",
    "**Expected Output:**  <br>\n",
    "Mean score for each different student in data frame: <br>\n",
    "13.5625"
   ]
  },
  {
   "cell_type": "code",
   "execution_count": null,
   "metadata": {},
   "outputs": [],
   "source": []
  },
  {
   "cell_type": "markdown",
   "metadata": {},
   "source": [
    "**Q110.** Write the Pandas program to rename columns of a given DataFrame ? <br>\n",
    "Sample data: Original data frame <br>\n",
    "col1 col2 col3 <br>\n",
    "0 1 4 7 <br>\n",
    "1 2 5 8 <br>\n",
    "2 3 6 9 <br>\n",
    "New data frame after renaming columns: <br>\n",
    "Column1 Column2 Column3 <br>\n",
    "0 1 4 7 <br>\n",
    "1 2 5 8 <br>\n",
    "2 3 6 9"
   ]
  },
  {
   "cell_type": "code",
   "execution_count": null,
   "metadata": {},
   "outputs": [],
   "source": []
  },
  {
   "cell_type": "markdown",
   "metadata": {},
   "source": [
    "**Q111.** Write a pandas program to count city-wise number of people from a given of data set (city, name of the person)? ,br>\n",
    "Sample data <br>\n",
    "city Number of people <br>\n",
    "0 California 4 <br>\n",
    "1 Georgia 2 <br>\n",
    "2 Los Angeles 4"
   ]
  },
  {
   "cell_type": "code",
   "execution_count": null,
   "metadata": {},
   "outputs": [],
   "source": []
  },
  {
   "cell_type": "markdown",
   "metadata": {},
   "source": [
    "**Q112.** Write a pandas program to widen output display to see more columns? <br>\n",
    "Sample data: Original data frame <br>\n",
    "col1 col2 col3 <br>\n",
    "0 1 4 7 <br>\n",
    "1 4 5 8 <br>\n",
    "2 3 6 9 <br>\n",
    "3 4 7 0 <br>\n",
    "4 5 8 1"
   ]
  },
  {
   "cell_type": "code",
   "execution_count": null,
   "metadata": {},
   "outputs": [],
   "source": []
  },
  {
   "cell_type": "markdown",
   "metadata": {},
   "source": [
    "**Q113.** Write a pandas program to convert the data frame column type from string to DateTime? <br>\n",
    "Sample dataString Date- <br>\n",
    "0 3/11/2000 <br>\n",
    "1 3/12/2000 <br>\n",
    "2 3/13/2000 <br>\n",
    "dtype- object <br>\n",
    "Original DataFrame (string to datetime)- <br>\n",
    "\n",
    "0 2000-03-11  <br>\n",
    "1 2000-03-12 <br>\n",
    "2 2000-03-13"
   ]
  },
  {
   "cell_type": "code",
   "execution_count": null,
   "metadata": {},
   "outputs": [],
   "source": []
  },
  {
   "cell_type": "markdown",
   "metadata": {},
   "source": [
    "**Q114.** Write a pandas program to append the data to an empty DataFrame? <br>\n",
    "Sample data: <br>\n",
    "Original DataFrame- After appending some data: col1 col2 0 0 0 1 1 1 2 2 2"
   ]
  },
  {
   "cell_type": "code",
   "execution_count": null,
   "metadata": {},
   "outputs": [],
   "source": []
  },
  {
   "cell_type": "markdown",
   "metadata": {},
   "source": [
    "**Q115.** Write a pandas program to count the number of columns of a DataFrame? <br>\n",
    "**Sample Output:** Original DataFrame <br>\n",
    "col1 col2 col3 <br>\n",
    "0 1 4 7 <br> \n",
    "1 2 5 8 <br>\n",
    "2 3 6 12 <br>\n",
    "3 4 9 1 <br>\n",
    "4 7 5 11 <br>\n",
    "Number of columns- 3"
   ]
  },
  {
   "cell_type": "code",
   "execution_count": null,
   "metadata": {},
   "outputs": [],
   "source": []
  },
  {
   "cell_type": "markdown",
   "metadata": {},
   "source": [
    "**Q116.** Write a Pandas program to remove the last n rows of a given DataFrame ? <br>\n",
    "**Sample Output:** <br>\n",
    "Original DataFrame <br>\n",
    "col1 col2 col3 <br>\n",
    "0 1 4 7 <br>\n",
    "1 2 5 5 <br>\n",
    "2 3 6 8 <br>\n",
    "3 4 9 12 <br>\n",
    "4 7 5 1 <br>\n",
    "5 11 0 11 <br>\n",
    "After removing last 3 rows of the said DataFrame <br>\n",
    "col1 col2 col3 <br>\n",
    "0 1 4 7 <br>\n",
    "1 2 5 5 <br>\n",
    "2 3 6 8 <br>\n",
    "Link for Datasets <br>\n",
    "(https://drive.google.com/drive/folders/105ftuIwN9kqyPNEEm3E6IM7LqywjyvJa?usp=sharing)"
   ]
  },
  {
   "cell_type": "code",
   "execution_count": null,
   "metadata": {},
   "outputs": [],
   "source": []
  },
  {
   "cell_type": "markdown",
   "metadata": {},
   "source": [
    "**Q117.** Write a Pandas program to import excel data (coalpublic2013.xlsx) into a Pandas data frame."
   ]
  },
  {
   "cell_type": "code",
   "execution_count": null,
   "metadata": {},
   "outputs": [],
   "source": []
  },
  {
   "cell_type": "markdown",
   "metadata": {},
   "source": [
    "**Q118.** Write a Pandas program to import excel data (coalpublic2013.xlsx) into a data frame and find details where \"Mine Name\" starts with \"P."
   ]
  },
  {
   "cell_type": "code",
   "execution_count": null,
   "metadata": {},
   "outputs": [],
   "source": []
  },
  {
   "cell_type": "markdown",
   "metadata": {},
   "source": [
    "**Q119.** Write a Pandas program to import excel data (employee.xlsx) into a Pandas dataframe and find the list of employees where hire_date> 01-01-07."
   ]
  },
  {
   "cell_type": "code",
   "execution_count": null,
   "metadata": {},
   "outputs": [],
   "source": []
  },
  {
   "cell_type": "markdown",
   "metadata": {},
   "source": [
    "**Q120.** Write a Pandas program to import excel data (employee.xlsx) into a Pandas dataframe and find a list of the employees of a specified year. "
   ]
  },
  {
   "cell_type": "code",
   "execution_count": null,
   "metadata": {},
   "outputs": [],
   "source": []
  },
  {
   "cell_type": "markdown",
   "metadata": {},
   "source": [
    "**Q121.** Write a pandas program to import three datasheets from a given excel data  (coalpublic2013.xlsx ) in to a single dataframe. <br>\n",
    "**Note:** Structure of three datasheets are same."
   ]
  },
  {
   "cell_type": "code",
   "execution_count": null,
   "metadata": {},
   "outputs": [],
   "source": []
  },
  {
   "cell_type": "markdown",
   "metadata": {},
   "source": [
    "**Q122.** Write a pandas program to import three datasheets from a given excel data (employee.xlsx ) into a single data frame and export the result into new Excel file. <br>\n",
    "**Note:** Structure of three datasheets are same."
   ]
  },
  {
   "cell_type": "code",
   "execution_count": null,
   "metadata": {},
   "outputs": [],
   "source": []
  },
  {
   "cell_type": "markdown",
   "metadata": {},
   "source": [
    "**Q123.** Write a pandas program to create the Pivot table with multiple indexes from the data set of the titanic.csv."
   ]
  },
  {
   "cell_type": "code",
   "execution_count": null,
   "metadata": {},
   "outputs": [],
   "source": []
  },
  {
   "cell_type": "markdown",
   "metadata": {},
   "source": [
    "**Q124.** Write a Pandas program to create the Pivot table and find survival rate by gender?"
   ]
  },
  {
   "cell_type": "code",
   "execution_count": null,
   "metadata": {},
   "outputs": [],
   "source": []
  },
  {
   "cell_type": "markdown",
   "metadata": {},
   "source": [
    "**Q125.** Write a pandas program to make partition each of the passengers into 4 categories based on their age. <br>\n",
    "**Note:** Age categories- (0, 10), (10, 30), (30, 60), (60, 80)"
   ]
  },
  {
   "cell_type": "code",
   "execution_count": null,
   "metadata": {},
   "outputs": [],
   "source": []
  },
  {
   "cell_type": "markdown",
   "metadata": {},
   "source": [
    "**Q126.** Write a pandas program to create the Pivot table and find survival rate by the gender, age of the different categories of various classes."
   ]
  },
  {
   "cell_type": "code",
   "execution_count": null,
   "metadata": {},
   "outputs": [],
   "source": []
  },
  {
   "cell_type": "markdown",
   "metadata": {},
   "source": [
    "**Q127.** Write a pandas program to create the Pivot table and calculate number of women and men were in a particular cabin class."
   ]
  },
  {
   "cell_type": "code",
   "execution_count": null,
   "metadata": {},
   "outputs": [],
   "source": []
  },
  {
   "cell_type": "markdown",
   "metadata": {},
   "source": [
    "**Q128.** Write a pandas program to create the Pivot table and separate the gender according to whether they travelled alone or not to get the probability of survival."
   ]
  },
  {
   "cell_type": "code",
   "execution_count": null,
   "metadata": {},
   "outputs": [],
   "source": []
  },
  {
   "cell_type": "markdown",
   "metadata": {},
   "source": [
    "**Q129.** Write a pandas program to create the Pivot table and find the probability of survival by class, gender, solo boarding, and the port of embarkation."
   ]
  },
  {
   "cell_type": "code",
   "execution_count": null,
   "metadata": {},
   "outputs": [],
   "source": []
  },
  {
   "cell_type": "markdown",
   "metadata": {},
   "source": [
    "**Q130.** Write a pandas program to get current date, oldest date and number of days between Current date and the oldest date of Ufo dataset."
   ]
  },
  {
   "cell_type": "code",
   "execution_count": null,
   "metadata": {},
   "outputs": [],
   "source": []
  },
  {
   "cell_type": "markdown",
   "metadata": {},
   "source": [
    "**Q131.** Write a pandas program to get all sighting days of the unidentified flying object (ufo) between 1950-10-10 and 1960-10-10."
   ]
  },
  {
   "cell_type": "code",
   "execution_count": null,
   "metadata": {},
   "outputs": [],
   "source": []
  },
  {
   "cell_type": "markdown",
   "metadata": {},
   "source": [
    "**Q132.** Write a Pandas program to extract the year, month, day, hour, minute, second, and weekday from unidentified flying object (UFO) reporting date."
   ]
  },
  {
   "cell_type": "code",
   "execution_count": null,
   "metadata": {},
   "outputs": [],
   "source": []
  },
  {
   "cell_type": "markdown",
   "metadata": {},
   "source": [
    "**Q133.** Write a pandas program to count year-country wise frequency of reporting dates of the unidentified flying object(UFO)."
   ]
  },
  {
   "cell_type": "code",
   "execution_count": null,
   "metadata": {},
   "outputs": [],
   "source": []
  },
  {
   "cell_type": "markdown",
   "metadata": {},
   "source": [
    "**Q134.** Write a pandas program to get the difference (in days) between documented date and reporting date of unidentified flying object (UFO)."
   ]
  },
  {
   "cell_type": "code",
   "execution_count": null,
   "metadata": {},
   "outputs": [],
   "source": []
  },
  {
   "cell_type": "markdown",
   "metadata": {},
   "source": [
    "**Q135.** Write a pandas program to generate sequences of fixedfrequency dates and time spans."
   ]
  },
  {
   "cell_type": "code",
   "execution_count": null,
   "metadata": {},
   "outputs": [],
   "source": []
  },
  {
   "cell_type": "markdown",
   "metadata": {},
   "source": [
    "**Q136.** Write a pandas program to manipulate and convert date times with timezone information."
   ]
  },
  {
   "cell_type": "code",
   "execution_count": null,
   "metadata": {},
   "outputs": [],
   "source": []
  },
  {
   "cell_type": "markdown",
   "metadata": {},
   "source": [
    "**Q137.** Write a pandas program to create the graphical analysis of UFO (unidentified flying object) Sightings year."
   ]
  },
  {
   "cell_type": "code",
   "execution_count": null,
   "metadata": {},
   "outputs": [],
   "source": []
  },
  {
   "cell_type": "markdown",
   "metadata": {},
   "source": [
    "**Q138.** Write a pandas program to create a comparison of the top 10 years in which the (UFO) was sighted VS each Month."
   ]
  },
  {
   "cell_type": "code",
   "execution_count": null,
   "metadata": {},
   "outputs": [],
   "source": []
  },
  {
   "cell_type": "markdown",
   "metadata": {},
   "source": [
    "**Q139.** Write a pandas program to create a heatmap (rectangular data as a colour-encoded matrix) for comparison of top 10 years in which (UFO ) was sighted VS each Month."
   ]
  },
  {
   "cell_type": "code",
   "execution_count": null,
   "metadata": {},
   "outputs": [],
   "source": []
  },
  {
   "cell_type": "markdown",
   "metadata": {},
   "source": [
    "**Q140.** Write a pandas program to create a Timewheel of Hour VS Year comparison of the top 10 years in which the (UFO) was sighted."
   ]
  },
  {
   "cell_type": "code",
   "execution_count": null,
   "metadata": {},
   "outputs": [],
   "source": []
  },
  {
   "cell_type": "markdown",
   "metadata": {},
   "source": [
    "**Q141.** Write a python program to draw the line using given axis values with the suitable label in the x-axis, y-axis, and a title. <br>\n",
    "The code snippet gives the output shown in the screenshot:\n",
    "![alt text](Img1.jpg)"
   ]
  },
  {
   "cell_type": "code",
   "execution_count": null,
   "metadata": {},
   "outputs": [],
   "source": []
  },
  {
   "cell_type": "code",
   "execution_count": null,
   "metadata": {},
   "outputs": [],
   "source": []
  },
  {
   "cell_type": "markdown",
   "metadata": {},
   "source": [
    "**Q142.** Write a python program to draw the line charts of the financial data of the Alphabet Inc., between October. 3, 2016 to October 7 2016. <br>\n",
    "Sample Financial data (fdata.csv)- <br>\n",
    "Date,Open,High,Low,Close <br>\n",
    "10-03-16,774.25,776.065002,769.5,772.559998 <br>\n",
    "10-04-16 , 776.030029, 778.710022,772.890015,776.429993 <br>\n",
    "10-05-16 , 779.309998, 782.070007,775.650024,776.469971 <br>\n",
    "10-06-16 , 779 , 780.47998,775.539978,776.859985 <br>\n",
    "10-07-16,779.659973, 779.659973 , 770.75 , 775.080017 <br>\n",
    "The code snippet gives the output shown in the screenshot: ![alt text](Img2.jpg)"
   ]
  },
  {
   "cell_type": "code",
   "execution_count": null,
   "metadata": {},
   "outputs": [],
   "source": []
  },
  {
   "cell_type": "markdown",
   "metadata": {},
   "source": [
    "**Q143.** Write a Python program to plot two or more lines on same plot with the suitable legends of each line. <br>\n",
    "The code snippet gives the output shown in the screenshot: ![alt text](Img3.jpg)"
   ]
  },
  {
   "cell_type": "code",
   "execution_count": null,
   "metadata": {},
   "outputs": [],
   "source": []
  },
  {
   "cell_type": "markdown",
   "metadata": {},
   "source": [
    "**Q144.** Write a python programming to display a bar chart of the popularity of programming languages. <br>\n",
    "Sample data: <br>\n",
    "programming languages- Java, Python, PHP, JavaScript, C#, C++ <br>\n",
    "Popularity- 22.2, 17.6, 8.8, 8, 7.7 , 6.7 <br>\n",
    "The code snippet gives the output shown in the screenshot: ![alt text](Img4.jpg)"
   ]
  },
  {
   "cell_type": "code",
   "execution_count": null,
   "metadata": {},
   "outputs": [],
   "source": []
  },
  {
   "cell_type": "markdown",
   "metadata": {},
   "source": [
    "**Q145.** Write a python programming to display a horizontal bar chart of the popularity of programming languages. <br>\n",
    "Sample data: <br>\n",
    "programming languages- Java, Python, PHP, JavaScript, C#, C++ <br>\n",
    "Popularity- 22.2, 17.6, 8.8, 8, 7.7 , 6.7 <br>\n",
    "The code snippet gives the output shown in the screenshot: ![alt text](Img5.jpg)"
   ]
  },
  {
   "cell_type": "code",
   "execution_count": null,
   "metadata": {},
   "outputs": [],
   "source": []
  },
  {
   "cell_type": "markdown",
   "metadata": {},
   "source": [
    "**Q146.** Write a python programming to display a bar chart of the Popularity of programming languages. Increase bottom margin. <br>\n",
    "Sample data: <br>\n",
    "programming languages: Java, Python, PHP, JavaScript, C#, C++ <br>\n",
    "Popularity: 22.2, 17.6, 8.8, 8, 7.7 , 6.7 <br>\n",
    "The code snippet gives the output shown in the screenshot:  ![alt text](Img6.jpg)"
   ]
  },
  {
   "cell_type": "code",
   "execution_count": null,
   "metadata": {},
   "outputs": [],
   "source": []
  },
  {
   "cell_type": "markdown",
   "metadata": {},
   "source": [
    "**Q147.** Write a python program to create the bar plot from a DataFrame. <br>\n",
    "a b c d e <br>\n",
    "2 4,8,5,7,6 <br>\n",
    "4 2,3,4,2,6 <br>\n",
    "6 4,7,4,7, 8 <br>\n",
    "8 2,6,4,8, 6 <br>\n",
    "10 2,4,3,3, 2 <br>\n",
    "The code snippet gives the output shown in the following screenshot:![alt text](Img7.jpg)"
   ]
  },
  {
   "cell_type": "code",
   "execution_count": null,
   "metadata": {},
   "outputs": [],
   "source": []
  },
  {
   "cell_type": "markdown",
   "metadata": {},
   "source": [
    "**Q148.** Write a python program to draw the scatter plot comparing two subject marks of Mathematics and Science. Use marks of 10 students. <br>\n",
    "Sample data: <br>\n",
    "Test Datamath_marks = [88, 92 , 80, 89, 100, 80, 60, 100, 80, 34] <br>\n",
    "science_marks = [35, 79, 79 , 48, 100, 88, 32, 45, 20, 30] <br>\n",
    "marks_range = [10, 20, 30, 40, 50, 60, 70, 80, 90, 100] \n",
    "![alt text](Img8.jpg)"
   ]
  },
  {
   "cell_type": "code",
   "execution_count": null,
   "metadata": {},
   "outputs": [],
   "source": []
  },
  {
   "cell_type": "markdown",
   "metadata": {},
   "source": [
    "**Q149.** Write a python program to draw the scatter plot for three different groups comparing weights and heights. <br>\n",
    "The output shown in the screenshot:![alt text](Img9.jpg)"
   ]
  },
  {
   "cell_type": "code",
   "execution_count": null,
   "metadata": {},
   "outputs": [],
   "source": []
  },
  {
   "cell_type": "markdown",
   "metadata": {},
   "source": [
    "**Q150.** Write a python program to draw a scatter plot to find sea-level rise in past 100 years. <br>\n",
    "The output shown in the screenshot: ![alt text](Img11.jpg)"
   ]
  },
  {
   "cell_type": "code",
   "execution_count": null,
   "metadata": {},
   "outputs": [],
   "source": []
  }
 ],
 "metadata": {
  "kernelspec": {
   "display_name": "Python 3",
   "language": "python",
   "name": "python3"
  },
  "language_info": {
   "codemirror_mode": {
    "name": "ipython",
    "version": 3
   },
   "file_extension": ".py",
   "mimetype": "text/x-python",
   "name": "python",
   "nbconvert_exporter": "python",
   "pygments_lexer": "ipython3",
   "version": "3.7.3"
  }
 },
 "nbformat": 4,
 "nbformat_minor": 4
}
